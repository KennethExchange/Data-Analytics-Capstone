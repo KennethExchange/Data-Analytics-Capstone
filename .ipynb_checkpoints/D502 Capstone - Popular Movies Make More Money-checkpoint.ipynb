{
 "cells": [
  {
   "cell_type": "markdown",
   "metadata": {
    "id": "GNIwe5N7s0e_"
   },
   "source": [
    "# Real-world Data Wrangling"
   ]
  },
  {
   "cell_type": "markdown",
   "metadata": {
    "id": "_BG63Tpg8ep_"
   },
   "source": [
    "In this project, you will apply the skills you acquired in the course to gather and wrangle real-world data with two datasets of your choice.\n",
    "\n",
    "You will retrieve and extract the data, assess the data programmatically and visually, accross elements of data quality and structure, and implement a cleaning strategy for the data. You will then store the updated data into your selected database/data store, combine the data, and answer a research question with the datasets.\n",
    "\n",
    "Throughout the process, you are expected to:\n",
    "\n",
    "1. Explain your decisions towards methods used for gathering, assessing, cleaning, storing, and answering the research question\n",
    "2. Write code comments so your code is more readable"
   ]
  },
  {
   "cell_type": "markdown",
   "metadata": {
    "id": "lDYDkH-Zs7Nn"
   },
   "source": [
    "## 1. Gather data\n",
    "\n",
    "In this section, you will extract data using two different data gathering methods and combine the data. Use at least two different types of data-gathering methods."
   ]
  },
  {
   "cell_type": "markdown",
   "metadata": {
    "id": "LbN7z7rcuqpO"
   },
   "source": [
    "### **1.1.** Problem Statement\n",
    "In 2-4 sentences, explain the kind of problem you want to look at and the datasets you will be wrangling for this project.\n",
    "\n",
    "I want to identify if the movies with the highest reviews generate the highest overall revenue.  I plan to use openly available datasets noting the overal revenue of movies compared to their viewer ratings. I have found two datasets:  one dataset containing movie rating information and one containing movie revenue information.\n",
    "\n",
    "I have found the following datasets which I intend to us for this project:\n",
    "\n",
    "1.  From OpenML:  Detailed movie descriptions - ideal for Recommendation Engines\n",
    "    Website:  https://www.openml.org/search?type=data&status=active&id=43113\n",
    "    Link to  data:  https://www.openml.org/data/download/22047889/dataset\n",
    "2.  From OpenML:  This dataset contains IMDb ratings and votes information for movies having original title.\n",
    "    Website:  https://www.openml.org/search?type=data&sort=runs&id=43784&status=active\n",
    "    Link to data:  https://www.openml.org/data/download/22102609/dataset\n",
    "\n"
   ]
  },
  {
   "cell_type": "markdown",
   "metadata": {
    "id": "gi6swhjSYqu2"
   },
   "source": [
    "Finding the right datasets can be time-consuming. Here we provide you with a list of websites to start with. But we encourage you to explore more websites and find the data that interests you.\n",
    "\n",
    "* Google Dataset Search https://datasetsearch.research.google.com/\n",
    "* The U.S. Government’s open data https://data.gov/\n",
    "* UCI Machine Learning Repository https://archive.ics.uci.edu/ml/index.php\n"
   ]
  },
  {
   "cell_type": "markdown",
   "metadata": {
    "id": "8AQfBAdUypMm"
   },
   "source": [
    "### **1.2.** Gather at least two datasets using two different data gathering methods\n",
    "\n",
    "List of data gathering methods:\n",
    "\n",
    "- Download data manually\n",
    "- Programmatically downloading files\n",
    "- Gather data by accessing APIs\n",
    "- Gather and extract data from HTML files using BeautifulSoup\n",
    "- Extract data from a SQL database\n",
    "\n",
    "Each dataset must have at least two variables, and have greater than 500 data samples within each dataset.\n",
    "\n",
    "For each dataset, briefly describe why you picked the dataset and the gathering method (2-3 full sentences), including the names and significance of the variables in the dataset. Show your work (e.g., if using an API to download the data, please include a snippet of your code). \n",
    "\n",
    "Load the dataset programmtically into this notebook."
   ]
  },
  {
   "cell_type": "markdown",
   "metadata": {
    "id": "7e6gS0wL1KTu"
   },
   "source": [
    "#### **Dataset 1**\n",
    "\n",
    "Type: CSV File\n",
    "\n",
    "Method: The data was gathered programatially from OpenML.\n",
    "\n",
    "Dataset variables:\n",
    "* index INTEGER\n",
    "* genres STRING\n",
    "* id INTEGER\n",
    "* keywords STRING\n",
    "* original_title STRING\n",
    "* release_date STRING\n",
    "* revenue INTEGER\n",
    "* status STRING\n",
    "* title STRING\n",
    "* cast STRING\n",
    "* director STRING\n",
    "\n",
    "From OpenML:  This dataset contains IMDb ratings and votes information for movies having original title.\n",
    "* Website:  https://www.openml.org/search?type=data&sort=runs&id=43784&status=active\n",
    "* Link to data:  https://www.openml.org/data/download/22102609/dataset\n",
    "\n",
    "This dataset contains information related to movie genres, release dates, titles, directors, and revenue.\n"
   ]
  },
  {
   "cell_type": "code",
   "metadata": {
    "id": "Su8E0uLuYkHU",
    "jupyter": {
     "is_executing": true
    }
   },
   "source": [
    "import pandas as pd\n",
    "import json\n",
    "import requests\n",
    "import os\n",
    "import glob\n",
    "import zipfile\n"
   ],
   "outputs": [],
   "execution_count": null
  },
  {
   "cell_type": "code",
   "execution_count": 128,
   "metadata": {},
   "outputs": [],
   "source": [
    "# I am creating a folder to contain the downloaded datasets.\n",
    "\n",
    "folder_name = 'Movies_Datasets_from_Sources'\n",
    "if not os.path.exists(folder_name):\n",
    "    os.makedirs(folder_name)"
   ]
  },
  {
   "cell_type": "code",
   "execution_count": 129,
   "metadata": {},
   "outputs": [],
   "source": [
    "url = ('https://www.openml.org/data/download/22047889/dataset')"
   ]
  },
  {
   "cell_type": "code",
   "execution_count": 130,
   "metadata": {},
   "outputs": [],
   "source": [
    "response = requests.get(url)\n",
    "response.raise_for_status()"
   ]
  },
  {
   "cell_type": "code",
   "execution_count": 131,
   "metadata": {},
   "outputs": [
    {
     "name": "stdout",
     "output_type": "stream",
     "text": [
      "Movies_Datasets_from_Sources/movie_revenue_dataset.txt\n"
     ]
    }
   ],
   "source": [
    "file_path = os.path.join(folder_name, 'movie_revenue_dataset.txt')\n",
    "\n",
    "print(file_path)\n",
    "\n",
    "with open(file_path, mode = 'wb') as file:\n",
    "    file.write(response.content)"
   ]
  },
  {
   "cell_type": "code",
   "execution_count": 132,
   "metadata": {},
   "outputs": [
    {
     "data": {
      "text/plain": [
       "['movie_review_data.txt', 'movie_revenue_dataset.txt']"
      ]
     },
     "execution_count": 132,
     "metadata": {},
     "output_type": "execute_result"
    }
   ],
   "source": [
    "os.listdir(folder_name)"
   ]
  },
  {
   "cell_type": "code",
   "execution_count": 133,
   "metadata": {},
   "outputs": [],
   "source": [
    "bad_lines = []\n",
    "\n",
    "def bad_lines_logger(x):\n",
    "    bad_lines.append(int(x[0]))\n",
    "    return\n",
    "  "
   ]
  },
  {
   "cell_type": "code",
   "execution_count": 134,
   "metadata": {},
   "outputs": [],
   "source": [
    "column_names=['index', 'genres', 'id', 'keywords', 'original_title', 'release_date', 'revenue', 'status', 'title', 'cast', 'director']\n",
    "\n",
    "# Note:  The first 16 rows are a description of the dataset.\n",
    "\n",
    "movie_revenue_df = pd.read_csv(file_path, header=None, names=column_names, \n",
    "                      skiprows=16,\n",
    "                      dtype={'index' :'str',\n",
    "                            'genres':'str',\n",
    "                            'id':'str',\n",
    "                            'keywords':'str',\n",
    "                            'original_title':'str',\n",
    "                            'release_date' : 'str',\n",
    "                            'revenue':'str',\n",
    "                            'status':'str',\n",
    "                            'title':'str',\n",
    "                            'cast':'str',\n",
    "                            'director':'str'},\n",
    "                      index_col = None, \n",
    "                      on_bad_lines = bad_lines_logger,\n",
    "                      engine='python')"
   ]
  },
  {
   "cell_type": "code",
   "execution_count": 135,
   "metadata": {},
   "outputs": [
    {
     "name": "stdout",
     "output_type": "stream",
     "text": [
      "<class 'pandas.core.frame.DataFrame'>\n",
      "RangeIndex: 4716 entries, 0 to 4715\n",
      "Data columns (total 11 columns):\n",
      " #   Column          Non-Null Count  Dtype \n",
      "---  ------          --------------  ----- \n",
      " 0   index           4716 non-null   object\n",
      " 1   genres          4716 non-null   object\n",
      " 2   id              4716 non-null   object\n",
      " 3   keywords        4716 non-null   object\n",
      " 4   original_title  4716 non-null   object\n",
      " 5   release_date    4716 non-null   object\n",
      " 6   revenue         4716 non-null   object\n",
      " 7   status          4716 non-null   object\n",
      " 8   title           4716 non-null   object\n",
      " 9   cast            4716 non-null   object\n",
      " 10  director        4716 non-null   object\n",
      "dtypes: object(11)\n",
      "memory usage: 405.4+ KB\n"
     ]
    }
   ],
   "source": [
    "movie_revenue_df.info()"
   ]
  },
  {
   "cell_type": "code",
   "execution_count": 136,
   "metadata": {},
   "outputs": [
    {
     "data": {
      "text/plain": [
       "87"
      ]
     },
     "execution_count": 136,
     "metadata": {},
     "output_type": "execute_result"
    }
   ],
   "source": [
    "len(bad_lines)"
   ]
  },
  {
   "cell_type": "markdown",
   "metadata": {},
   "source": [
    "There are 67 of 4715 rows of data which could not be correctly read into the dataframe.  I am accepting this loss of 1.4% of the data as it should not negatively affect the answer of my original question."
   ]
  },
  {
   "cell_type": "code",
   "execution_count": 137,
   "metadata": {},
   "outputs": [
    {
     "data": {
      "text/html": [
       "<div>\n",
       "<style scoped>\n",
       "    .dataframe tbody tr th:only-of-type {\n",
       "        vertical-align: middle;\n",
       "    }\n",
       "\n",
       "    .dataframe tbody tr th {\n",
       "        vertical-align: top;\n",
       "    }\n",
       "\n",
       "    .dataframe thead th {\n",
       "        text-align: right;\n",
       "    }\n",
       "</style>\n",
       "<table border=\"1\" class=\"dataframe\">\n",
       "  <thead>\n",
       "    <tr style=\"text-align: right;\">\n",
       "      <th></th>\n",
       "      <th>index</th>\n",
       "      <th>genres</th>\n",
       "      <th>id</th>\n",
       "      <th>keywords</th>\n",
       "      <th>original_title</th>\n",
       "      <th>release_date</th>\n",
       "      <th>revenue</th>\n",
       "      <th>status</th>\n",
       "      <th>title</th>\n",
       "      <th>cast</th>\n",
       "      <th>director</th>\n",
       "    </tr>\n",
       "  </thead>\n",
       "  <tbody>\n",
       "    <tr>\n",
       "      <th>0</th>\n",
       "      <td>0</td>\n",
       "      <td>'Action Adventure Fantasy Science Fiction'</td>\n",
       "      <td>19995</td>\n",
       "      <td>'culture clash future space war space colony s...</td>\n",
       "      <td>Avatar</td>\n",
       "      <td>2009-12-10</td>\n",
       "      <td>2787965087</td>\n",
       "      <td>Released</td>\n",
       "      <td>Avatar</td>\n",
       "      <td>'Sam Worthington Zoe Saldana Sigourney Weaver ...</td>\n",
       "      <td>'James Cameron'</td>\n",
       "    </tr>\n",
       "    <tr>\n",
       "      <th>1</th>\n",
       "      <td>1</td>\n",
       "      <td>'Adventure Fantasy Action'</td>\n",
       "      <td>285</td>\n",
       "      <td>'ocean drug abuse exotic island east india tra...</td>\n",
       "      <td>'Pirates of the Caribbean: At World\\'s End'</td>\n",
       "      <td>2007-05-19</td>\n",
       "      <td>961000000</td>\n",
       "      <td>Released</td>\n",
       "      <td>'Pirates of the Caribbean: At World\\'s End'</td>\n",
       "      <td>'Johnny Depp Orlando Bloom Keira Knightley Ste...</td>\n",
       "      <td>'Gore Verbinski'</td>\n",
       "    </tr>\n",
       "    <tr>\n",
       "      <th>2</th>\n",
       "      <td>2</td>\n",
       "      <td>'Action Adventure Crime'</td>\n",
       "      <td>206647</td>\n",
       "      <td>'spy based on novel secret agent sequel mi6'</td>\n",
       "      <td>Spectre</td>\n",
       "      <td>2015-10-26</td>\n",
       "      <td>880674609</td>\n",
       "      <td>Released</td>\n",
       "      <td>Spectre</td>\n",
       "      <td>'Daniel Craig Christoph Waltz L\\\\u00e9a Seydou...</td>\n",
       "      <td>'Sam Mendes'</td>\n",
       "    </tr>\n",
       "    <tr>\n",
       "      <th>3</th>\n",
       "      <td>3</td>\n",
       "      <td>'Action Crime Drama Thriller'</td>\n",
       "      <td>49026</td>\n",
       "      <td>'dc comics crime fighter terrorist secret iden...</td>\n",
       "      <td>'The Dark Knight Rises'</td>\n",
       "      <td>2012-07-16</td>\n",
       "      <td>1084939099</td>\n",
       "      <td>Released</td>\n",
       "      <td>'The Dark Knight Rises'</td>\n",
       "      <td>'Christian Bale Michael Caine Gary Oldman Anne...</td>\n",
       "      <td>'Christopher Nolan'</td>\n",
       "    </tr>\n",
       "    <tr>\n",
       "      <th>4</th>\n",
       "      <td>4</td>\n",
       "      <td>'Action Adventure Science Fiction'</td>\n",
       "      <td>49529</td>\n",
       "      <td>'based on novel mars medallion space travel pr...</td>\n",
       "      <td>'John Carter'</td>\n",
       "      <td>2012-03-07</td>\n",
       "      <td>284139100</td>\n",
       "      <td>Released</td>\n",
       "      <td>'John Carter'</td>\n",
       "      <td>'Taylor Kitsch Lynn Collins Samantha Morton Wi...</td>\n",
       "      <td>'Andrew Stanton'</td>\n",
       "    </tr>\n",
       "    <tr>\n",
       "      <th>...</th>\n",
       "      <td>...</td>\n",
       "      <td>...</td>\n",
       "      <td>...</td>\n",
       "      <td>...</td>\n",
       "      <td>...</td>\n",
       "      <td>...</td>\n",
       "      <td>...</td>\n",
       "      <td>...</td>\n",
       "      <td>...</td>\n",
       "      <td>...</td>\n",
       "      <td>...</td>\n",
       "    </tr>\n",
       "    <tr>\n",
       "      <th>4711</th>\n",
       "      <td>4797</td>\n",
       "      <td>'Foreign Thriller'</td>\n",
       "      <td>67238</td>\n",
       "      <td>?</td>\n",
       "      <td>Cavite</td>\n",
       "      <td>2005-03-12</td>\n",
       "      <td>0</td>\n",
       "      <td>Released</td>\n",
       "      <td>Cavite</td>\n",
       "      <td>?</td>\n",
       "      <td>'Neill Dela Llana'</td>\n",
       "    </tr>\n",
       "    <tr>\n",
       "      <th>4712</th>\n",
       "      <td>4798</td>\n",
       "      <td>'Action Crime Thriller'</td>\n",
       "      <td>9367</td>\n",
       "      <td>'united states\\\\u2013mexico barrier legs arms ...</td>\n",
       "      <td>'El Mariachi'</td>\n",
       "      <td>1992-09-04</td>\n",
       "      <td>2040920</td>\n",
       "      <td>Released</td>\n",
       "      <td>'El Mariachi'</td>\n",
       "      <td>'Carlos Gallardo Jaime de Hoyos Peter Marquard...</td>\n",
       "      <td>'Robert Rodriguez'</td>\n",
       "    </tr>\n",
       "    <tr>\n",
       "      <th>4713</th>\n",
       "      <td>4799</td>\n",
       "      <td>'Comedy Romance'</td>\n",
       "      <td>72766</td>\n",
       "      <td>?</td>\n",
       "      <td>Newlyweds</td>\n",
       "      <td>2011-12-26</td>\n",
       "      <td>0</td>\n",
       "      <td>Released</td>\n",
       "      <td>Newlyweds</td>\n",
       "      <td>'Edward Burns Kerry Bish\\\\u00e9 Marsha Dietlei...</td>\n",
       "      <td>'Edward Burns'</td>\n",
       "    </tr>\n",
       "    <tr>\n",
       "      <th>4714</th>\n",
       "      <td>4801</td>\n",
       "      <td>?</td>\n",
       "      <td>126186</td>\n",
       "      <td>?</td>\n",
       "      <td>'Shanghai Calling'</td>\n",
       "      <td>2012-05-03</td>\n",
       "      <td>0</td>\n",
       "      <td>Released</td>\n",
       "      <td>'Shanghai Calling'</td>\n",
       "      <td>'Daniel Henney Eliza Coupe Bill Paxton Alan Ru...</td>\n",
       "      <td>'Daniel Hsia'</td>\n",
       "    </tr>\n",
       "    <tr>\n",
       "      <th>4715</th>\n",
       "      <td>4802</td>\n",
       "      <td>Documentary</td>\n",
       "      <td>25975</td>\n",
       "      <td>'obsession camcorder crush dream girl'</td>\n",
       "      <td>'My Date with Drew'</td>\n",
       "      <td>2005-08-05</td>\n",
       "      <td>0</td>\n",
       "      <td>Released</td>\n",
       "      <td>'My Date with Drew'</td>\n",
       "      <td>'Drew Barrymore Brian Herzlinger Corey Feldman...</td>\n",
       "      <td>'Brian Herzlinger'</td>\n",
       "    </tr>\n",
       "  </tbody>\n",
       "</table>\n",
       "<p>4716 rows × 11 columns</p>\n",
       "</div>"
      ],
      "text/plain": [
       "     index                                      genres      id  \\\n",
       "0        0  'Action Adventure Fantasy Science Fiction'   19995   \n",
       "1        1                  'Adventure Fantasy Action'     285   \n",
       "2        2                    'Action Adventure Crime'  206647   \n",
       "3        3               'Action Crime Drama Thriller'   49026   \n",
       "4        4          'Action Adventure Science Fiction'   49529   \n",
       "...    ...                                         ...     ...   \n",
       "4711  4797                          'Foreign Thriller'   67238   \n",
       "4712  4798                     'Action Crime Thriller'    9367   \n",
       "4713  4799                            'Comedy Romance'   72766   \n",
       "4714  4801                                           ?  126186   \n",
       "4715  4802                                 Documentary   25975   \n",
       "\n",
       "                                               keywords  \\\n",
       "0     'culture clash future space war space colony s...   \n",
       "1     'ocean drug abuse exotic island east india tra...   \n",
       "2          'spy based on novel secret agent sequel mi6'   \n",
       "3     'dc comics crime fighter terrorist secret iden...   \n",
       "4     'based on novel mars medallion space travel pr...   \n",
       "...                                                 ...   \n",
       "4711                                                  ?   \n",
       "4712  'united states\\\\u2013mexico barrier legs arms ...   \n",
       "4713                                                  ?   \n",
       "4714                                                  ?   \n",
       "4715             'obsession camcorder crush dream girl'   \n",
       "\n",
       "                                   original_title release_date     revenue  \\\n",
       "0                                          Avatar   2009-12-10  2787965087   \n",
       "1     'Pirates of the Caribbean: At World\\'s End'   2007-05-19   961000000   \n",
       "2                                         Spectre   2015-10-26   880674609   \n",
       "3                         'The Dark Knight Rises'   2012-07-16  1084939099   \n",
       "4                                   'John Carter'   2012-03-07   284139100   \n",
       "...                                           ...          ...         ...   \n",
       "4711                                       Cavite   2005-03-12           0   \n",
       "4712                                'El Mariachi'   1992-09-04     2040920   \n",
       "4713                                    Newlyweds   2011-12-26           0   \n",
       "4714                           'Shanghai Calling'   2012-05-03           0   \n",
       "4715                          'My Date with Drew'   2005-08-05           0   \n",
       "\n",
       "        status                                        title  \\\n",
       "0     Released                                       Avatar   \n",
       "1     Released  'Pirates of the Caribbean: At World\\'s End'   \n",
       "2     Released                                      Spectre   \n",
       "3     Released                      'The Dark Knight Rises'   \n",
       "4     Released                                'John Carter'   \n",
       "...        ...                                          ...   \n",
       "4711  Released                                       Cavite   \n",
       "4712  Released                                'El Mariachi'   \n",
       "4713  Released                                    Newlyweds   \n",
       "4714  Released                           'Shanghai Calling'   \n",
       "4715  Released                          'My Date with Drew'   \n",
       "\n",
       "                                                   cast             director  \n",
       "0     'Sam Worthington Zoe Saldana Sigourney Weaver ...      'James Cameron'  \n",
       "1     'Johnny Depp Orlando Bloom Keira Knightley Ste...     'Gore Verbinski'  \n",
       "2     'Daniel Craig Christoph Waltz L\\\\u00e9a Seydou...         'Sam Mendes'  \n",
       "3     'Christian Bale Michael Caine Gary Oldman Anne...  'Christopher Nolan'  \n",
       "4     'Taylor Kitsch Lynn Collins Samantha Morton Wi...     'Andrew Stanton'  \n",
       "...                                                 ...                  ...  \n",
       "4711                                                  ?   'Neill Dela Llana'  \n",
       "4712  'Carlos Gallardo Jaime de Hoyos Peter Marquard...   'Robert Rodriguez'  \n",
       "4713  'Edward Burns Kerry Bish\\\\u00e9 Marsha Dietlei...       'Edward Burns'  \n",
       "4714  'Daniel Henney Eliza Coupe Bill Paxton Alan Ru...        'Daniel Hsia'  \n",
       "4715  'Drew Barrymore Brian Herzlinger Corey Feldman...   'Brian Herzlinger'  \n",
       "\n",
       "[4716 rows x 11 columns]"
      ]
     },
     "execution_count": 137,
     "metadata": {},
     "output_type": "execute_result"
    }
   ],
   "source": [
    "movie_revenue_df"
   ]
  },
  {
   "cell_type": "markdown",
   "metadata": {
    "id": "hoUjq1tPzz7P"
   },
   "source": [
    "#### Dataset 2\n",
    "\n",
    "Type: CSV File.\n",
    "\n",
    "Method: Download data manually from OpenML and placed into the Movies_Datasets_from_Sources folder.\n",
    "\n",
    "Dataset variables:\n",
    "\n",
    "* Unnamed:_0 INTEGER\n",
    "* titleId STRING\n",
    "* title STRING\n",
    "* averageRating REAL\n",
    "* numVotes INTEGER\n",
    "\n",
    " From OpenML:  Detailed movie descriptions - ideal for Recommendation Engines\n",
    "* Website:  https://www.openml.org/search?type=data&status=active&id=43113\n",
    "* Link to  data:  https://www.openml.org/data/download/22047889/dataset\n",
    "\n",
    "This dataset contains information related to movie ratings."
   ]
  },
  {
   "cell_type": "code",
   "execution_count": 138,
   "metadata": {},
   "outputs": [],
   "source": [
    "#I am creating a method to identify rows skipped during reading.\n",
    "bad_rows = []\n",
    "\n",
    "def bad_line_logger(x):\n",
    "    bad_rows.append(int(x[0]))\n",
    "    return \n",
    "    "
   ]
  },
  {
   "cell_type": "code",
   "execution_count": 139,
   "metadata": {},
   "outputs": [],
   "source": [
    "column_names=['index', 'titelId', 'title', 'averageRating', 'numVotes'] \n",
    "\n",
    "# Note:  The first 22 rows are a description of the dataset.\n",
    "source = 'Movies_Datasets_from_Sources/movie_review_data.txt'\n",
    "movie_review_df = pd.read_csv(source, header=None, names=column_names, \n",
    "                      skiprows=22,\n",
    "                      dtype={'index' :'str',\n",
    "                            'titleId':'str',\n",
    "                            'title':'str',\n",
    "                            'averageRating':'str',\n",
    "                            'numVotes':'str'},\n",
    "                      index_col = None, \n",
    "                      on_bad_lines = bad_line_logger,\n",
    "                      engine='python')\n"
   ]
  },
  {
   "cell_type": "code",
   "execution_count": 140,
   "metadata": {},
   "outputs": [
    {
     "name": "stdout",
     "output_type": "stream",
     "text": [
      "<class 'pandas.core.frame.DataFrame'>\n",
      "RangeIndex: 65584 entries, 0 to 65583\n",
      "Data columns (total 5 columns):\n",
      " #   Column         Non-Null Count  Dtype \n",
      "---  ------         --------------  ----- \n",
      " 0   index          65584 non-null  object\n",
      " 1   titelId        65584 non-null  object\n",
      " 2   title          65584 non-null  object\n",
      " 3   averageRating  65584 non-null  object\n",
      " 4   numVotes       65584 non-null  object\n",
      "dtypes: object(5)\n",
      "memory usage: 2.5+ MB\n"
     ]
    }
   ],
   "source": [
    "movie_review_df.info()"
   ]
  },
  {
   "cell_type": "code",
   "execution_count": 141,
   "metadata": {},
   "outputs": [
    {
     "data": {
      "text/html": [
       "<div>\n",
       "<style scoped>\n",
       "    .dataframe tbody tr th:only-of-type {\n",
       "        vertical-align: middle;\n",
       "    }\n",
       "\n",
       "    .dataframe tbody tr th {\n",
       "        vertical-align: top;\n",
       "    }\n",
       "\n",
       "    .dataframe thead th {\n",
       "        text-align: right;\n",
       "    }\n",
       "</style>\n",
       "<table border=\"1\" class=\"dataframe\">\n",
       "  <thead>\n",
       "    <tr style=\"text-align: right;\">\n",
       "      <th></th>\n",
       "      <th>index</th>\n",
       "      <th>titelId</th>\n",
       "      <th>title</th>\n",
       "      <th>averageRating</th>\n",
       "      <th>numVotes</th>\n",
       "    </tr>\n",
       "  </thead>\n",
       "  <tbody>\n",
       "    <tr>\n",
       "      <th>0</th>\n",
       "      <td>0</td>\n",
       "      <td>tt0000001</td>\n",
       "      <td>Carmencita</td>\n",
       "      <td>5.7</td>\n",
       "      <td>1676</td>\n",
       "    </tr>\n",
       "    <tr>\n",
       "      <th>1</th>\n",
       "      <td>1</td>\n",
       "      <td>tt0000002</td>\n",
       "      <td>'Le clown et ses chiens'</td>\n",
       "      <td>6.1</td>\n",
       "      <td>208</td>\n",
       "    </tr>\n",
       "    <tr>\n",
       "      <th>2</th>\n",
       "      <td>2</td>\n",
       "      <td>tt0000003</td>\n",
       "      <td>'Pauvre Pierrot'</td>\n",
       "      <td>6.5</td>\n",
       "      <td>1404</td>\n",
       "    </tr>\n",
       "    <tr>\n",
       "      <th>3</th>\n",
       "      <td>3</td>\n",
       "      <td>tt0000004</td>\n",
       "      <td>'Un bon bock'</td>\n",
       "      <td>6.2</td>\n",
       "      <td>123</td>\n",
       "    </tr>\n",
       "    <tr>\n",
       "      <th>4</th>\n",
       "      <td>4</td>\n",
       "      <td>tt0000005</td>\n",
       "      <td>'Blacksmith Scene'</td>\n",
       "      <td>6.2</td>\n",
       "      <td>2200</td>\n",
       "    </tr>\n",
       "    <tr>\n",
       "      <th>...</th>\n",
       "      <td>...</td>\n",
       "      <td>...</td>\n",
       "      <td>...</td>\n",
       "      <td>...</td>\n",
       "      <td>...</td>\n",
       "    </tr>\n",
       "    <tr>\n",
       "      <th>65579</th>\n",
       "      <td>67404</td>\n",
       "      <td>tt9916270</td>\n",
       "      <td>'Il talento del calabrone'</td>\n",
       "      <td>5.7</td>\n",
       "      <td>853</td>\n",
       "    </tr>\n",
       "    <tr>\n",
       "      <th>65580</th>\n",
       "      <td>67405</td>\n",
       "      <td>tt9916362</td>\n",
       "      <td>Akelarre</td>\n",
       "      <td>5.8</td>\n",
       "      <td>199</td>\n",
       "    </tr>\n",
       "    <tr>\n",
       "      <th>65581</th>\n",
       "      <td>67406</td>\n",
       "      <td>tt9916428</td>\n",
       "      <td>'Hong xing zhao yao Zhong guo'</td>\n",
       "      <td>3.8</td>\n",
       "      <td>12</td>\n",
       "    </tr>\n",
       "    <tr>\n",
       "      <th>65582</th>\n",
       "      <td>67407</td>\n",
       "      <td>tt9916460</td>\n",
       "      <td>'Pink Taxi'</td>\n",
       "      <td>9.2</td>\n",
       "      <td>12</td>\n",
       "    </tr>\n",
       "    <tr>\n",
       "      <th>65583</th>\n",
       "      <td>67408</td>\n",
       "      <td>tt9916720</td>\n",
       "      <td>'The Nun 2'</td>\n",
       "      <td>6.2</td>\n",
       "      <td>72</td>\n",
       "    </tr>\n",
       "  </tbody>\n",
       "</table>\n",
       "<p>65584 rows × 5 columns</p>\n",
       "</div>"
      ],
      "text/plain": [
       "       index    titelId                           title averageRating numVotes\n",
       "0          0  tt0000001                      Carmencita           5.7     1676\n",
       "1          1  tt0000002        'Le clown et ses chiens'           6.1      208\n",
       "2          2  tt0000003                'Pauvre Pierrot'           6.5     1404\n",
       "3          3  tt0000004                   'Un bon bock'           6.2      123\n",
       "4          4  tt0000005              'Blacksmith Scene'           6.2     2200\n",
       "...      ...        ...                             ...           ...      ...\n",
       "65579  67404  tt9916270      'Il talento del calabrone'           5.7      853\n",
       "65580  67405  tt9916362                        Akelarre           5.8      199\n",
       "65581  67406  tt9916428  'Hong xing zhao yao Zhong guo'           3.8       12\n",
       "65582  67407  tt9916460                     'Pink Taxi'           9.2       12\n",
       "65583  67408  tt9916720                     'The Nun 2'           6.2       72\n",
       "\n",
       "[65584 rows x 5 columns]"
      ]
     },
     "execution_count": 141,
     "metadata": {},
     "output_type": "execute_result"
    }
   ],
   "source": [
    "movie_review_df"
   ]
  },
  {
   "cell_type": "code",
   "execution_count": 142,
   "metadata": {},
   "outputs": [
    {
     "data": {
      "text/plain": [
       "1824"
      ]
     },
     "execution_count": 142,
     "metadata": {},
     "output_type": "execute_result"
    }
   ],
   "source": [
    "# bad_rows records which rows were skipped in the reading process.\n",
    "len(bad_rows)"
   ]
  },
  {
   "cell_type": "markdown",
   "metadata": {},
   "source": [
    "There are 1824 of 67408 rows of data which could not be correctly read into the dataframe.  I accept this loss of 2.7% of the data as while it could negatively affect the answer of my original question, I believe the question will remain answered with the 97.3% of the data which was correctly read into the dataframe.  "
   ]
  },
  {
   "cell_type": "code",
   "execution_count": 143,
   "metadata": {},
   "outputs": [
    {
     "data": {
      "text/html": [
       "<div>\n",
       "<style scoped>\n",
       "    .dataframe tbody tr th:only-of-type {\n",
       "        vertical-align: middle;\n",
       "    }\n",
       "\n",
       "    .dataframe tbody tr th {\n",
       "        vertical-align: top;\n",
       "    }\n",
       "\n",
       "    .dataframe thead th {\n",
       "        text-align: right;\n",
       "    }\n",
       "</style>\n",
       "<table border=\"1\" class=\"dataframe\">\n",
       "  <thead>\n",
       "    <tr style=\"text-align: right;\">\n",
       "      <th></th>\n",
       "      <th>index</th>\n",
       "      <th>titelId</th>\n",
       "      <th>title</th>\n",
       "      <th>averageRating</th>\n",
       "      <th>numVotes</th>\n",
       "    </tr>\n",
       "  </thead>\n",
       "  <tbody>\n",
       "    <tr>\n",
       "      <th>0</th>\n",
       "      <td>0</td>\n",
       "      <td>tt0000001</td>\n",
       "      <td>Carmencita</td>\n",
       "      <td>5.7</td>\n",
       "      <td>1676</td>\n",
       "    </tr>\n",
       "    <tr>\n",
       "      <th>1</th>\n",
       "      <td>1</td>\n",
       "      <td>tt0000002</td>\n",
       "      <td>'Le clown et ses chiens'</td>\n",
       "      <td>6.1</td>\n",
       "      <td>208</td>\n",
       "    </tr>\n",
       "    <tr>\n",
       "      <th>2</th>\n",
       "      <td>2</td>\n",
       "      <td>tt0000003</td>\n",
       "      <td>'Pauvre Pierrot'</td>\n",
       "      <td>6.5</td>\n",
       "      <td>1404</td>\n",
       "    </tr>\n",
       "    <tr>\n",
       "      <th>3</th>\n",
       "      <td>3</td>\n",
       "      <td>tt0000004</td>\n",
       "      <td>'Un bon bock'</td>\n",
       "      <td>6.2</td>\n",
       "      <td>123</td>\n",
       "    </tr>\n",
       "    <tr>\n",
       "      <th>4</th>\n",
       "      <td>4</td>\n",
       "      <td>tt0000005</td>\n",
       "      <td>'Blacksmith Scene'</td>\n",
       "      <td>6.2</td>\n",
       "      <td>2200</td>\n",
       "    </tr>\n",
       "  </tbody>\n",
       "</table>\n",
       "</div>"
      ],
      "text/plain": [
       "  index    titelId                     title averageRating numVotes\n",
       "0     0  tt0000001                Carmencita           5.7     1676\n",
       "1     1  tt0000002  'Le clown et ses chiens'           6.1      208\n",
       "2     2  tt0000003          'Pauvre Pierrot'           6.5     1404\n",
       "3     3  tt0000004             'Un bon bock'           6.2      123\n",
       "4     4  tt0000005        'Blacksmith Scene'           6.2     2200"
      ]
     },
     "execution_count": 143,
     "metadata": {},
     "output_type": "execute_result"
    }
   ],
   "source": [
    "movie_review_df.head()"
   ]
  },
  {
   "cell_type": "code",
   "execution_count": 144,
   "metadata": {},
   "outputs": [
    {
     "data": {
      "text/plain": [
       "(65584, 5)"
      ]
     },
     "execution_count": 144,
     "metadata": {},
     "output_type": "execute_result"
    }
   ],
   "source": [
    "movie_review_df.shape"
   ]
  },
  {
   "cell_type": "code",
   "execution_count": 145,
   "metadata": {},
   "outputs": [
    {
     "name": "stdout",
     "output_type": "stream",
     "text": [
      "<class 'pandas.core.frame.DataFrame'>\n",
      "RangeIndex: 65584 entries, 0 to 65583\n",
      "Data columns (total 5 columns):\n",
      " #   Column         Non-Null Count  Dtype \n",
      "---  ------         --------------  ----- \n",
      " 0   index          65584 non-null  object\n",
      " 1   titelId        65584 non-null  object\n",
      " 2   title          65584 non-null  object\n",
      " 3   averageRating  65584 non-null  object\n",
      " 4   numVotes       65584 non-null  object\n",
      "dtypes: object(5)\n",
      "memory usage: 2.5+ MB\n"
     ]
    }
   ],
   "source": [
    "movie_review_df.info()"
   ]
  },
  {
   "cell_type": "markdown",
   "metadata": {},
   "source": [
    "Optional data storing step: You may save your raw dataset files to the local data store before moving to the next step."
   ]
  },
  {
   "cell_type": "code",
   "execution_count": 146,
   "metadata": {},
   "outputs": [],
   "source": [
    "#Optional: store the raw data in your local data store"
   ]
  },
  {
   "cell_type": "code",
   "execution_count": 147,
   "metadata": {},
   "outputs": [
    {
     "data": {
      "text/plain": [
       "'Movies_Datasets_WorkingDFs'"
      ]
     },
     "execution_count": 147,
     "metadata": {},
     "output_type": "execute_result"
    }
   ],
   "source": [
    "# Creating a new folder to contain the working copies of these datasets.\n",
    "\n",
    "folder_name = 'Movies_Datasets_WorkingDFs'\n",
    "if not os.path.exists(folder_name):\n",
    "    os.makedirs(folder_name)\n",
    "folder_name\n"
   ]
  },
  {
   "cell_type": "code",
   "execution_count": 148,
   "metadata": {},
   "outputs": [],
   "source": [
    "# Saving the files.\n",
    "# I tried creating a method to save these files; however, I am having difficulty getting the file name to translate into the address and file type.\n",
    "\n",
    "movie_review_df.to_csv('Movies_Datasets_WorkingDFs/movie_review_df.csv')"
   ]
  },
  {
   "cell_type": "code",
   "execution_count": 149,
   "metadata": {},
   "outputs": [],
   "source": [
    "movie_revenue_df.to_csv('Movies_Datasets_WorkingDFs/movie_revenue_df.csv')"
   ]
  },
  {
   "cell_type": "code",
   "execution_count": 150,
   "metadata": {},
   "outputs": [
    {
     "data": {
      "text/plain": [
       "['movie_review_df.csv', 'movie_revenue_df.csv']"
      ]
     },
     "execution_count": 150,
     "metadata": {},
     "output_type": "execute_result"
    }
   ],
   "source": [
    "# Viewing a list of files stored in the working copy folder.\n",
    "\n",
    "os.listdir('Movies_Datasets_WorkingDFs')"
   ]
  },
  {
   "cell_type": "markdown",
   "metadata": {
    "id": "QwSWIVmotLgV"
   },
   "source": [
    "## 2. Assess data\n",
    "\n",
    "Assess the data according to data quality and tidiness metrics using the report below.\n",
    "\n",
    "List **two** data quality issues and **two** tidiness issues. Assess each data issue visually **and** programmatically, then briefly describe the issue you find.  **Make sure you include justifications for the methods you use for the assessment.**"
   ]
  },
  {
   "cell_type": "markdown",
   "metadata": {
    "id": "adaK2iPNzVu4"
   },
   "source": [
    "### Quality Issue 1:"
   ]
  },
  {
   "cell_type": "code",
   "execution_count": 151,
   "metadata": {
    "id": "SpW59kh-zl8d"
   },
   "outputs": [
    {
     "data": {
      "text/html": [
       "<div>\n",
       "<style scoped>\n",
       "    .dataframe tbody tr th:only-of-type {\n",
       "        vertical-align: middle;\n",
       "    }\n",
       "\n",
       "    .dataframe tbody tr th {\n",
       "        vertical-align: top;\n",
       "    }\n",
       "\n",
       "    .dataframe thead th {\n",
       "        text-align: right;\n",
       "    }\n",
       "</style>\n",
       "<table border=\"1\" class=\"dataframe\">\n",
       "  <thead>\n",
       "    <tr style=\"text-align: right;\">\n",
       "      <th></th>\n",
       "      <th>index</th>\n",
       "      <th>titelId</th>\n",
       "      <th>title</th>\n",
       "      <th>averageRating</th>\n",
       "      <th>numVotes</th>\n",
       "    </tr>\n",
       "  </thead>\n",
       "  <tbody>\n",
       "    <tr>\n",
       "      <th>0</th>\n",
       "      <td>0</td>\n",
       "      <td>tt0000001</td>\n",
       "      <td>Carmencita</td>\n",
       "      <td>5.7</td>\n",
       "      <td>1676</td>\n",
       "    </tr>\n",
       "    <tr>\n",
       "      <th>1</th>\n",
       "      <td>1</td>\n",
       "      <td>tt0000002</td>\n",
       "      <td>'Le clown et ses chiens'</td>\n",
       "      <td>6.1</td>\n",
       "      <td>208</td>\n",
       "    </tr>\n",
       "    <tr>\n",
       "      <th>2</th>\n",
       "      <td>2</td>\n",
       "      <td>tt0000003</td>\n",
       "      <td>'Pauvre Pierrot'</td>\n",
       "      <td>6.5</td>\n",
       "      <td>1404</td>\n",
       "    </tr>\n",
       "    <tr>\n",
       "      <th>3</th>\n",
       "      <td>3</td>\n",
       "      <td>tt0000004</td>\n",
       "      <td>'Un bon bock'</td>\n",
       "      <td>6.2</td>\n",
       "      <td>123</td>\n",
       "    </tr>\n",
       "    <tr>\n",
       "      <th>4</th>\n",
       "      <td>4</td>\n",
       "      <td>tt0000005</td>\n",
       "      <td>'Blacksmith Scene'</td>\n",
       "      <td>6.2</td>\n",
       "      <td>2200</td>\n",
       "    </tr>\n",
       "    <tr>\n",
       "      <th>...</th>\n",
       "      <td>...</td>\n",
       "      <td>...</td>\n",
       "      <td>...</td>\n",
       "      <td>...</td>\n",
       "      <td>...</td>\n",
       "    </tr>\n",
       "    <tr>\n",
       "      <th>65579</th>\n",
       "      <td>67404</td>\n",
       "      <td>tt9916270</td>\n",
       "      <td>'Il talento del calabrone'</td>\n",
       "      <td>5.7</td>\n",
       "      <td>853</td>\n",
       "    </tr>\n",
       "    <tr>\n",
       "      <th>65580</th>\n",
       "      <td>67405</td>\n",
       "      <td>tt9916362</td>\n",
       "      <td>Akelarre</td>\n",
       "      <td>5.8</td>\n",
       "      <td>199</td>\n",
       "    </tr>\n",
       "    <tr>\n",
       "      <th>65581</th>\n",
       "      <td>67406</td>\n",
       "      <td>tt9916428</td>\n",
       "      <td>'Hong xing zhao yao Zhong guo'</td>\n",
       "      <td>3.8</td>\n",
       "      <td>12</td>\n",
       "    </tr>\n",
       "    <tr>\n",
       "      <th>65582</th>\n",
       "      <td>67407</td>\n",
       "      <td>tt9916460</td>\n",
       "      <td>'Pink Taxi'</td>\n",
       "      <td>9.2</td>\n",
       "      <td>12</td>\n",
       "    </tr>\n",
       "    <tr>\n",
       "      <th>65583</th>\n",
       "      <td>67408</td>\n",
       "      <td>tt9916720</td>\n",
       "      <td>'The Nun 2'</td>\n",
       "      <td>6.2</td>\n",
       "      <td>72</td>\n",
       "    </tr>\n",
       "  </tbody>\n",
       "</table>\n",
       "<p>65584 rows × 5 columns</p>\n",
       "</div>"
      ],
      "text/plain": [
       "       index    titelId                           title averageRating numVotes\n",
       "0          0  tt0000001                      Carmencita           5.7     1676\n",
       "1          1  tt0000002        'Le clown et ses chiens'           6.1      208\n",
       "2          2  tt0000003                'Pauvre Pierrot'           6.5     1404\n",
       "3          3  tt0000004                   'Un bon bock'           6.2      123\n",
       "4          4  tt0000005              'Blacksmith Scene'           6.2     2200\n",
       "...      ...        ...                             ...           ...      ...\n",
       "65579  67404  tt9916270      'Il talento del calabrone'           5.7      853\n",
       "65580  67405  tt9916362                        Akelarre           5.8      199\n",
       "65581  67406  tt9916428  'Hong xing zhao yao Zhong guo'           3.8       12\n",
       "65582  67407  tt9916460                     'Pink Taxi'           9.2       12\n",
       "65583  67408  tt9916720                     'The Nun 2'           6.2       72\n",
       "\n",
       "[65584 rows x 5 columns]"
      ]
     },
     "execution_count": 151,
     "metadata": {},
     "output_type": "execute_result"
    }
   ],
   "source": [
    "movie_review_df"
   ]
  },
  {
   "cell_type": "code",
   "execution_count": 152,
   "metadata": {},
   "outputs": [
    {
     "data": {
      "text/html": [
       "<div>\n",
       "<style scoped>\n",
       "    .dataframe tbody tr th:only-of-type {\n",
       "        vertical-align: middle;\n",
       "    }\n",
       "\n",
       "    .dataframe tbody tr th {\n",
       "        vertical-align: top;\n",
       "    }\n",
       "\n",
       "    .dataframe thead th {\n",
       "        text-align: right;\n",
       "    }\n",
       "</style>\n",
       "<table border=\"1\" class=\"dataframe\">\n",
       "  <thead>\n",
       "    <tr style=\"text-align: right;\">\n",
       "      <th></th>\n",
       "      <th>index</th>\n",
       "      <th>genres</th>\n",
       "      <th>id</th>\n",
       "      <th>keywords</th>\n",
       "      <th>original_title</th>\n",
       "      <th>release_date</th>\n",
       "      <th>revenue</th>\n",
       "      <th>status</th>\n",
       "      <th>title</th>\n",
       "      <th>cast</th>\n",
       "      <th>director</th>\n",
       "    </tr>\n",
       "  </thead>\n",
       "  <tbody>\n",
       "    <tr>\n",
       "      <th>0</th>\n",
       "      <td>0</td>\n",
       "      <td>'Action Adventure Fantasy Science Fiction'</td>\n",
       "      <td>19995</td>\n",
       "      <td>'culture clash future space war space colony s...</td>\n",
       "      <td>Avatar</td>\n",
       "      <td>2009-12-10</td>\n",
       "      <td>2787965087</td>\n",
       "      <td>Released</td>\n",
       "      <td>Avatar</td>\n",
       "      <td>'Sam Worthington Zoe Saldana Sigourney Weaver ...</td>\n",
       "      <td>'James Cameron'</td>\n",
       "    </tr>\n",
       "    <tr>\n",
       "      <th>1</th>\n",
       "      <td>1</td>\n",
       "      <td>'Adventure Fantasy Action'</td>\n",
       "      <td>285</td>\n",
       "      <td>'ocean drug abuse exotic island east india tra...</td>\n",
       "      <td>'Pirates of the Caribbean: At World\\'s End'</td>\n",
       "      <td>2007-05-19</td>\n",
       "      <td>961000000</td>\n",
       "      <td>Released</td>\n",
       "      <td>'Pirates of the Caribbean: At World\\'s End'</td>\n",
       "      <td>'Johnny Depp Orlando Bloom Keira Knightley Ste...</td>\n",
       "      <td>'Gore Verbinski'</td>\n",
       "    </tr>\n",
       "    <tr>\n",
       "      <th>2</th>\n",
       "      <td>2</td>\n",
       "      <td>'Action Adventure Crime'</td>\n",
       "      <td>206647</td>\n",
       "      <td>'spy based on novel secret agent sequel mi6'</td>\n",
       "      <td>Spectre</td>\n",
       "      <td>2015-10-26</td>\n",
       "      <td>880674609</td>\n",
       "      <td>Released</td>\n",
       "      <td>Spectre</td>\n",
       "      <td>'Daniel Craig Christoph Waltz L\\\\u00e9a Seydou...</td>\n",
       "      <td>'Sam Mendes'</td>\n",
       "    </tr>\n",
       "    <tr>\n",
       "      <th>3</th>\n",
       "      <td>3</td>\n",
       "      <td>'Action Crime Drama Thriller'</td>\n",
       "      <td>49026</td>\n",
       "      <td>'dc comics crime fighter terrorist secret iden...</td>\n",
       "      <td>'The Dark Knight Rises'</td>\n",
       "      <td>2012-07-16</td>\n",
       "      <td>1084939099</td>\n",
       "      <td>Released</td>\n",
       "      <td>'The Dark Knight Rises'</td>\n",
       "      <td>'Christian Bale Michael Caine Gary Oldman Anne...</td>\n",
       "      <td>'Christopher Nolan'</td>\n",
       "    </tr>\n",
       "    <tr>\n",
       "      <th>4</th>\n",
       "      <td>4</td>\n",
       "      <td>'Action Adventure Science Fiction'</td>\n",
       "      <td>49529</td>\n",
       "      <td>'based on novel mars medallion space travel pr...</td>\n",
       "      <td>'John Carter'</td>\n",
       "      <td>2012-03-07</td>\n",
       "      <td>284139100</td>\n",
       "      <td>Released</td>\n",
       "      <td>'John Carter'</td>\n",
       "      <td>'Taylor Kitsch Lynn Collins Samantha Morton Wi...</td>\n",
       "      <td>'Andrew Stanton'</td>\n",
       "    </tr>\n",
       "  </tbody>\n",
       "</table>\n",
       "</div>"
      ],
      "text/plain": [
       "  index                                      genres      id  \\\n",
       "0     0  'Action Adventure Fantasy Science Fiction'   19995   \n",
       "1     1                  'Adventure Fantasy Action'     285   \n",
       "2     2                    'Action Adventure Crime'  206647   \n",
       "3     3               'Action Crime Drama Thriller'   49026   \n",
       "4     4          'Action Adventure Science Fiction'   49529   \n",
       "\n",
       "                                            keywords  \\\n",
       "0  'culture clash future space war space colony s...   \n",
       "1  'ocean drug abuse exotic island east india tra...   \n",
       "2       'spy based on novel secret agent sequel mi6'   \n",
       "3  'dc comics crime fighter terrorist secret iden...   \n",
       "4  'based on novel mars medallion space travel pr...   \n",
       "\n",
       "                                original_title release_date     revenue  \\\n",
       "0                                       Avatar   2009-12-10  2787965087   \n",
       "1  'Pirates of the Caribbean: At World\\'s End'   2007-05-19   961000000   \n",
       "2                                      Spectre   2015-10-26   880674609   \n",
       "3                      'The Dark Knight Rises'   2012-07-16  1084939099   \n",
       "4                                'John Carter'   2012-03-07   284139100   \n",
       "\n",
       "     status                                        title  \\\n",
       "0  Released                                       Avatar   \n",
       "1  Released  'Pirates of the Caribbean: At World\\'s End'   \n",
       "2  Released                                      Spectre   \n",
       "3  Released                      'The Dark Knight Rises'   \n",
       "4  Released                                'John Carter'   \n",
       "\n",
       "                                                cast             director  \n",
       "0  'Sam Worthington Zoe Saldana Sigourney Weaver ...      'James Cameron'  \n",
       "1  'Johnny Depp Orlando Bloom Keira Knightley Ste...     'Gore Verbinski'  \n",
       "2  'Daniel Craig Christoph Waltz L\\\\u00e9a Seydou...         'Sam Mendes'  \n",
       "3  'Christian Bale Michael Caine Gary Oldman Anne...  'Christopher Nolan'  \n",
       "4  'Taylor Kitsch Lynn Collins Samantha Morton Wi...     'Andrew Stanton'  "
      ]
     },
     "execution_count": 152,
     "metadata": {},
     "output_type": "execute_result"
    }
   ],
   "source": [
    "movie_revenue_df.head(5)"
   ]
  },
  {
   "cell_type": "code",
   "execution_count": 153,
   "metadata": {
    "id": "-qfcocStzsKg"
   },
   "outputs": [
    {
     "name": "stdout",
     "output_type": "stream",
     "text": [
      "<class 'pandas.core.frame.DataFrame'>\n",
      "RangeIndex: 65584 entries, 0 to 65583\n",
      "Data columns (total 5 columns):\n",
      " #   Column         Non-Null Count  Dtype \n",
      "---  ------         --------------  ----- \n",
      " 0   index          65584 non-null  object\n",
      " 1   titelId        65584 non-null  object\n",
      " 2   title          65584 non-null  object\n",
      " 3   averageRating  65584 non-null  object\n",
      " 4   numVotes       65584 non-null  object\n",
      "dtypes: object(5)\n",
      "memory usage: 2.5+ MB\n"
     ]
    }
   ],
   "source": [
    "movie_review_df.info()"
   ]
  },
  {
   "cell_type": "code",
   "execution_count": 154,
   "metadata": {},
   "outputs": [
    {
     "name": "stdout",
     "output_type": "stream",
     "text": [
      "<class 'pandas.core.frame.DataFrame'>\n",
      "RangeIndex: 4716 entries, 0 to 4715\n",
      "Data columns (total 11 columns):\n",
      " #   Column          Non-Null Count  Dtype \n",
      "---  ------          --------------  ----- \n",
      " 0   index           4716 non-null   object\n",
      " 1   genres          4716 non-null   object\n",
      " 2   id              4716 non-null   object\n",
      " 3   keywords        4716 non-null   object\n",
      " 4   original_title  4716 non-null   object\n",
      " 5   release_date    4716 non-null   object\n",
      " 6   revenue         4716 non-null   object\n",
      " 7   status          4716 non-null   object\n",
      " 8   title           4716 non-null   object\n",
      " 9   cast            4716 non-null   object\n",
      " 10  director        4716 non-null   object\n",
      "dtypes: object(11)\n",
      "memory usage: 405.4+ KB\n"
     ]
    }
   ],
   "source": [
    "movie_revenue_df.info()"
   ]
  },
  {
   "cell_type": "code",
   "execution_count": 155,
   "metadata": {},
   "outputs": [
    {
     "name": "stdout",
     "output_type": "stream",
     "text": [
      "I only need 3 columns from the movie_review_df dataframe.\n",
      "This dataframe currently has 5 columns.\n",
      "\n",
      "I only need 2 columns from the movie_revenue_df dataframe.\n",
      "This dataframe currently has 11 columns.\n"
     ]
    }
   ],
   "source": [
    "# programatically identifying if the preferred data types are already assigned to the columns.\n",
    "\n",
    "print('I only need 3 columns from the movie_review_df dataframe.')\n",
    "print('This dataframe currently has', movie_review_df.shape[1], 'columns.')\n",
    "print()\n",
    "print('I only need 2 columns from the movie_revenue_df dataframe.')\n",
    "print('This dataframe currently has', movie_revenue_df.shape[1], 'columns.')"
   ]
  },
  {
   "cell_type": "markdown",
   "metadata": {},
   "source": [
    "Issue and justification: These datasets contain more information than needed to answer the original question regarding the revenue vs. rating.  The only columns I feel are useful are the id, title/original_title, revenue, review, and averageRating.  The inclusion of the remaining fields could negatively impact the readability of the cleaned dataframes, especially after they are joined.\n"
   ]
  },
  {
   "cell_type": "markdown",
   "metadata": {
    "id": "8Be77N4I1AmE"
   },
   "source": [
    "### Quality Issue 2:"
   ]
  },
  {
   "cell_type": "code",
   "execution_count": 156,
   "metadata": {
    "id": "iMhHyiyLM2I3"
   },
   "outputs": [
    {
     "name": "stdout",
     "output_type": "stream",
     "text": [
      "<class 'pandas.core.frame.DataFrame'>\n",
      "RangeIndex: 4716 entries, 0 to 4715\n",
      "Data columns (total 11 columns):\n",
      " #   Column          Non-Null Count  Dtype \n",
      "---  ------          --------------  ----- \n",
      " 0   index           4716 non-null   object\n",
      " 1   genres          4716 non-null   object\n",
      " 2   id              4716 non-null   object\n",
      " 3   keywords        4716 non-null   object\n",
      " 4   original_title  4716 non-null   object\n",
      " 5   release_date    4716 non-null   object\n",
      " 6   revenue         4716 non-null   object\n",
      " 7   status          4716 non-null   object\n",
      " 8   title           4716 non-null   object\n",
      " 9   cast            4716 non-null   object\n",
      " 10  director        4716 non-null   object\n",
      "dtypes: object(11)\n",
      "memory usage: 405.4+ KB\n"
     ]
    }
   ],
   "source": [
    "# Visually reviewing the dataframe info.\n",
    "\n",
    "movie_revenue_df.info()"
   ]
  },
  {
   "cell_type": "code",
   "execution_count": 157,
   "metadata": {
    "id": "bnviRCUI-bb7"
   },
   "outputs": [
    {
     "name": "stdout",
     "output_type": "stream",
     "text": [
      "<class 'pandas.core.frame.DataFrame'>\n",
      "RangeIndex: 65584 entries, 0 to 65583\n",
      "Data columns (total 5 columns):\n",
      " #   Column         Non-Null Count  Dtype \n",
      "---  ------         --------------  ----- \n",
      " 0   index          65584 non-null  object\n",
      " 1   titelId        65584 non-null  object\n",
      " 2   title          65584 non-null  object\n",
      " 3   averageRating  65584 non-null  object\n",
      " 4   numVotes       65584 non-null  object\n",
      "dtypes: object(5)\n",
      "memory usage: 2.5+ MB\n"
     ]
    }
   ],
   "source": [
    "movie_review_df.info()"
   ]
  },
  {
   "cell_type": "code",
   "execution_count": 158,
   "metadata": {},
   "outputs": [
    {
     "name": "stdout",
     "output_type": "stream",
     "text": [
      "For the movie_review_df dataframe:\n",
      "The averageRating column is a float:   False\n",
      "The numVotes column is a integer:   False\n",
      "\n",
      "For the movie_revenue_df dataframe:\n",
      "The revenue column is a float:   False\n"
     ]
    }
   ],
   "source": [
    "# programatically identifying if the preferred data types are already assigned to the columns.\n",
    "\n",
    "print(\"For the movie_review_df dataframe:\")\n",
    "print(\"The averageRating column is a float:  \", movie_review_df.averageRating.dtype==float)\n",
    "print(\"The numVotes column is a integer:  \", movie_review_df.numVotes.dtype==int)\n",
    "print()\n",
    "print(\"For the movie_revenue_df dataframe:\")\n",
    "print(\"The revenue column is a float:  \", movie_revenue_df.revenue.dtype==float)\n"
   ]
  },
  {
   "cell_type": "markdown",
   "metadata": {},
   "source": [
    "Issue and justification: \n",
    "The data types for revenue and averageRating should be float.  In order to get the data uploaded I had to do all fields as strings due to inconcistency in the source data.  There is data in this column which is text and cannot be converted to a float.  This will need to be corrected.\n",
    "\n",
    "I am not worried about the remaining fields as they will be removed from the final dataset."
   ]
  },
  {
   "cell_type": "markdown",
   "metadata": {
    "id": "lXhGiYyiwwKN"
   },
   "source": [
    "### Tidiness Issue 1:"
   ]
  },
  {
   "cell_type": "code",
   "execution_count": 159,
   "metadata": {
    "id": "fleC5rORI0Xl"
   },
   "outputs": [
    {
     "data": {
      "text/html": [
       "<div>\n",
       "<style scoped>\n",
       "    .dataframe tbody tr th:only-of-type {\n",
       "        vertical-align: middle;\n",
       "    }\n",
       "\n",
       "    .dataframe tbody tr th {\n",
       "        vertical-align: top;\n",
       "    }\n",
       "\n",
       "    .dataframe thead th {\n",
       "        text-align: right;\n",
       "    }\n",
       "</style>\n",
       "<table border=\"1\" class=\"dataframe\">\n",
       "  <thead>\n",
       "    <tr style=\"text-align: right;\">\n",
       "      <th></th>\n",
       "      <th>index</th>\n",
       "      <th>titelId</th>\n",
       "      <th>title</th>\n",
       "      <th>averageRating</th>\n",
       "      <th>numVotes</th>\n",
       "    </tr>\n",
       "  </thead>\n",
       "  <tbody>\n",
       "    <tr>\n",
       "      <th>18945</th>\n",
       "      <td>19495</td>\n",
       "      <td>tt0089493</td>\n",
       "      <td>'Lijepe zene prolaze kroz grad'</td>\n",
       "      <td>6.5</td>\n",
       "      <td>75</td>\n",
       "    </tr>\n",
       "    <tr>\n",
       "      <th>53001</th>\n",
       "      <td>54498</td>\n",
       "      <td>tt8128866</td>\n",
       "      <td>'Triassic World'</td>\n",
       "      <td>3.3</td>\n",
       "      <td>453</td>\n",
       "    </tr>\n",
       "    <tr>\n",
       "      <th>23424</th>\n",
       "      <td>24081</td>\n",
       "      <td>tt0095763</td>\n",
       "      <td>'Nunca estuve en Viena'</td>\n",
       "      <td>6.4</td>\n",
       "      <td>14</td>\n",
       "    </tr>\n",
       "    <tr>\n",
       "      <th>17585</th>\n",
       "      <td>18104</td>\n",
       "      <td>tt0087560</td>\n",
       "      <td>'King Kongs Faust'</td>\n",
       "      <td>7.0</td>\n",
       "      <td>21</td>\n",
       "    </tr>\n",
       "    <tr>\n",
       "      <th>44493</th>\n",
       "      <td>45791</td>\n",
       "      <td>tt3924782</td>\n",
       "      <td>'The Horde'</td>\n",
       "      <td>4.2</td>\n",
       "      <td>1116</td>\n",
       "    </tr>\n",
       "    <tr>\n",
       "      <th>61546</th>\n",
       "      <td>63273</td>\n",
       "      <td>tt9215122</td>\n",
       "      <td>'This Land Is Your Land'</td>\n",
       "      <td>7.7</td>\n",
       "      <td>400</td>\n",
       "    </tr>\n",
       "    <tr>\n",
       "      <th>21636</th>\n",
       "      <td>22254</td>\n",
       "      <td>tt0093261</td>\n",
       "      <td>'Les innocents'</td>\n",
       "      <td>6.4</td>\n",
       "      <td>243</td>\n",
       "    </tr>\n",
       "    <tr>\n",
       "      <th>62613</th>\n",
       "      <td>64374</td>\n",
       "      <td>tt9382140</td>\n",
       "      <td>'Zu weit weg'</td>\n",
       "      <td>6.6</td>\n",
       "      <td>69</td>\n",
       "    </tr>\n",
       "    <tr>\n",
       "      <th>42484</th>\n",
       "      <td>43720</td>\n",
       "      <td>tt1305593</td>\n",
       "      <td>'The Scar Crow'</td>\n",
       "      <td>3.5</td>\n",
       "      <td>126</td>\n",
       "    </tr>\n",
       "    <tr>\n",
       "      <th>43936</th>\n",
       "      <td>45210</td>\n",
       "      <td>tt1380039</td>\n",
       "      <td>Artefakt</td>\n",
       "      <td>3.1</td>\n",
       "      <td>129</td>\n",
       "    </tr>\n",
       "  </tbody>\n",
       "</table>\n",
       "</div>"
      ],
      "text/plain": [
       "       index    titelId                            title averageRating  \\\n",
       "18945  19495  tt0089493  'Lijepe zene prolaze kroz grad'           6.5   \n",
       "53001  54498  tt8128866                 'Triassic World'           3.3   \n",
       "23424  24081  tt0095763          'Nunca estuve en Viena'           6.4   \n",
       "17585  18104  tt0087560               'King Kongs Faust'           7.0   \n",
       "44493  45791  tt3924782                      'The Horde'           4.2   \n",
       "61546  63273  tt9215122         'This Land Is Your Land'           7.7   \n",
       "21636  22254  tt0093261                  'Les innocents'           6.4   \n",
       "62613  64374  tt9382140                    'Zu weit weg'           6.6   \n",
       "42484  43720  tt1305593                  'The Scar Crow'           3.5   \n",
       "43936  45210  tt1380039                         Artefakt           3.1   \n",
       "\n",
       "      numVotes  \n",
       "18945       75  \n",
       "53001      453  \n",
       "23424       14  \n",
       "17585       21  \n",
       "44493     1116  \n",
       "61546      400  \n",
       "21636      243  \n",
       "62613       69  \n",
       "42484      126  \n",
       "43936      129  "
      ]
     },
     "execution_count": 159,
     "metadata": {},
     "output_type": "execute_result"
    }
   ],
   "source": [
    "movie_review_df.sample(10)"
   ]
  },
  {
   "cell_type": "code",
   "execution_count": 160,
   "metadata": {},
   "outputs": [
    {
     "data": {
      "text/html": [
       "<div>\n",
       "<style scoped>\n",
       "    .dataframe tbody tr th:only-of-type {\n",
       "        vertical-align: middle;\n",
       "    }\n",
       "\n",
       "    .dataframe tbody tr th {\n",
       "        vertical-align: top;\n",
       "    }\n",
       "\n",
       "    .dataframe thead th {\n",
       "        text-align: right;\n",
       "    }\n",
       "</style>\n",
       "<table border=\"1\" class=\"dataframe\">\n",
       "  <thead>\n",
       "    <tr style=\"text-align: right;\">\n",
       "      <th></th>\n",
       "      <th>index</th>\n",
       "      <th>genres</th>\n",
       "      <th>id</th>\n",
       "      <th>keywords</th>\n",
       "      <th>original_title</th>\n",
       "      <th>release_date</th>\n",
       "      <th>revenue</th>\n",
       "      <th>status</th>\n",
       "      <th>title</th>\n",
       "      <th>cast</th>\n",
       "      <th>director</th>\n",
       "    </tr>\n",
       "  </thead>\n",
       "  <tbody>\n",
       "    <tr>\n",
       "      <th>3168</th>\n",
       "      <td>3216</td>\n",
       "      <td>Comedy</td>\n",
       "      <td>9451</td>\n",
       "      <td>'jealousy infidelity vandalism museum motel'</td>\n",
       "      <td>Election</td>\n",
       "      <td>1999-04-23</td>\n",
       "      <td>0</td>\n",
       "      <td>Released</td>\n",
       "      <td>Election</td>\n",
       "      <td>'Matthew Broderick Reese Witherspoon Chris Kle...</td>\n",
       "      <td>'Alexander Payne'</td>\n",
       "    </tr>\n",
       "    <tr>\n",
       "      <th>4251</th>\n",
       "      <td>4327</td>\n",
       "      <td>'Horror Science Fiction Action'</td>\n",
       "      <td>53502</td>\n",
       "      <td>'vampire zombie vanity project mad cow disease'</td>\n",
       "      <td>'The Dead Undead'</td>\n",
       "      <td>2010-05-13</td>\n",
       "      <td>0</td>\n",
       "      <td>Released</td>\n",
       "      <td>'The Dead Undead'</td>\n",
       "      <td>'Luke Goss Joshua Alba Matthew R. Anderson Lau...</td>\n",
       "      <td>'Matthew R. Anderson'</td>\n",
       "    </tr>\n",
       "    <tr>\n",
       "      <th>4065</th>\n",
       "      <td>4134</td>\n",
       "      <td>'Horror Comedy'</td>\n",
       "      <td>18238</td>\n",
       "      <td>'female nudity horror dark comedy female homos...</td>\n",
       "      <td>'Lesbian Vampire Killers'</td>\n",
       "      <td>2009-03-16</td>\n",
       "      <td>0</td>\n",
       "      <td>Released</td>\n",
       "      <td>'Lesbian Vampire Killers'</td>\n",
       "      <td>'James Corden Mathew Horne Paul McGann MyAnna ...</td>\n",
       "      <td>'Phil Claydon'</td>\n",
       "    </tr>\n",
       "    <tr>\n",
       "      <th>4390</th>\n",
       "      <td>4469</td>\n",
       "      <td>'Animation Comedy'</td>\n",
       "      <td>13158</td>\n",
       "      <td>'africa blood splatter surrealism blood robot'</td>\n",
       "      <td>'Aqua Teen Hunger Force Colon Movie Film for T...</td>\n",
       "      <td>2007-04-13</td>\n",
       "      <td>0</td>\n",
       "      <td>Released</td>\n",
       "      <td>'Aqua Teen Hunger Force Colon Movie Film for T...</td>\n",
       "      <td>'Dana Snyder Carey Means Dave Willis Andy Merr...</td>\n",
       "      <td>'Dave Willis'</td>\n",
       "    </tr>\n",
       "    <tr>\n",
       "      <th>3060</th>\n",
       "      <td>3104</td>\n",
       "      <td>'Drama Thriller'</td>\n",
       "      <td>101173</td>\n",
       "      <td>'senate general market rivalry tragedy'</td>\n",
       "      <td>Coriolanus</td>\n",
       "      <td>2011-02-14</td>\n",
       "      <td>1072602</td>\n",
       "      <td>Released</td>\n",
       "      <td>Coriolanus</td>\n",
       "      <td>'Gerard Butler Ralph Fiennes Lubna Azabal Ashr...</td>\n",
       "      <td>'Ralph Fiennes'</td>\n",
       "    </tr>\n",
       "    <tr>\n",
       "      <th>1305</th>\n",
       "      <td>1316</td>\n",
       "      <td>Drama</td>\n",
       "      <td>25793</td>\n",
       "      <td>'aids illiteracy song unwillingly pregnant bal...</td>\n",
       "      <td>Precious</td>\n",
       "      <td>2009-11-06</td>\n",
       "      <td>47536959</td>\n",
       "      <td>Released</td>\n",
       "      <td>Precious</td>\n",
       "      <td>'Gabourey Sidibe Mo\\'Nique Paula Patton Mariah...</td>\n",
       "      <td>'Lee Daniels'</td>\n",
       "    </tr>\n",
       "    <tr>\n",
       "      <th>4236</th>\n",
       "      <td>4312</td>\n",
       "      <td>'Action Adventure Drama War'</td>\n",
       "      <td>43884</td>\n",
       "      <td>'ambush british army fort invasion attack'</td>\n",
       "      <td>'The Charge of the Light Brigade'</td>\n",
       "      <td>1936-10-20</td>\n",
       "      <td>2736000</td>\n",
       "      <td>Released</td>\n",
       "      <td>'The Charge of the Light Brigade'</td>\n",
       "      <td>'Errol Flynn Olivia de Havilland Patric Knowle...</td>\n",
       "      <td>'Michael Curtiz'</td>\n",
       "    </tr>\n",
       "    <tr>\n",
       "      <th>1332</th>\n",
       "      <td>1343</td>\n",
       "      <td>'Adventure Action Thriller'</td>\n",
       "      <td>36670</td>\n",
       "      <td>'video game spy bahamas british stealing'</td>\n",
       "      <td>'Never Say Never Again'</td>\n",
       "      <td>1983-10-07</td>\n",
       "      <td>160000000</td>\n",
       "      <td>Released</td>\n",
       "      <td>'Never Say Never Again'</td>\n",
       "      <td>'Sean Connery Kim Basinger Klaus Maria Brandau...</td>\n",
       "      <td>'Irvin Kershner'</td>\n",
       "    </tr>\n",
       "    <tr>\n",
       "      <th>3220</th>\n",
       "      <td>3268</td>\n",
       "      <td>Comedy</td>\n",
       "      <td>19489</td>\n",
       "      <td>?</td>\n",
       "      <td>'Held Up'</td>\n",
       "      <td>1999-10-08</td>\n",
       "      <td>0</td>\n",
       "      <td>Released</td>\n",
       "      <td>'Held Up'</td>\n",
       "      <td>'Jamie Foxx Nia Long Barry Corbin John Cullum ...</td>\n",
       "      <td>'Steve Rash'</td>\n",
       "    </tr>\n",
       "    <tr>\n",
       "      <th>606</th>\n",
       "      <td>611</td>\n",
       "      <td>'Thriller Action Drama'</td>\n",
       "      <td>4614</td>\n",
       "      <td>'cia terrorist atomic bomb cold war nuclear ex...</td>\n",
       "      <td>'The Sum of All Fears'</td>\n",
       "      <td>2002-05-31</td>\n",
       "      <td>193000000</td>\n",
       "      <td>Released</td>\n",
       "      <td>'The Sum of All Fears'</td>\n",
       "      <td>'Ben Affleck Morgan Freeman James Cromwell Ken...</td>\n",
       "      <td>'Phil Alden Robinson'</td>\n",
       "    </tr>\n",
       "  </tbody>\n",
       "</table>\n",
       "</div>"
      ],
      "text/plain": [
       "     index                           genres      id  \\\n",
       "3168  3216                           Comedy    9451   \n",
       "4251  4327  'Horror Science Fiction Action'   53502   \n",
       "4065  4134                  'Horror Comedy'   18238   \n",
       "4390  4469               'Animation Comedy'   13158   \n",
       "3060  3104                 'Drama Thriller'  101173   \n",
       "1305  1316                            Drama   25793   \n",
       "4236  4312     'Action Adventure Drama War'   43884   \n",
       "1332  1343      'Adventure Action Thriller'   36670   \n",
       "3220  3268                           Comedy   19489   \n",
       "606    611          'Thriller Action Drama'    4614   \n",
       "\n",
       "                                               keywords  \\\n",
       "3168       'jealousy infidelity vandalism museum motel'   \n",
       "4251    'vampire zombie vanity project mad cow disease'   \n",
       "4065  'female nudity horror dark comedy female homos...   \n",
       "4390     'africa blood splatter surrealism blood robot'   \n",
       "3060            'senate general market rivalry tragedy'   \n",
       "1305  'aids illiteracy song unwillingly pregnant bal...   \n",
       "4236         'ambush british army fort invasion attack'   \n",
       "1332          'video game spy bahamas british stealing'   \n",
       "3220                                                  ?   \n",
       "606   'cia terrorist atomic bomb cold war nuclear ex...   \n",
       "\n",
       "                                         original_title release_date  \\\n",
       "3168                                           Election   1999-04-23   \n",
       "4251                                  'The Dead Undead'   2010-05-13   \n",
       "4065                          'Lesbian Vampire Killers'   2009-03-16   \n",
       "4390  'Aqua Teen Hunger Force Colon Movie Film for T...   2007-04-13   \n",
       "3060                                         Coriolanus   2011-02-14   \n",
       "1305                                           Precious   2009-11-06   \n",
       "4236                  'The Charge of the Light Brigade'   1936-10-20   \n",
       "1332                            'Never Say Never Again'   1983-10-07   \n",
       "3220                                          'Held Up'   1999-10-08   \n",
       "606                              'The Sum of All Fears'   2002-05-31   \n",
       "\n",
       "        revenue    status                                              title  \\\n",
       "3168          0  Released                                           Election   \n",
       "4251          0  Released                                  'The Dead Undead'   \n",
       "4065          0  Released                          'Lesbian Vampire Killers'   \n",
       "4390          0  Released  'Aqua Teen Hunger Force Colon Movie Film for T...   \n",
       "3060    1072602  Released                                         Coriolanus   \n",
       "1305   47536959  Released                                           Precious   \n",
       "4236    2736000  Released                  'The Charge of the Light Brigade'   \n",
       "1332  160000000  Released                            'Never Say Never Again'   \n",
       "3220          0  Released                                          'Held Up'   \n",
       "606   193000000  Released                             'The Sum of All Fears'   \n",
       "\n",
       "                                                   cast               director  \n",
       "3168  'Matthew Broderick Reese Witherspoon Chris Kle...      'Alexander Payne'  \n",
       "4251  'Luke Goss Joshua Alba Matthew R. Anderson Lau...  'Matthew R. Anderson'  \n",
       "4065  'James Corden Mathew Horne Paul McGann MyAnna ...         'Phil Claydon'  \n",
       "4390  'Dana Snyder Carey Means Dave Willis Andy Merr...          'Dave Willis'  \n",
       "3060  'Gerard Butler Ralph Fiennes Lubna Azabal Ashr...        'Ralph Fiennes'  \n",
       "1305  'Gabourey Sidibe Mo\\'Nique Paula Patton Mariah...          'Lee Daniels'  \n",
       "4236  'Errol Flynn Olivia de Havilland Patric Knowle...       'Michael Curtiz'  \n",
       "1332  'Sean Connery Kim Basinger Klaus Maria Brandau...       'Irvin Kershner'  \n",
       "3220  'Jamie Foxx Nia Long Barry Corbin John Cullum ...           'Steve Rash'  \n",
       "606   'Ben Affleck Morgan Freeman James Cromwell Ken...  'Phil Alden Robinson'  "
      ]
     },
     "execution_count": 160,
     "metadata": {},
     "output_type": "execute_result"
    }
   ],
   "source": [
    "movie_revenue_df.sample(10)"
   ]
  },
  {
   "cell_type": "code",
   "execution_count": 161,
   "metadata": {},
   "outputs": [
    {
     "data": {
      "text/plain": [
       "((65584, 5), (4716, 11))"
      ]
     },
     "execution_count": 161,
     "metadata": {},
     "output_type": "execute_result"
    }
   ],
   "source": [
    "movie_review_df.shape, movie_revenue_df.shape"
   ]
  },
  {
   "cell_type": "code",
   "execution_count": 162,
   "metadata": {},
   "outputs": [
    {
     "data": {
      "text/plain": [
       "(0, 5)"
      ]
     },
     "execution_count": 162,
     "metadata": {},
     "output_type": "execute_result"
    }
   ],
   "source": [
    "movie_review_df[movie_review_df['averageRating'] == '0'].shape"
   ]
  },
  {
   "cell_type": "code",
   "execution_count": 163,
   "metadata": {},
   "outputs": [
    {
     "data": {
      "text/plain": [
       "0"
      ]
     },
     "execution_count": 163,
     "metadata": {},
     "output_type": "execute_result"
    }
   ],
   "source": [
    "# Reviewing is any data is missing / NA.\n",
    "\n",
    "movie_revenue_df.revenue.isna().sum()"
   ]
  },
  {
   "cell_type": "code",
   "execution_count": 164,
   "metadata": {},
   "outputs": [
    {
     "data": {
      "text/plain": [
       "(1396, 11)"
      ]
     },
     "execution_count": 164,
     "metadata": {},
     "output_type": "execute_result"
    }
   ],
   "source": [
    "movie_revenue_df[movie_revenue_df['revenue'] == '0'].shape"
   ]
  },
  {
   "cell_type": "code",
   "execution_count": 165,
   "metadata": {},
   "outputs": [
    {
     "data": {
      "text/html": [
       "<div>\n",
       "<style scoped>\n",
       "    .dataframe tbody tr th:only-of-type {\n",
       "        vertical-align: middle;\n",
       "    }\n",
       "\n",
       "    .dataframe tbody tr th {\n",
       "        vertical-align: top;\n",
       "    }\n",
       "\n",
       "    .dataframe thead th {\n",
       "        text-align: right;\n",
       "    }\n",
       "</style>\n",
       "<table border=\"1\" class=\"dataframe\">\n",
       "  <thead>\n",
       "    <tr style=\"text-align: right;\">\n",
       "      <th></th>\n",
       "      <th>index</th>\n",
       "      <th>genres</th>\n",
       "      <th>id</th>\n",
       "      <th>keywords</th>\n",
       "      <th>original_title</th>\n",
       "      <th>release_date</th>\n",
       "      <th>revenue</th>\n",
       "      <th>status</th>\n",
       "      <th>title</th>\n",
       "      <th>cast</th>\n",
       "      <th>director</th>\n",
       "    </tr>\n",
       "  </thead>\n",
       "  <tbody>\n",
       "    <tr>\n",
       "      <th>82</th>\n",
       "      <td>83</td>\n",
       "      <td>'Action Adventure Science Fiction Romance'</td>\n",
       "      <td>79698</td>\n",
       "      <td>?</td>\n",
       "      <td>'The Lovers'</td>\n",
       "      <td>2015-02-13</td>\n",
       "      <td>0</td>\n",
       "      <td>Released</td>\n",
       "      <td>'The Lovers'</td>\n",
       "      <td>'Josh Hartnett Simone Kessell Tamsin Egerton A...</td>\n",
       "      <td>'Roland Joff\\\\u00e9'</td>\n",
       "    </tr>\n",
       "    <tr>\n",
       "      <th>134</th>\n",
       "      <td>135</td>\n",
       "      <td>'Drama Horror Thriller'</td>\n",
       "      <td>7978</td>\n",
       "      <td>'father son relationship victorian england rem...</td>\n",
       "      <td>'The Wolfman'</td>\n",
       "      <td>2010-02-11</td>\n",
       "      <td>0</td>\n",
       "      <td>Released</td>\n",
       "      <td>'The Wolfman'</td>\n",
       "      <td>'Benicio del Toro Anthony Hopkins Emily Blunt ...</td>\n",
       "      <td>'Joe Johnston'</td>\n",
       "    </tr>\n",
       "    <tr>\n",
       "      <th>263</th>\n",
       "      <td>265</td>\n",
       "      <td>'Comedy Fantasy Family'</td>\n",
       "      <td>10588</td>\n",
       "      <td>'cat brother sister relationship boredom chaos...</td>\n",
       "      <td>'The Cat in the Hat'</td>\n",
       "      <td>2003-11-21</td>\n",
       "      <td>0</td>\n",
       "      <td>Released</td>\n",
       "      <td>'The Cat in the Hat'</td>\n",
       "      <td>'Mike Myers Dakota Fanning Spencer Breslin Kel...</td>\n",
       "      <td>'Bo Welch'</td>\n",
       "    </tr>\n",
       "    <tr>\n",
       "      <th>306</th>\n",
       "      <td>309</td>\n",
       "      <td>'Fantasy Comedy Family Adventure'</td>\n",
       "      <td>10214</td>\n",
       "      <td>'baby mask viking'</td>\n",
       "      <td>'Son of the Mask'</td>\n",
       "      <td>2005-02-18</td>\n",
       "      <td>0</td>\n",
       "      <td>Released</td>\n",
       "      <td>'Son of the Mask'</td>\n",
       "      <td>'Jamie Kennedy Alan Cumming Traylor Howard Kal...</td>\n",
       "      <td>'Lawrence Guterman'</td>\n",
       "    </tr>\n",
       "    <tr>\n",
       "      <th>372</th>\n",
       "      <td>376</td>\n",
       "      <td>'Science Fiction Action Drama Thriller'</td>\n",
       "      <td>10357</td>\n",
       "      <td>'subway lava volcano volcanologist los angeles'</td>\n",
       "      <td>Volcano</td>\n",
       "      <td>1997-04-25</td>\n",
       "      <td>0</td>\n",
       "      <td>Released</td>\n",
       "      <td>Volcano</td>\n",
       "      <td>'Tommy Lee Jones Anne Heche Gaby Hoffmann Don ...</td>\n",
       "      <td>'Mick Jackson'</td>\n",
       "    </tr>\n",
       "    <tr>\n",
       "      <th>401</th>\n",
       "      <td>406</td>\n",
       "      <td>'Drama Animation Family Comedy'</td>\n",
       "      <td>51052</td>\n",
       "      <td>'holiday santa claus duringcreditsstinger woma...</td>\n",
       "      <td>'Arthur Christmas'</td>\n",
       "      <td>2011-02-22</td>\n",
       "      <td>0</td>\n",
       "      <td>Released</td>\n",
       "      <td>'Arthur Christmas'</td>\n",
       "      <td>'James McAvoy Hugh Laurie Bill Nighy Jim Broad...</td>\n",
       "      <td>'Barry Cook'</td>\n",
       "    </tr>\n",
       "    <tr>\n",
       "      <th>428</th>\n",
       "      <td>433</td>\n",
       "      <td>'Action Comedy Crime Thriller'</td>\n",
       "      <td>146216</td>\n",
       "      <td>'paris london england cia russia mi6'</td>\n",
       "      <td>'RED 2'</td>\n",
       "      <td>2013-07-18</td>\n",
       "      <td>0</td>\n",
       "      <td>Released</td>\n",
       "      <td>'RED 2'</td>\n",
       "      <td>'Bruce Willis Catherine Zeta-Jones Anthony Hop...</td>\n",
       "      <td>'Dean Parisot'</td>\n",
       "    </tr>\n",
       "    <tr>\n",
       "      <th>448</th>\n",
       "      <td>453</td>\n",
       "      <td>'Action Comedy Crime Mystery Family'</td>\n",
       "      <td>12096</td>\n",
       "      <td>'robbery investigation inspector killer clouseau'</td>\n",
       "      <td>'The Pink Panther'</td>\n",
       "      <td>2006-01-18</td>\n",
       "      <td>0</td>\n",
       "      <td>Released</td>\n",
       "      <td>'The Pink Panther'</td>\n",
       "      <td>'Steve Martin Kevin Kline Jean Reno Beyonc\\\\u0...</td>\n",
       "      <td>'Shawn Levy'</td>\n",
       "    </tr>\n",
       "    <tr>\n",
       "      <th>458</th>\n",
       "      <td>463</td>\n",
       "      <td>'Romance Drama'</td>\n",
       "      <td>161795</td>\n",
       "      <td>'love american pin stranger ruby'</td>\n",
       "      <td>'Déjà Vu'</td>\n",
       "      <td>1998-04-22</td>\n",
       "      <td>0</td>\n",
       "      <td>Released</td>\n",
       "      <td>'Déjà Vu'</td>\n",
       "      <td>'Stephen Dillane Victoria Foyt Vanessa Redgrav...</td>\n",
       "      <td>'Henry Jaglom'</td>\n",
       "    </tr>\n",
       "    <tr>\n",
       "      <th>462</th>\n",
       "      <td>467</td>\n",
       "      <td>'Action Adventure Family Fantasy'</td>\n",
       "      <td>9822</td>\n",
       "      <td>'gorilla dying and death'</td>\n",
       "      <td>'Mighty Joe Young'</td>\n",
       "      <td>1998-12-25</td>\n",
       "      <td>0</td>\n",
       "      <td>Released</td>\n",
       "      <td>'Mighty Joe Young'</td>\n",
       "      <td>'Charlize Theron Rade Serbedzija Bill Paxton R...</td>\n",
       "      <td>'Ron Underwood'</td>\n",
       "    </tr>\n",
       "  </tbody>\n",
       "</table>\n",
       "</div>"
      ],
      "text/plain": [
       "    index                                      genres      id  \\\n",
       "82     83  'Action Adventure Science Fiction Romance'   79698   \n",
       "134   135                     'Drama Horror Thriller'    7978   \n",
       "263   265                     'Comedy Fantasy Family'   10588   \n",
       "306   309           'Fantasy Comedy Family Adventure'   10214   \n",
       "372   376     'Science Fiction Action Drama Thriller'   10357   \n",
       "401   406             'Drama Animation Family Comedy'   51052   \n",
       "428   433              'Action Comedy Crime Thriller'  146216   \n",
       "448   453        'Action Comedy Crime Mystery Family'   12096   \n",
       "458   463                             'Romance Drama'  161795   \n",
       "462   467           'Action Adventure Family Fantasy'    9822   \n",
       "\n",
       "                                              keywords        original_title  \\\n",
       "82                                                   ?          'The Lovers'   \n",
       "134  'father son relationship victorian england rem...         'The Wolfman'   \n",
       "263  'cat brother sister relationship boredom chaos...  'The Cat in the Hat'   \n",
       "306                                 'baby mask viking'     'Son of the Mask'   \n",
       "372    'subway lava volcano volcanologist los angeles'               Volcano   \n",
       "401  'holiday santa claus duringcreditsstinger woma...    'Arthur Christmas'   \n",
       "428              'paris london england cia russia mi6'               'RED 2'   \n",
       "448  'robbery investigation inspector killer clouseau'    'The Pink Panther'   \n",
       "458                  'love american pin stranger ruby'             'Déjà Vu'   \n",
       "462                          'gorilla dying and death'    'Mighty Joe Young'   \n",
       "\n",
       "    release_date revenue    status                 title  \\\n",
       "82    2015-02-13       0  Released          'The Lovers'   \n",
       "134   2010-02-11       0  Released         'The Wolfman'   \n",
       "263   2003-11-21       0  Released  'The Cat in the Hat'   \n",
       "306   2005-02-18       0  Released     'Son of the Mask'   \n",
       "372   1997-04-25       0  Released               Volcano   \n",
       "401   2011-02-22       0  Released    'Arthur Christmas'   \n",
       "428   2013-07-18       0  Released               'RED 2'   \n",
       "448   2006-01-18       0  Released    'The Pink Panther'   \n",
       "458   1998-04-22       0  Released             'Déjà Vu'   \n",
       "462   1998-12-25       0  Released    'Mighty Joe Young'   \n",
       "\n",
       "                                                  cast              director  \n",
       "82   'Josh Hartnett Simone Kessell Tamsin Egerton A...  'Roland Joff\\\\u00e9'  \n",
       "134  'Benicio del Toro Anthony Hopkins Emily Blunt ...        'Joe Johnston'  \n",
       "263  'Mike Myers Dakota Fanning Spencer Breslin Kel...            'Bo Welch'  \n",
       "306  'Jamie Kennedy Alan Cumming Traylor Howard Kal...   'Lawrence Guterman'  \n",
       "372  'Tommy Lee Jones Anne Heche Gaby Hoffmann Don ...        'Mick Jackson'  \n",
       "401  'James McAvoy Hugh Laurie Bill Nighy Jim Broad...          'Barry Cook'  \n",
       "428  'Bruce Willis Catherine Zeta-Jones Anthony Hop...        'Dean Parisot'  \n",
       "448  'Steve Martin Kevin Kline Jean Reno Beyonc\\\\u0...          'Shawn Levy'  \n",
       "458  'Stephen Dillane Victoria Foyt Vanessa Redgrav...        'Henry Jaglom'  \n",
       "462  'Charlize Theron Rade Serbedzija Bill Paxton R...       'Ron Underwood'  "
      ]
     },
     "execution_count": 165,
     "metadata": {},
     "output_type": "execute_result"
    }
   ],
   "source": [
    "movie_revenue_df[movie_revenue_df['revenue'] == '0'].head(10)"
   ]
  },
  {
   "cell_type": "code",
   "execution_count": 166,
   "metadata": {},
   "outputs": [
    {
     "name": "stdout",
     "output_type": "stream",
     "text": [
      "There are 1396 rows within the movie revenue dataframe \"movie_revenue_df\" missing revenue data.\n",
      "There are 0 rows within the movie review dataframe \"movie_review_df\" missing review data.\n"
     ]
    }
   ],
   "source": [
    "# Identifying the the number of rows with 0 as the value for revenue.\n",
    "\n",
    "print('There are', movie_revenue_df[movie_revenue_df['revenue'] == '0'].shape[0], 'rows within the movie revenue dataframe \"movie_revenue_df\" missing revenue data.')\n",
    "print('There are', movie_review_df[movie_review_df['averageRating'] == '0'].shape[0], 'rows within the movie review dataframe \"movie_review_df\" missing review data.')"
   ]
  },
  {
   "cell_type": "markdown",
   "metadata": {},
   "source": [
    "Issue and justification: There are 1396 rows with '0' revenue listed in the movie_revenue_df dataframe.  As these rows do not contain information relevant to my question comparing ratings to revenue, I intend to remove these rows.  I do not understand why 30% of this data is missing; however, I intend to continue with this analysis with the remaining data."
   ]
  },
  {
   "cell_type": "markdown",
   "metadata": {
    "id": "4ffMoRGSwzYj"
   },
   "source": [
    "### Tidiness Issue 2: "
   ]
  },
  {
   "cell_type": "code",
   "execution_count": 167,
   "metadata": {
    "id": "XUpeoqokw5Qt"
   },
   "outputs": [
    {
     "data": {
      "text/html": [
       "<div>\n",
       "<style scoped>\n",
       "    .dataframe tbody tr th:only-of-type {\n",
       "        vertical-align: middle;\n",
       "    }\n",
       "\n",
       "    .dataframe tbody tr th {\n",
       "        vertical-align: top;\n",
       "    }\n",
       "\n",
       "    .dataframe thead th {\n",
       "        text-align: right;\n",
       "    }\n",
       "</style>\n",
       "<table border=\"1\" class=\"dataframe\">\n",
       "  <thead>\n",
       "    <tr style=\"text-align: right;\">\n",
       "      <th></th>\n",
       "      <th>index</th>\n",
       "      <th>genres</th>\n",
       "      <th>id</th>\n",
       "      <th>keywords</th>\n",
       "      <th>original_title</th>\n",
       "      <th>release_date</th>\n",
       "      <th>revenue</th>\n",
       "      <th>status</th>\n",
       "      <th>title</th>\n",
       "      <th>cast</th>\n",
       "      <th>director</th>\n",
       "    </tr>\n",
       "  </thead>\n",
       "  <tbody>\n",
       "    <tr>\n",
       "      <th>684</th>\n",
       "      <td>690</td>\n",
       "      <td>'Fantasy Drama Crime'</td>\n",
       "      <td>497</td>\n",
       "      <td>'southern usa black people mentally disabled b...</td>\n",
       "      <td>'The Green Mile'</td>\n",
       "      <td>1999-12-10</td>\n",
       "      <td>284600000</td>\n",
       "      <td>Released</td>\n",
       "      <td>'The Green Mile'</td>\n",
       "      <td>'Tom Hanks Michael Clarke Duncan David Morse B...</td>\n",
       "      <td>'Frank Darabont'</td>\n",
       "    </tr>\n",
       "    <tr>\n",
       "      <th>1755</th>\n",
       "      <td>1773</td>\n",
       "      <td>'Mystery Thriller Crime'</td>\n",
       "      <td>16617</td>\n",
       "      <td>'fbi island serial killer series of murders'</td>\n",
       "      <td>Mindhunters</td>\n",
       "      <td>2004-05-07</td>\n",
       "      <td>21148829</td>\n",
       "      <td>Released</td>\n",
       "      <td>Mindhunters</td>\n",
       "      <td>'LL Cool J Jonny Lee Miller Kathryn Morris Pat...</td>\n",
       "      <td>'Renny Harlin'</td>\n",
       "    </tr>\n",
       "    <tr>\n",
       "      <th>4396</th>\n",
       "      <td>4475</td>\n",
       "      <td>'Drama Thriller'</td>\n",
       "      <td>36584</td>\n",
       "      <td>'assassination paranoia suspense conspiracy'</td>\n",
       "      <td>'Interview with the Assassin'</td>\n",
       "      <td>2002-05-09</td>\n",
       "      <td>0</td>\n",
       "      <td>Released</td>\n",
       "      <td>'Interview with the Assassin'</td>\n",
       "      <td>'Dylan Haggerty Renee Faia Dennis Lau Raymond ...</td>\n",
       "      <td>'Neil Burger'</td>\n",
       "    </tr>\n",
       "    <tr>\n",
       "      <th>4289</th>\n",
       "      <td>4366</td>\n",
       "      <td>Documentary</td>\n",
       "      <td>13508</td>\n",
       "      <td>'energy supply automobile industry independent...</td>\n",
       "      <td>'Who Killed the Electric Car?'</td>\n",
       "      <td>2006-08-04</td>\n",
       "      <td>1678874</td>\n",
       "      <td>Released</td>\n",
       "      <td>'Who Killed the Electric Car?'</td>\n",
       "      <td>'Martin Sheen Mel Gibson Tom Hanks'</td>\n",
       "      <td>'Chris Paine'</td>\n",
       "    </tr>\n",
       "    <tr>\n",
       "      <th>2993</th>\n",
       "      <td>3033</td>\n",
       "      <td>'Action Crime Mystery Thriller'</td>\n",
       "      <td>9455</td>\n",
       "      <td>'new york life and death gang war police china...</td>\n",
       "      <td>'The Corruptor'</td>\n",
       "      <td>1999-03-12</td>\n",
       "      <td>15156200</td>\n",
       "      <td>Released</td>\n",
       "      <td>'The Corruptor'</td>\n",
       "      <td>'Mark Wahlberg Chow Yun-fat Byron Mann Kim Cha...</td>\n",
       "      <td>'James Foley'</td>\n",
       "    </tr>\n",
       "    <tr>\n",
       "      <th>4442</th>\n",
       "      <td>4521</td>\n",
       "      <td>Documentary</td>\n",
       "      <td>14271</td>\n",
       "      <td>'wrestling sport controversial ecw wwe'</td>\n",
       "      <td>'Beyond the Mat'</td>\n",
       "      <td>1999-10-22</td>\n",
       "      <td>500000</td>\n",
       "      <td>Released</td>\n",
       "      <td>'Beyond the Mat'</td>\n",
       "      <td>'Mick Foley Terry Funk Vince McMahon Dwayne Jo...</td>\n",
       "      <td>'Barry W. Blaustein'</td>\n",
       "    </tr>\n",
       "    <tr>\n",
       "      <th>1998</th>\n",
       "      <td>2021</td>\n",
       "      <td>'Comedy Family'</td>\n",
       "      <td>13680</td>\n",
       "      <td>'american football bachelor sports team sport ...</td>\n",
       "      <td>'The Game Plan'</td>\n",
       "      <td>2007-09-28</td>\n",
       "      <td>147880543</td>\n",
       "      <td>Released</td>\n",
       "      <td>'The Game Plan'</td>\n",
       "      <td>'Dwayne Johnson Madison Pettis Kyra Sedgwick R...</td>\n",
       "      <td>'Andy Fickman'</td>\n",
       "    </tr>\n",
       "    <tr>\n",
       "      <th>1106</th>\n",
       "      <td>1116</td>\n",
       "      <td>'Drama Mystery Thriller'</td>\n",
       "      <td>37233</td>\n",
       "      <td>'fbi law tennessee lawyer law firm'</td>\n",
       "      <td>'The Firm'</td>\n",
       "      <td>1993-06-30</td>\n",
       "      <td>270248367</td>\n",
       "      <td>Released</td>\n",
       "      <td>'The Firm'</td>\n",
       "      <td>'Tom Cruise Jeanne Tripplehorn Gene Hackman Ho...</td>\n",
       "      <td>'Sydney Pollack'</td>\n",
       "    </tr>\n",
       "    <tr>\n",
       "      <th>3576</th>\n",
       "      <td>3633</td>\n",
       "      <td>'Comedy Drama Romance'</td>\n",
       "      <td>45658</td>\n",
       "      <td>'alcohol arizona beer playboy independent film'</td>\n",
       "      <td>'Everything Must Go'</td>\n",
       "      <td>2010-10-15</td>\n",
       "      <td>2614773</td>\n",
       "      <td>Released</td>\n",
       "      <td>'Everything Must Go'</td>\n",
       "      <td>'Rebecca Hall Will Ferrell Glenn Howerton Laur...</td>\n",
       "      <td>'Dan Rush'</td>\n",
       "    </tr>\n",
       "    <tr>\n",
       "      <th>423</th>\n",
       "      <td>428</td>\n",
       "      <td>'Action Fantasy'</td>\n",
       "      <td>364</td>\n",
       "      <td>'holiday corruption double life dc comics crim...</td>\n",
       "      <td>'Batman Returns'</td>\n",
       "      <td>1992-06-19</td>\n",
       "      <td>280000000</td>\n",
       "      <td>Released</td>\n",
       "      <td>'Batman Returns'</td>\n",
       "      <td>'Michael Keaton Danny DeVito Michelle Pfeiffer...</td>\n",
       "      <td>'Tim Burton'</td>\n",
       "    </tr>\n",
       "  </tbody>\n",
       "</table>\n",
       "</div>"
      ],
      "text/plain": [
       "     index                           genres     id  \\\n",
       "684    690            'Fantasy Drama Crime'    497   \n",
       "1755  1773         'Mystery Thriller Crime'  16617   \n",
       "4396  4475                 'Drama Thriller'  36584   \n",
       "4289  4366                      Documentary  13508   \n",
       "2993  3033  'Action Crime Mystery Thriller'   9455   \n",
       "4442  4521                      Documentary  14271   \n",
       "1998  2021                  'Comedy Family'  13680   \n",
       "1106  1116         'Drama Mystery Thriller'  37233   \n",
       "3576  3633           'Comedy Drama Romance'  45658   \n",
       "423    428                 'Action Fantasy'    364   \n",
       "\n",
       "                                               keywords  \\\n",
       "684   'southern usa black people mentally disabled b...   \n",
       "1755       'fbi island serial killer series of murders'   \n",
       "4396       'assassination paranoia suspense conspiracy'   \n",
       "4289  'energy supply automobile industry independent...   \n",
       "2993  'new york life and death gang war police china...   \n",
       "4442            'wrestling sport controversial ecw wwe'   \n",
       "1998  'american football bachelor sports team sport ...   \n",
       "1106                'fbi law tennessee lawyer law firm'   \n",
       "3576    'alcohol arizona beer playboy independent film'   \n",
       "423   'holiday corruption double life dc comics crim...   \n",
       "\n",
       "                      original_title release_date    revenue    status  \\\n",
       "684                 'The Green Mile'   1999-12-10  284600000  Released   \n",
       "1755                     Mindhunters   2004-05-07   21148829  Released   \n",
       "4396   'Interview with the Assassin'   2002-05-09          0  Released   \n",
       "4289  'Who Killed the Electric Car?'   2006-08-04    1678874  Released   \n",
       "2993                 'The Corruptor'   1999-03-12   15156200  Released   \n",
       "4442                'Beyond the Mat'   1999-10-22     500000  Released   \n",
       "1998                 'The Game Plan'   2007-09-28  147880543  Released   \n",
       "1106                      'The Firm'   1993-06-30  270248367  Released   \n",
       "3576            'Everything Must Go'   2010-10-15    2614773  Released   \n",
       "423                 'Batman Returns'   1992-06-19  280000000  Released   \n",
       "\n",
       "                               title  \\\n",
       "684                 'The Green Mile'   \n",
       "1755                     Mindhunters   \n",
       "4396   'Interview with the Assassin'   \n",
       "4289  'Who Killed the Electric Car?'   \n",
       "2993                 'The Corruptor'   \n",
       "4442                'Beyond the Mat'   \n",
       "1998                 'The Game Plan'   \n",
       "1106                      'The Firm'   \n",
       "3576            'Everything Must Go'   \n",
       "423                 'Batman Returns'   \n",
       "\n",
       "                                                   cast              director  \n",
       "684   'Tom Hanks Michael Clarke Duncan David Morse B...      'Frank Darabont'  \n",
       "1755  'LL Cool J Jonny Lee Miller Kathryn Morris Pat...        'Renny Harlin'  \n",
       "4396  'Dylan Haggerty Renee Faia Dennis Lau Raymond ...         'Neil Burger'  \n",
       "4289                'Martin Sheen Mel Gibson Tom Hanks'         'Chris Paine'  \n",
       "2993  'Mark Wahlberg Chow Yun-fat Byron Mann Kim Cha...         'James Foley'  \n",
       "4442  'Mick Foley Terry Funk Vince McMahon Dwayne Jo...  'Barry W. Blaustein'  \n",
       "1998  'Dwayne Johnson Madison Pettis Kyra Sedgwick R...        'Andy Fickman'  \n",
       "1106  'Tom Cruise Jeanne Tripplehorn Gene Hackman Ho...      'Sydney Pollack'  \n",
       "3576  'Rebecca Hall Will Ferrell Glenn Howerton Laur...            'Dan Rush'  \n",
       "423   'Michael Keaton Danny DeVito Michelle Pfeiffer...          'Tim Burton'  "
      ]
     },
     "execution_count": 167,
     "metadata": {},
     "output_type": "execute_result"
    }
   ],
   "source": [
    "movie_revenue_df.sample(10)"
   ]
  },
  {
   "cell_type": "code",
   "execution_count": 168,
   "metadata": {},
   "outputs": [
    {
     "data": {
      "text/html": [
       "<div>\n",
       "<style scoped>\n",
       "    .dataframe tbody tr th:only-of-type {\n",
       "        vertical-align: middle;\n",
       "    }\n",
       "\n",
       "    .dataframe tbody tr th {\n",
       "        vertical-align: top;\n",
       "    }\n",
       "\n",
       "    .dataframe thead th {\n",
       "        text-align: right;\n",
       "    }\n",
       "</style>\n",
       "<table border=\"1\" class=\"dataframe\">\n",
       "  <thead>\n",
       "    <tr style=\"text-align: right;\">\n",
       "      <th></th>\n",
       "      <th>index</th>\n",
       "      <th>titelId</th>\n",
       "      <th>title</th>\n",
       "      <th>averageRating</th>\n",
       "      <th>numVotes</th>\n",
       "    </tr>\n",
       "  </thead>\n",
       "  <tbody>\n",
       "    <tr>\n",
       "      <th>38566</th>\n",
       "      <td>39679</td>\n",
       "      <td>tt12076518</td>\n",
       "      <td>'Off the Grid'</td>\n",
       "      <td>5.3</td>\n",
       "      <td>101</td>\n",
       "    </tr>\n",
       "    <tr>\n",
       "      <th>33651</th>\n",
       "      <td>34614</td>\n",
       "      <td>tt11082512</td>\n",
       "      <td>'Adventure Force 5'</td>\n",
       "      <td>4.9</td>\n",
       "      <td>161</td>\n",
       "    </tr>\n",
       "    <tr>\n",
       "      <th>7571</th>\n",
       "      <td>7756</td>\n",
       "      <td>tt0051033</td>\n",
       "      <td>'Susana y yo'</td>\n",
       "      <td>4.9</td>\n",
       "      <td>14</td>\n",
       "    </tr>\n",
       "    <tr>\n",
       "      <th>6559</th>\n",
       "      <td>6723</td>\n",
       "      <td>tt0049682</td>\n",
       "      <td>'Rock Around the Clock'</td>\n",
       "      <td>6.2</td>\n",
       "      <td>1054</td>\n",
       "    </tr>\n",
       "    <tr>\n",
       "      <th>30638</th>\n",
       "      <td>31499</td>\n",
       "      <td>tt10617644</td>\n",
       "      <td>'Family Restaurant Rivals'</td>\n",
       "      <td>6.3</td>\n",
       "      <td>6</td>\n",
       "    </tr>\n",
       "    <tr>\n",
       "      <th>51343</th>\n",
       "      <td>52802</td>\n",
       "      <td>tt7933978</td>\n",
       "      <td>'Meri Saasu Maa'</td>\n",
       "      <td>6.1</td>\n",
       "      <td>7</td>\n",
       "    </tr>\n",
       "    <tr>\n",
       "      <th>40400</th>\n",
       "      <td>41576</td>\n",
       "      <td>tt1253563</td>\n",
       "      <td>Smfuglar</td>\n",
       "      <td>7.3</td>\n",
       "      <td>646</td>\n",
       "    </tr>\n",
       "    <tr>\n",
       "      <th>63396</th>\n",
       "      <td>65175</td>\n",
       "      <td>tt9537066</td>\n",
       "      <td>'Lady Tiger'</td>\n",
       "      <td>3.4</td>\n",
       "      <td>19</td>\n",
       "    </tr>\n",
       "    <tr>\n",
       "      <th>60530</th>\n",
       "      <td>62229</td>\n",
       "      <td>tt9089548</td>\n",
       "      <td>'Fox Spirit Matchmaker'</td>\n",
       "      <td>6.4</td>\n",
       "      <td>18</td>\n",
       "    </tr>\n",
       "    <tr>\n",
       "      <th>64792</th>\n",
       "      <td>66597</td>\n",
       "      <td>tt9783722</td>\n",
       "      <td>Gone</td>\n",
       "      <td>5.1</td>\n",
       "      <td>130</td>\n",
       "    </tr>\n",
       "  </tbody>\n",
       "</table>\n",
       "</div>"
      ],
      "text/plain": [
       "       index     titelId                       title averageRating numVotes\n",
       "38566  39679  tt12076518              'Off the Grid'           5.3      101\n",
       "33651  34614  tt11082512         'Adventure Force 5'           4.9      161\n",
       "7571    7756   tt0051033               'Susana y yo'           4.9       14\n",
       "6559    6723   tt0049682     'Rock Around the Clock'           6.2     1054\n",
       "30638  31499  tt10617644  'Family Restaurant Rivals'           6.3        6\n",
       "51343  52802   tt7933978            'Meri Saasu Maa'           6.1        7\n",
       "40400  41576   tt1253563                    Smfuglar           7.3      646\n",
       "63396  65175   tt9537066                'Lady Tiger'           3.4       19\n",
       "60530  62229   tt9089548     'Fox Spirit Matchmaker'           6.4       18\n",
       "64792  66597   tt9783722                        Gone           5.1      130"
      ]
     },
     "execution_count": 168,
     "metadata": {},
     "output_type": "execute_result"
    }
   ],
   "source": [
    "movie_review_df.sample(10)"
   ]
  },
  {
   "cell_type": "code",
   "execution_count": 169,
   "metadata": {
    "id": "c8JK4DoXxtFA"
   },
   "outputs": [
    {
     "data": {
      "text/plain": [
       "(4467, 4716)"
      ]
     },
     "execution_count": 169,
     "metadata": {},
     "output_type": "execute_result"
    }
   ],
   "source": [
    "movie_revenue_df[movie_revenue_df['original_title'] == movie_revenue_df['title']].shape[0], movie_revenue_df.shape[0]"
   ]
  },
  {
   "cell_type": "code",
   "execution_count": 170,
   "metadata": {},
   "outputs": [
    {
     "data": {
      "text/html": [
       "<div>\n",
       "<style scoped>\n",
       "    .dataframe tbody tr th:only-of-type {\n",
       "        vertical-align: middle;\n",
       "    }\n",
       "\n",
       "    .dataframe tbody tr th {\n",
       "        vertical-align: top;\n",
       "    }\n",
       "\n",
       "    .dataframe thead th {\n",
       "        text-align: right;\n",
       "    }\n",
       "</style>\n",
       "<table border=\"1\" class=\"dataframe\">\n",
       "  <thead>\n",
       "    <tr style=\"text-align: right;\">\n",
       "      <th></th>\n",
       "      <th>index</th>\n",
       "      <th>genres</th>\n",
       "      <th>id</th>\n",
       "      <th>keywords</th>\n",
       "      <th>original_title</th>\n",
       "      <th>release_date</th>\n",
       "      <th>revenue</th>\n",
       "      <th>status</th>\n",
       "      <th>title</th>\n",
       "      <th>cast</th>\n",
       "      <th>director</th>\n",
       "    </tr>\n",
       "  </thead>\n",
       "  <tbody>\n",
       "    <tr>\n",
       "      <th>4250</th>\n",
       "      <td>4326</td>\n",
       "      <td>'Action Thriller Crime'</td>\n",
       "      <td>94329</td>\n",
       "      <td>'crime boss tenement high rise monitor tower b...</td>\n",
       "      <td>'Serbuan maut'</td>\n",
       "      <td>2011-09-08</td>\n",
       "      <td>4105187</td>\n",
       "      <td>Released</td>\n",
       "      <td>'The Raid'</td>\n",
       "      <td>'Iko Uwais Joe Taslim Donny Alamsyah Yayan Ruh...</td>\n",
       "      <td>'Gareth Evans'</td>\n",
       "    </tr>\n",
       "    <tr>\n",
       "      <th>3442</th>\n",
       "      <td>3496</td>\n",
       "      <td>Drama</td>\n",
       "      <td>10930</td>\n",
       "      <td>'return suppressed past bourgeoisie mayor elec...</td>\n",
       "      <td>'La fleur du mal'</td>\n",
       "      <td>2003-02-09</td>\n",
       "      <td>0</td>\n",
       "      <td>Released</td>\n",
       "      <td>'The Flower of Evil'</td>\n",
       "      <td>'Beno\\\\u00eet Magimel M\\\\u00e9lanie Doutey Suz...</td>\n",
       "      <td>'Claude Chabrol'</td>\n",
       "    </tr>\n",
       "    <tr>\n",
       "      <th>3783</th>\n",
       "      <td>3845</td>\n",
       "      <td>'Fantasy Horror'</td>\n",
       "      <td>46146</td>\n",
       "      <td>'hunter mountains wilderness adventure forest'</td>\n",
       "      <td>Trolljegeren</td>\n",
       "      <td>2010-10-29</td>\n",
       "      <td>4159678</td>\n",
       "      <td>Released</td>\n",
       "      <td>'Troll Hunter'</td>\n",
       "      <td>'Otto Jespersen Hans Morten Hansen Tomas Alf L...</td>\n",
       "      <td>'Andr\\\\u00e9 \\\\u00d8vredal'</td>\n",
       "    </tr>\n",
       "    <tr>\n",
       "      <th>1926</th>\n",
       "      <td>1947</td>\n",
       "      <td>'Animation Family'</td>\n",
       "      <td>49953</td>\n",
       "      <td>'global warming sea turtle 3d'</td>\n",
       "      <td>'Sammy\\'s avonturen: De geheime doorgang'</td>\n",
       "      <td>2010-08-03</td>\n",
       "      <td>0</td>\n",
       "      <td>Released</td>\n",
       "      <td>'A Turtle\\'s Tale: Sammy\\'s Adventures'</td>\n",
       "      <td>'Yuri Lowenthal Gemma Arterton Isabelle Fuhrma...</td>\n",
       "      <td>'Ben Stassen'</td>\n",
       "    </tr>\n",
       "    <tr>\n",
       "      <th>3457</th>\n",
       "      <td>3512</td>\n",
       "      <td>'Drama Comedy Romance'</td>\n",
       "      <td>1555</td>\n",
       "      <td>'paris barcelona spain alcohol roommate single'</td>\n",
       "      <td>'L\\'Auberge espagnole'</td>\n",
       "      <td>2002-05-17</td>\n",
       "      <td>3897799</td>\n",
       "      <td>Released</td>\n",
       "      <td>'The Spanish Apartment'</td>\n",
       "      <td>'Romain Duris Audrey Tautou Kelly Reilly C\\\\u0...</td>\n",
       "      <td>'C\\\\u00e9dric Klapisch'</td>\n",
       "    </tr>\n",
       "    <tr>\n",
       "      <th>3144</th>\n",
       "      <td>3191</td>\n",
       "      <td>'Drama Foreign History War'</td>\n",
       "      <td>27329</td>\n",
       "      <td>'queen thailand invasion'</td>\n",
       "      <td>สุริโยไท</td>\n",
       "      <td>2001-08-17</td>\n",
       "      <td>0</td>\n",
       "      <td>Released</td>\n",
       "      <td>'The Legend of Suriyothai'</td>\n",
       "      <td>'M.L. Piyapas Bhirombhakdi Sarunyu Wongkrachan...</td>\n",
       "      <td>'Chatrichalerm Yukol'</td>\n",
       "    </tr>\n",
       "    <tr>\n",
       "      <th>3334</th>\n",
       "      <td>3386</td>\n",
       "      <td>'Fantasy Comedy Science Fiction'</td>\n",
       "      <td>11687</td>\n",
       "      <td>'servant time travel clumsy fellow middle ages...</td>\n",
       "      <td>'Les visiteurs'</td>\n",
       "      <td>1993-01-27</td>\n",
       "      <td>0</td>\n",
       "      <td>Released</td>\n",
       "      <td>'The Visitors'</td>\n",
       "      <td>'Jean Reno Val\\\\u00e9rie Lemercier Christian C...</td>\n",
       "      <td>'Jean-Marie Poir\\\\u00e9'</td>\n",
       "    </tr>\n",
       "    <tr>\n",
       "      <th>3057</th>\n",
       "      <td>3101</td>\n",
       "      <td>'Comedy Crime Thriller'</td>\n",
       "      <td>64559</td>\n",
       "      <td>?</td>\n",
       "      <td>'Rien ne va plus'</td>\n",
       "      <td>1997-10-15</td>\n",
       "      <td>0</td>\n",
       "      <td>Released</td>\n",
       "      <td>'The Swindle'</td>\n",
       "      <td>'Michel Serrault Isabelle Huppert Fran\\\\u00e7o...</td>\n",
       "      <td>'Claude Chabrol'</td>\n",
       "    </tr>\n",
       "    <tr>\n",
       "      <th>3480</th>\n",
       "      <td>3535</td>\n",
       "      <td>Drama</td>\n",
       "      <td>5528</td>\n",
       "      <td>'penalty choir diary musical boy\\'s choir'</td>\n",
       "      <td>'Les Choristes'</td>\n",
       "      <td>2004-03-17</td>\n",
       "      <td>0</td>\n",
       "      <td>Released</td>\n",
       "      <td>'The Chorus'</td>\n",
       "      <td>'G\\\\u00e9rard Jugnot Fran\\\\u00e7ois Berl\\\\u00e...</td>\n",
       "      <td>'Christophe Barratier'</td>\n",
       "    </tr>\n",
       "    <tr>\n",
       "      <th>3631</th>\n",
       "      <td>3690</td>\n",
       "      <td>'Drama Comedy Romance'</td>\n",
       "      <td>50848</td>\n",
       "      <td>'female nudity political voting results'</td>\n",
       "      <td>'Le Nom des gens'</td>\n",
       "      <td>2010-11-24</td>\n",
       "      <td>0</td>\n",
       "      <td>Released</td>\n",
       "      <td>'The Names of Love'</td>\n",
       "      <td>'Jacques Gamblin Sara Forestier Zinedine Soual...</td>\n",
       "      <td>'Michel Leclerc'</td>\n",
       "    </tr>\n",
       "  </tbody>\n",
       "</table>\n",
       "</div>"
      ],
      "text/plain": [
       "     index                            genres     id  \\\n",
       "4250  4326           'Action Thriller Crime'  94329   \n",
       "3442  3496                             Drama  10930   \n",
       "3783  3845                  'Fantasy Horror'  46146   \n",
       "1926  1947                'Animation Family'  49953   \n",
       "3457  3512            'Drama Comedy Romance'   1555   \n",
       "3144  3191       'Drama Foreign History War'  27329   \n",
       "3334  3386  'Fantasy Comedy Science Fiction'  11687   \n",
       "3057  3101           'Comedy Crime Thriller'  64559   \n",
       "3480  3535                             Drama   5528   \n",
       "3631  3690            'Drama Comedy Romance'  50848   \n",
       "\n",
       "                                               keywords  \\\n",
       "4250  'crime boss tenement high rise monitor tower b...   \n",
       "3442  'return suppressed past bourgeoisie mayor elec...   \n",
       "3783     'hunter mountains wilderness adventure forest'   \n",
       "1926                     'global warming sea turtle 3d'   \n",
       "3457    'paris barcelona spain alcohol roommate single'   \n",
       "3144                          'queen thailand invasion'   \n",
       "3334  'servant time travel clumsy fellow middle ages...   \n",
       "3057                                                  ?   \n",
       "3480         'penalty choir diary musical boy\\'s choir'   \n",
       "3631           'female nudity political voting results'   \n",
       "\n",
       "                                 original_title release_date  revenue  \\\n",
       "4250                             'Serbuan maut'   2011-09-08  4105187   \n",
       "3442                          'La fleur du mal'   2003-02-09        0   \n",
       "3783                               Trolljegeren   2010-10-29  4159678   \n",
       "1926  'Sammy\\'s avonturen: De geheime doorgang'   2010-08-03        0   \n",
       "3457                     'L\\'Auberge espagnole'   2002-05-17  3897799   \n",
       "3144                                   สุริโยไท   2001-08-17        0   \n",
       "3334                            'Les visiteurs'   1993-01-27        0   \n",
       "3057                          'Rien ne va plus'   1997-10-15        0   \n",
       "3480                            'Les Choristes'   2004-03-17        0   \n",
       "3631                          'Le Nom des gens'   2010-11-24        0   \n",
       "\n",
       "        status                                    title  \\\n",
       "4250  Released                               'The Raid'   \n",
       "3442  Released                     'The Flower of Evil'   \n",
       "3783  Released                           'Troll Hunter'   \n",
       "1926  Released  'A Turtle\\'s Tale: Sammy\\'s Adventures'   \n",
       "3457  Released                  'The Spanish Apartment'   \n",
       "3144  Released               'The Legend of Suriyothai'   \n",
       "3334  Released                           'The Visitors'   \n",
       "3057  Released                            'The Swindle'   \n",
       "3480  Released                             'The Chorus'   \n",
       "3631  Released                      'The Names of Love'   \n",
       "\n",
       "                                                   cast  \\\n",
       "4250  'Iko Uwais Joe Taslim Donny Alamsyah Yayan Ruh...   \n",
       "3442  'Beno\\\\u00eet Magimel M\\\\u00e9lanie Doutey Suz...   \n",
       "3783  'Otto Jespersen Hans Morten Hansen Tomas Alf L...   \n",
       "1926  'Yuri Lowenthal Gemma Arterton Isabelle Fuhrma...   \n",
       "3457  'Romain Duris Audrey Tautou Kelly Reilly C\\\\u0...   \n",
       "3144  'M.L. Piyapas Bhirombhakdi Sarunyu Wongkrachan...   \n",
       "3334  'Jean Reno Val\\\\u00e9rie Lemercier Christian C...   \n",
       "3057  'Michel Serrault Isabelle Huppert Fran\\\\u00e7o...   \n",
       "3480  'G\\\\u00e9rard Jugnot Fran\\\\u00e7ois Berl\\\\u00e...   \n",
       "3631  'Jacques Gamblin Sara Forestier Zinedine Soual...   \n",
       "\n",
       "                         director  \n",
       "4250               'Gareth Evans'  \n",
       "3442             'Claude Chabrol'  \n",
       "3783  'Andr\\\\u00e9 \\\\u00d8vredal'  \n",
       "1926                'Ben Stassen'  \n",
       "3457      'C\\\\u00e9dric Klapisch'  \n",
       "3144        'Chatrichalerm Yukol'  \n",
       "3334     'Jean-Marie Poir\\\\u00e9'  \n",
       "3057             'Claude Chabrol'  \n",
       "3480       'Christophe Barratier'  \n",
       "3631             'Michel Leclerc'  "
      ]
     },
     "execution_count": 170,
     "metadata": {},
     "output_type": "execute_result"
    }
   ],
   "source": [
    "movie_revenue_df[movie_revenue_df['original_title'] != movie_revenue_df['title']].sample(10)"
   ]
  },
  {
   "cell_type": "code",
   "execution_count": 171,
   "metadata": {},
   "outputs": [
    {
     "name": "stdout",
     "output_type": "stream",
     "text": [
      "There are 249 with text that do not match between the \"original_title\" and \"title\" columns.\n"
     ]
    }
   ],
   "source": [
    "movie_review_df_wdiff_titles = movie_revenue_df.shape[0] -movie_revenue_df[movie_revenue_df['original_title'] == movie_revenue_df['title']].shape[0]\n",
    "print('There are', movie_review_df_wdiff_titles, 'with text that do not match between the \"original_title\" and \"title\" columns.')"
   ]
  },
  {
   "cell_type": "code",
   "execution_count": 172,
   "metadata": {},
   "outputs": [
    {
     "name": "stdout",
     "output_type": "stream",
     "text": [
      "<class 'pandas.core.frame.DataFrame'>\n",
      "RangeIndex: 65584 entries, 0 to 65583\n",
      "Data columns (total 5 columns):\n",
      " #   Column         Non-Null Count  Dtype \n",
      "---  ------         --------------  ----- \n",
      " 0   index          65584 non-null  object\n",
      " 1   titelId        65584 non-null  object\n",
      " 2   title          65584 non-null  object\n",
      " 3   averageRating  65584 non-null  object\n",
      " 4   numVotes       65584 non-null  object\n",
      "dtypes: object(5)\n",
      "memory usage: 2.5+ MB\n"
     ]
    }
   ],
   "source": [
    "#  Another issue was noted regarding the qty of reviews.\n",
    "\n",
    "movie_review_df.info()"
   ]
  },
  {
   "cell_type": "code",
   "execution_count": 173,
   "metadata": {},
   "outputs": [
    {
     "data": {
      "text/html": [
       "<div>\n",
       "<style scoped>\n",
       "    .dataframe tbody tr th:only-of-type {\n",
       "        vertical-align: middle;\n",
       "    }\n",
       "\n",
       "    .dataframe tbody tr th {\n",
       "        vertical-align: top;\n",
       "    }\n",
       "\n",
       "    .dataframe thead th {\n",
       "        text-align: right;\n",
       "    }\n",
       "</style>\n",
       "<table border=\"1\" class=\"dataframe\">\n",
       "  <thead>\n",
       "    <tr style=\"text-align: right;\">\n",
       "      <th></th>\n",
       "      <th>index</th>\n",
       "      <th>titelId</th>\n",
       "      <th>title</th>\n",
       "      <th>averageRating</th>\n",
       "      <th>numVotes</th>\n",
       "    </tr>\n",
       "  </thead>\n",
       "  <tbody>\n",
       "    <tr>\n",
       "      <th>count</th>\n",
       "      <td>65584</td>\n",
       "      <td>65584</td>\n",
       "      <td>65584</td>\n",
       "      <td>65584</td>\n",
       "      <td>65584</td>\n",
       "    </tr>\n",
       "    <tr>\n",
       "      <th>unique</th>\n",
       "      <td>65584</td>\n",
       "      <td>65568</td>\n",
       "      <td>63140</td>\n",
       "      <td>91</td>\n",
       "      <td>6691</td>\n",
       "    </tr>\n",
       "    <tr>\n",
       "      <th>top</th>\n",
       "      <td>0</td>\n",
       "      <td>tt8707008</td>\n",
       "      <td>Pilot</td>\n",
       "      <td>6.8</td>\n",
       "      <td>6</td>\n",
       "    </tr>\n",
       "    <tr>\n",
       "      <th>freq</th>\n",
       "      <td>1</td>\n",
       "      <td>2</td>\n",
       "      <td>28</td>\n",
       "      <td>2325</td>\n",
       "      <td>1864</td>\n",
       "    </tr>\n",
       "  </tbody>\n",
       "</table>\n",
       "</div>"
      ],
      "text/plain": [
       "        index    titelId  title averageRating numVotes\n",
       "count   65584      65584  65584         65584    65584\n",
       "unique  65584      65568  63140            91     6691\n",
       "top         0  tt8707008  Pilot           6.8        6\n",
       "freq        1          2     28          2325     1864"
      ]
     },
     "execution_count": 173,
     "metadata": {},
     "output_type": "execute_result"
    }
   ],
   "source": [
    "movie_review_df.describe()"
   ]
  },
  {
   "cell_type": "code",
   "execution_count": 174,
   "metadata": {},
   "outputs": [],
   "source": [
    "movie_review_df = movie_review_df.astype({\"numVotes\": int})"
   ]
  },
  {
   "cell_type": "code",
   "execution_count": 175,
   "metadata": {},
   "outputs": [
    {
     "data": {
      "text/plain": [
       "count    6.558400e+04\n",
       "mean     2.437562e+03\n",
       "std      2.334232e+04\n",
       "min      5.000000e+00\n",
       "25%      1.900000e+01\n",
       "50%      7.500000e+01\n",
       "75%      3.710000e+02\n",
       "max      1.515727e+06\n",
       "Name: numVotes, dtype: float64"
      ]
     },
     "execution_count": 175,
     "metadata": {},
     "output_type": "execute_result"
    }
   ],
   "source": [
    "movie_review_df.numVotes.describe()"
   ]
  },
  {
   "cell_type": "code",
   "execution_count": 176,
   "metadata": {},
   "outputs": [
    {
     "name": "stdout",
     "output_type": "stream",
     "text": [
      "There are 51554 movies with less than 500 reviews out of 65584 moview.\n"
     ]
    }
   ],
   "source": [
    "#progamatically identifying the total number of rows with less than 500 reviews.\n",
    "\n",
    "print('There are', movie_review_df[ movie_review_df['numVotes'] < 500 ].value_counts().sum(), 'movies with less than 500 reviews out of', movie_review_df.shape[0], 'moview.')"
   ]
  },
  {
   "cell_type": "markdown",
   "metadata": {},
   "source": [
    "Issue and justification: \n",
    "\n",
    "One concern identified regarding the data and how it will affect answering the question is that there are many average ratings in the rating dataframe which are based on relatively few reviews.  I will arbitrarily pick a number of reviews to set as the minimum qty and remove any rows with less than this qty of reviews contributing to the average rating."
   ]
  },
  {
   "cell_type": "markdown",
   "metadata": {},
   "source": [
    "Note:  The data was read from csv into pandas without using an existing column as an index.  This has caused two columns to contain the same information, although referencing indexes from different tables.  One of these need to be removed from each dataframe and the index reset.\n",
    "\n",
    "It appears the 'title' column contains the text of the movie titles without many of the special characters found in the \"orignal_title column\".  Due to this the \"original_title\" column will be removed as it is unlikly to match with the title data found in the moview review dataset.\n",
    "\n",
    "Also, the titles for these movies is found listed in two different column in movie_revenue_df:  \"original_title\" and \"title\".  One of these will need to be removed to clarify and ease the intepretation of the data.\n",
    "\n",
    "These issues will most likely be cleaned up when the unnecessary rows are removed from these dataframes."
   ]
  },
  {
   "cell_type": "markdown",
   "metadata": {
    "id": "D6gmLnBttpCh"
   },
   "source": [
    "## 3. Clean data\n",
    "Clean the data to solve the 4 issues corresponding to data quality and tidiness found in the assessing step. **Make sure you include justifications for your cleaning decisions.**\n",
    "\n",
    "After the cleaning for each issue, please use **either** the visually or programatical method to validate the cleaning was succesful.\n",
    "\n",
    "At this stage, you are also expected to remove variables that are unnecessary for your analysis and combine your datasets. Depending on your datasets, you may choose to perform variable combination and elimination before or after the cleaning stage. Your dataset must have **at least** 4 variables after combining the data."
   ]
  },
  {
   "cell_type": "code",
   "execution_count": 177,
   "metadata": {},
   "outputs": [],
   "source": [
    "movie_revenue_df_cleaned = movie_revenue_df\n",
    "movie_review_df_cleaned = movie_review_df"
   ]
  },
  {
   "cell_type": "markdown",
   "metadata": {
    "id": "FmFhN52Yyn3l"
   },
   "source": [
    "### **Quality Issue 1: FILL IN**"
   ]
  },
  {
   "cell_type": "markdown",
   "metadata": {},
   "source": [
    "Restatement of status from Quality Issue 1 above:\n",
    "These datasets contain more information than needed to answer the original question \n",
    "regarding the revenue vs. rating. The only columns I feel are useful are the \n",
    "id, title/original_title, revenue, review, and averageRating. \n",
    "The inclusion of the remaining fields could negatively impact the readability of the cleaned \n",
    "dataframes, especially after they are joined."
   ]
  },
  {
   "cell_type": "code",
   "execution_count": 178,
   "metadata": {},
   "outputs": [
    {
     "name": "stdout",
     "output_type": "stream",
     "text": [
      "<class 'pandas.core.frame.DataFrame'>\n",
      "RangeIndex: 4716 entries, 0 to 4715\n",
      "Data columns (total 11 columns):\n",
      " #   Column          Non-Null Count  Dtype \n",
      "---  ------          --------------  ----- \n",
      " 0   index           4716 non-null   object\n",
      " 1   genres          4716 non-null   object\n",
      " 2   id              4716 non-null   object\n",
      " 3   keywords        4716 non-null   object\n",
      " 4   original_title  4716 non-null   object\n",
      " 5   release_date    4716 non-null   object\n",
      " 6   revenue         4716 non-null   object\n",
      " 7   status          4716 non-null   object\n",
      " 8   title           4716 non-null   object\n",
      " 9   cast            4716 non-null   object\n",
      " 10  director        4716 non-null   object\n",
      "dtypes: object(11)\n",
      "memory usage: 405.4+ KB\n",
      "<class 'pandas.core.frame.DataFrame'>\n",
      "RangeIndex: 65584 entries, 0 to 65583\n",
      "Data columns (total 5 columns):\n",
      " #   Column         Non-Null Count  Dtype \n",
      "---  ------         --------------  ----- \n",
      " 0   index          65584 non-null  object\n",
      " 1   titelId        65584 non-null  object\n",
      " 2   title          65584 non-null  object\n",
      " 3   averageRating  65584 non-null  object\n",
      " 4   numVotes       65584 non-null  int64 \n",
      "dtypes: int64(1), object(4)\n",
      "memory usage: 2.5+ MB\n"
     ]
    },
    {
     "data": {
      "text/plain": [
       "(None, None)"
      ]
     },
     "execution_count": 178,
     "metadata": {},
     "output_type": "execute_result"
    }
   ],
   "source": [
    "movie_revenue_df_cleaned.info(), movie_review_df_cleaned.info()"
   ]
  },
  {
   "cell_type": "code",
   "execution_count": null,
   "metadata": {
    "id": "9UejDWrNMW4a"
   },
   "outputs": [],
   "source": [
    "# Overwriting the existing dataframes with the same dataframe without the unnecessary columns.\n",
    "\n",
    "movie_revenue_df_cleaned = movie_revenue_df_cleaned[['id', 'title', 'revenue','release_date']]\n",
    "movie_review_df_cleaned = movie_review_df_cleaned[['title', 'averageRating', 'numVotes']]"
   ]
  },
  {
   "cell_type": "code",
   "execution_count": 180,
   "metadata": {},
   "outputs": [
    {
     "name": "stdout",
     "output_type": "stream",
     "text": [
      "<class 'pandas.core.frame.DataFrame'>\n",
      "RangeIndex: 4716 entries, 0 to 4715\n",
      "Data columns (total 3 columns):\n",
      " #   Column   Non-Null Count  Dtype \n",
      "---  ------   --------------  ----- \n",
      " 0   id       4716 non-null   object\n",
      " 1   title    4716 non-null   object\n",
      " 2   revenue  4716 non-null   object\n",
      "dtypes: object(3)\n",
      "memory usage: 110.7+ KB\n",
      "<class 'pandas.core.frame.DataFrame'>\n",
      "RangeIndex: 65584 entries, 0 to 65583\n",
      "Data columns (total 3 columns):\n",
      " #   Column         Non-Null Count  Dtype \n",
      "---  ------         --------------  ----- \n",
      " 0   title          65584 non-null  object\n",
      " 1   averageRating  65584 non-null  object\n",
      " 2   numVotes       65584 non-null  int64 \n",
      "dtypes: int64(1), object(2)\n",
      "memory usage: 1.5+ MB\n"
     ]
    },
    {
     "data": {
      "text/plain": [
       "(None, None)"
      ]
     },
     "execution_count": 180,
     "metadata": {},
     "output_type": "execute_result"
    }
   ],
   "source": [
    "movie_revenue_df_cleaned.info(), movie_review_df_cleaned.info()"
   ]
  },
  {
   "cell_type": "code",
   "execution_count": 181,
   "metadata": {},
   "outputs": [
    {
     "data": {
      "text/html": [
       "<div>\n",
       "<style scoped>\n",
       "    .dataframe tbody tr th:only-of-type {\n",
       "        vertical-align: middle;\n",
       "    }\n",
       "\n",
       "    .dataframe tbody tr th {\n",
       "        vertical-align: top;\n",
       "    }\n",
       "\n",
       "    .dataframe thead th {\n",
       "        text-align: right;\n",
       "    }\n",
       "</style>\n",
       "<table border=\"1\" class=\"dataframe\">\n",
       "  <thead>\n",
       "    <tr style=\"text-align: right;\">\n",
       "      <th></th>\n",
       "      <th>id</th>\n",
       "      <th>title</th>\n",
       "      <th>revenue</th>\n",
       "    </tr>\n",
       "  </thead>\n",
       "  <tbody>\n",
       "    <tr>\n",
       "      <th>0</th>\n",
       "      <td>19995</td>\n",
       "      <td>Avatar</td>\n",
       "      <td>2787965087</td>\n",
       "    </tr>\n",
       "    <tr>\n",
       "      <th>1</th>\n",
       "      <td>285</td>\n",
       "      <td>'Pirates of the Caribbean: At World\\'s End'</td>\n",
       "      <td>961000000</td>\n",
       "    </tr>\n",
       "    <tr>\n",
       "      <th>2</th>\n",
       "      <td>206647</td>\n",
       "      <td>Spectre</td>\n",
       "      <td>880674609</td>\n",
       "    </tr>\n",
       "  </tbody>\n",
       "</table>\n",
       "</div>"
      ],
      "text/plain": [
       "       id                                        title     revenue\n",
       "0   19995                                       Avatar  2787965087\n",
       "1     285  'Pirates of the Caribbean: At World\\'s End'   961000000\n",
       "2  206647                                      Spectre   880674609"
      ]
     },
     "execution_count": 181,
     "metadata": {},
     "output_type": "execute_result"
    }
   ],
   "source": [
    "movie_revenue_df_cleaned.head(3)"
   ]
  },
  {
   "cell_type": "code",
   "execution_count": 182,
   "metadata": {},
   "outputs": [
    {
     "data": {
      "text/html": [
       "<div>\n",
       "<style scoped>\n",
       "    .dataframe tbody tr th:only-of-type {\n",
       "        vertical-align: middle;\n",
       "    }\n",
       "\n",
       "    .dataframe tbody tr th {\n",
       "        vertical-align: top;\n",
       "    }\n",
       "\n",
       "    .dataframe thead th {\n",
       "        text-align: right;\n",
       "    }\n",
       "</style>\n",
       "<table border=\"1\" class=\"dataframe\">\n",
       "  <thead>\n",
       "    <tr style=\"text-align: right;\">\n",
       "      <th></th>\n",
       "      <th>title</th>\n",
       "      <th>averageRating</th>\n",
       "      <th>numVotes</th>\n",
       "    </tr>\n",
       "  </thead>\n",
       "  <tbody>\n",
       "    <tr>\n",
       "      <th>0</th>\n",
       "      <td>Carmencita</td>\n",
       "      <td>5.7</td>\n",
       "      <td>1676</td>\n",
       "    </tr>\n",
       "    <tr>\n",
       "      <th>1</th>\n",
       "      <td>'Le clown et ses chiens'</td>\n",
       "      <td>6.1</td>\n",
       "      <td>208</td>\n",
       "    </tr>\n",
       "    <tr>\n",
       "      <th>2</th>\n",
       "      <td>'Pauvre Pierrot'</td>\n",
       "      <td>6.5</td>\n",
       "      <td>1404</td>\n",
       "    </tr>\n",
       "  </tbody>\n",
       "</table>\n",
       "</div>"
      ],
      "text/plain": [
       "                      title averageRating  numVotes\n",
       "0                Carmencita           5.7      1676\n",
       "1  'Le clown et ses chiens'           6.1       208\n",
       "2          'Pauvre Pierrot'           6.5      1404"
      ]
     },
     "execution_count": 182,
     "metadata": {},
     "output_type": "execute_result"
    }
   ],
   "source": [
    "movie_review_df_cleaned.head(3)"
   ]
  },
  {
   "cell_type": "markdown",
   "metadata": {},
   "source": [
    "Justification: The cleaning of the unnecessary columns has been successful.  These dataframes now contain only 3 columns each which are useful to answering the question.  I chose to remove the unnecessary columns from the dataframes so that the focus of the analysis could be retained upon the useful information.  This removal also keeps the dataframes more easily understandable when reviewing the remaining data."
   ]
  },
  {
   "cell_type": "markdown",
   "metadata": {
    "id": "n_DAUbJrymBL"
   },
   "source": [
    "### **Quality Issue 2: FILL IN**"
   ]
  },
  {
   "cell_type": "markdown",
   "metadata": {},
   "source": [
    "Restatement of status from Quality Issue 2 above:\n",
    "The data types for revenue and averageRating should be float.  In order to get the data uploaded I had to do all fields as strings due to inconcistency in the source data.  There is data in this column which is text and cannot be converted to a float.  This will need to be corrected.\n",
    "\n",
    "I am not worried about the remaining fields as they will be removed from the final dataset."
   ]
  },
  {
   "cell_type": "code",
   "execution_count": 183,
   "metadata": {},
   "outputs": [
    {
     "name": "stdout",
     "output_type": "stream",
     "text": [
      "<class 'pandas.core.frame.DataFrame'>\n",
      "RangeIndex: 4716 entries, 0 to 4715\n",
      "Data columns (total 3 columns):\n",
      " #   Column   Non-Null Count  Dtype \n",
      "---  ------   --------------  ----- \n",
      " 0   id       4716 non-null   object\n",
      " 1   title    4716 non-null   object\n",
      " 2   revenue  4716 non-null   object\n",
      "dtypes: object(3)\n",
      "memory usage: 110.7+ KB\n"
     ]
    }
   ],
   "source": [
    "#Identifying visually the data types for the daataframes.\n",
    "\n",
    "movie_revenue_df_cleaned.info()"
   ]
  },
  {
   "cell_type": "code",
   "execution_count": 184,
   "metadata": {},
   "outputs": [
    {
     "name": "stdout",
     "output_type": "stream",
     "text": [
      "<class 'pandas.core.frame.DataFrame'>\n",
      "RangeIndex: 65584 entries, 0 to 65583\n",
      "Data columns (total 3 columns):\n",
      " #   Column         Non-Null Count  Dtype \n",
      "---  ------         --------------  ----- \n",
      " 0   title          65584 non-null  object\n",
      " 1   averageRating  65584 non-null  object\n",
      " 2   numVotes       65584 non-null  int64 \n",
      "dtypes: int64(1), object(2)\n",
      "memory usage: 1.5+ MB\n"
     ]
    }
   ],
   "source": [
    "movie_review_df_cleaned.info()"
   ]
  },
  {
   "cell_type": "code",
   "execution_count": 185,
   "metadata": {},
   "outputs": [],
   "source": [
    "#  Reassigning the data types and reviewing .info() to see the change is complete.\n",
    "\n",
    "movie_revenue_df_cleaned = movie_revenue_df_cleaned.astype({\"id\": int})"
   ]
  },
  {
   "cell_type": "code",
   "execution_count": 186,
   "metadata": {},
   "outputs": [
    {
     "name": "stdout",
     "output_type": "stream",
     "text": [
      "<class 'pandas.core.frame.DataFrame'>\n",
      "RangeIndex: 4716 entries, 0 to 4715\n",
      "Data columns (total 3 columns):\n",
      " #   Column   Non-Null Count  Dtype  \n",
      "---  ------   --------------  -----  \n",
      " 0   id       4716 non-null   int64  \n",
      " 1   title    4716 non-null   object \n",
      " 2   revenue  4716 non-null   float64\n",
      "dtypes: float64(1), int64(1), object(1)\n",
      "memory usage: 110.7+ KB\n"
     ]
    }
   ],
   "source": [
    "movie_revenue_df_cleaned = movie_revenue_df_cleaned.astype({\"revenue\":float})\n",
    "movie_revenue_df_cleaned.info()"
   ]
  },
  {
   "cell_type": "code",
   "execution_count": 187,
   "metadata": {},
   "outputs": [],
   "source": [
    "movie_review_df_cleaned = movie_review_df_cleaned.astype({\"averageRating\": float})"
   ]
  },
  {
   "cell_type": "code",
   "execution_count": 188,
   "metadata": {},
   "outputs": [
    {
     "name": "stdout",
     "output_type": "stream",
     "text": [
      "<class 'pandas.core.frame.DataFrame'>\n",
      "RangeIndex: 65584 entries, 0 to 65583\n",
      "Data columns (total 3 columns):\n",
      " #   Column         Non-Null Count  Dtype  \n",
      "---  ------         --------------  -----  \n",
      " 0   title          65584 non-null  object \n",
      " 1   averageRating  65584 non-null  float64\n",
      " 2   numVotes       65584 non-null  int64  \n",
      "dtypes: float64(1), int64(1), object(1)\n",
      "memory usage: 1.5+ MB\n"
     ]
    }
   ],
   "source": [
    "movie_review_df_cleaned = movie_review_df_cleaned.astype({\"numVotes\": int})\n",
    "movie_review_df_cleaned.info()"
   ]
  },
  {
   "cell_type": "markdown",
   "metadata": {},
   "source": [
    "Justification: I have used .astype() to assign the correct datatypes to the identified columns.  This is the easiest way to achieve this goal on the dataframes I currently have.  The reassignment of data types for the identified columns has been successful and verified visually using .info()."
   ]
  },
  {
   "cell_type": "markdown",
   "metadata": {
    "id": "bIUrrfSNyOPR"
   },
   "source": [
    "### **Tidiness Issue 1: FILL IN**"
   ]
  },
  {
   "cell_type": "markdown",
   "metadata": {},
   "source": [
    "Restatement of status from Tidiness Issue 1 above:  There are 1396 rows with '0' revenue listed in the movie_revenue_df dataframe.  As these rows do not contain information relevant to my question comparing ratings to revenue, I intend to remove these rows.  I do not understand why 30% of this data is missing; however, I intend to continue with this analysis with the remaining data."
   ]
  },
  {
   "cell_type": "code",
   "execution_count": 189,
   "metadata": {},
   "outputs": [
    {
     "name": "stdout",
     "output_type": "stream",
     "text": [
      "<class 'pandas.core.frame.DataFrame'>\n",
      "RangeIndex: 4716 entries, 0 to 4715\n",
      "Data columns (total 3 columns):\n",
      " #   Column   Non-Null Count  Dtype  \n",
      "---  ------   --------------  -----  \n",
      " 0   id       4716 non-null   int64  \n",
      " 1   title    4716 non-null   object \n",
      " 2   revenue  4716 non-null   float64\n",
      "dtypes: float64(1), int64(1), object(1)\n",
      "memory usage: 110.7+ KB\n"
     ]
    }
   ],
   "source": [
    "movie_revenue_df_cleaned.info()"
   ]
  },
  {
   "cell_type": "code",
   "execution_count": 190,
   "metadata": {},
   "outputs": [
    {
     "name": "stdout",
     "output_type": "stream",
     "text": [
      "We started with 1396 rows in the revenue dataframe which do not contain useful revenue data.\n"
     ]
    }
   ],
   "source": [
    "#  Verifying the starting qty of rows with a value of 0 for revenue.\n",
    "\n",
    "print('We started with', movie_revenue_df_cleaned[ movie_revenue_df_cleaned['revenue'] == 0 ].value_counts().sum(), 'rows in the revenue dataframe which do not contain useful revenue data.')"
   ]
  },
  {
   "cell_type": "code",
   "execution_count": 191,
   "metadata": {},
   "outputs": [],
   "source": [
    "movie_revenue_df_cleaned = movie_revenue_df_cleaned.loc[movie_revenue_df_cleaned['revenue'] != 0]"
   ]
  },
  {
   "cell_type": "code",
   "execution_count": 192,
   "metadata": {},
   "outputs": [
    {
     "name": "stdout",
     "output_type": "stream",
     "text": [
      "There are now 0 rows in the revenue dataframe which do not contain useful revenue data.\n"
     ]
    }
   ],
   "source": [
    "#  Verifying the qty of rows with a value of 0 for revenue after filtering out the 0's.\n",
    "\n",
    "print('There are now', movie_revenue_df_cleaned[ movie_revenue_df_cleaned['revenue'] == 0 ].value_counts().sum(), 'rows in the revenue dataframe which do not contain useful revenue data.')"
   ]
  },
  {
   "cell_type": "code",
   "execution_count": 193,
   "metadata": {
    "id": "yhrnUGY_Nk8B"
   },
   "outputs": [
    {
     "data": {
      "text/html": [
       "<div>\n",
       "<style scoped>\n",
       "    .dataframe tbody tr th:only-of-type {\n",
       "        vertical-align: middle;\n",
       "    }\n",
       "\n",
       "    .dataframe tbody tr th {\n",
       "        vertical-align: top;\n",
       "    }\n",
       "\n",
       "    .dataframe thead th {\n",
       "        text-align: right;\n",
       "    }\n",
       "</style>\n",
       "<table border=\"1\" class=\"dataframe\">\n",
       "  <thead>\n",
       "    <tr style=\"text-align: right;\">\n",
       "      <th></th>\n",
       "      <th>id</th>\n",
       "      <th>revenue</th>\n",
       "    </tr>\n",
       "  </thead>\n",
       "  <tbody>\n",
       "    <tr>\n",
       "      <th>count</th>\n",
       "      <td>3320.000000</td>\n",
       "      <td>3.320000e+03</td>\n",
       "    </tr>\n",
       "    <tr>\n",
       "      <th>mean</th>\n",
       "      <td>45488.546687</td>\n",
       "      <td>1.177097e+08</td>\n",
       "    </tr>\n",
       "    <tr>\n",
       "      <th>std</th>\n",
       "      <td>74794.464029</td>\n",
       "      <td>1.841241e+08</td>\n",
       "    </tr>\n",
       "    <tr>\n",
       "      <th>min</th>\n",
       "      <td>5.000000</td>\n",
       "      <td>5.000000e+00</td>\n",
       "    </tr>\n",
       "    <tr>\n",
       "      <th>25%</th>\n",
       "      <td>5656.500000</td>\n",
       "      <td>1.546679e+07</td>\n",
       "    </tr>\n",
       "    <tr>\n",
       "      <th>50%</th>\n",
       "      <td>11563.000000</td>\n",
       "      <td>5.200396e+07</td>\n",
       "    </tr>\n",
       "    <tr>\n",
       "      <th>75%</th>\n",
       "      <td>46914.000000</td>\n",
       "      <td>1.408557e+08</td>\n",
       "    </tr>\n",
       "    <tr>\n",
       "      <th>max</th>\n",
       "      <td>417859.000000</td>\n",
       "      <td>2.787965e+09</td>\n",
       "    </tr>\n",
       "  </tbody>\n",
       "</table>\n",
       "</div>"
      ],
      "text/plain": [
       "                  id       revenue\n",
       "count    3320.000000  3.320000e+03\n",
       "mean    45488.546687  1.177097e+08\n",
       "std     74794.464029  1.841241e+08\n",
       "min         5.000000  5.000000e+00\n",
       "25%      5656.500000  1.546679e+07\n",
       "50%     11563.000000  5.200396e+07\n",
       "75%     46914.000000  1.408557e+08\n",
       "max    417859.000000  2.787965e+09"
      ]
     },
     "execution_count": 193,
     "metadata": {},
     "output_type": "execute_result"
    }
   ],
   "source": [
    "#Reviewing the new percentiles following the change.\n",
    "\n",
    "movie_revenue_df_cleaned.describe()"
   ]
  },
  {
   "cell_type": "markdown",
   "metadata": {},
   "source": [
    "Justification: The lines where 'revenue' = 0 have been removed as these rows will not be useful to answer our question.  Also this will remove the need to process these unhelpful rows when manipulating the useful data."
   ]
  },
  {
   "cell_type": "markdown",
   "metadata": {
    "id": "o51Bt8kwyTzk"
   },
   "source": [
    "### **Tidiness Issue 2: FILL IN**"
   ]
  },
  {
   "cell_type": "markdown",
   "metadata": {},
   "source": [
    "Restate the status from Tidiness Issue 2 above:  One concern identified regarding the data and how it will affect answering the question is that there are many average ratings in the rating dataframe which are based on relatively few reviews.  I will arbitrarily pick a number of reviews to set as the minimum qty and remove any rows with less than this qty of reviews contributing to the average rating."
   ]
  },
  {
   "cell_type": "code",
   "execution_count": 194,
   "metadata": {},
   "outputs": [
    {
     "data": {
      "text/plain": [
       "(count    6.558400e+04\n",
       " mean     2.437562e+03\n",
       " std      2.334232e+04\n",
       " min      5.000000e+00\n",
       " 25%      1.900000e+01\n",
       " 50%      7.500000e+01\n",
       " 75%      3.710000e+02\n",
       " max      1.515727e+06\n",
       " Name: numVotes, dtype: float64,\n",
       " (65584, 3))"
      ]
     },
     "execution_count": 194,
     "metadata": {},
     "output_type": "execute_result"
    }
   ],
   "source": [
    "# Reviewing the percentiles prior to the change.  The lowest qty of reviews is 5.\n",
    "\n",
    "movie_review_df_cleaned.numVotes.describe(), movie_review_df_cleaned.shape"
   ]
  },
  {
   "cell_type": "code",
   "execution_count": 195,
   "metadata": {},
   "outputs": [],
   "source": [
    "#movie_review_df_cleaned.sort_values('averageRating', ascending=False).head(20)\n",
    "#movie_review_df_cleaned.head(20)"
   ]
  },
  {
   "cell_type": "code",
   "execution_count": 196,
   "metadata": {},
   "outputs": [
    {
     "data": {
      "text/html": [
       "<div>\n",
       "<style scoped>\n",
       "    .dataframe tbody tr th:only-of-type {\n",
       "        vertical-align: middle;\n",
       "    }\n",
       "\n",
       "    .dataframe tbody tr th {\n",
       "        vertical-align: top;\n",
       "    }\n",
       "\n",
       "    .dataframe thead th {\n",
       "        text-align: right;\n",
       "    }\n",
       "</style>\n",
       "<table border=\"1\" class=\"dataframe\">\n",
       "  <thead>\n",
       "    <tr style=\"text-align: right;\">\n",
       "      <th></th>\n",
       "      <th>title</th>\n",
       "      <th>averageRating</th>\n",
       "      <th>numVotes</th>\n",
       "    </tr>\n",
       "  </thead>\n",
       "  <tbody>\n",
       "    <tr>\n",
       "      <th>44844</th>\n",
       "      <td>'The Rhythm Section'</td>\n",
       "      <td>5.3</td>\n",
       "      <td>12171</td>\n",
       "    </tr>\n",
       "    <tr>\n",
       "      <th>43806</th>\n",
       "      <td>'Ayriliq imis'</td>\n",
       "      <td>4.2</td>\n",
       "      <td>5</td>\n",
       "    </tr>\n",
       "    <tr>\n",
       "      <th>9145</th>\n",
       "      <td>'Paratroop Command'</td>\n",
       "      <td>5.4</td>\n",
       "      <td>186</td>\n",
       "    </tr>\n",
       "    <tr>\n",
       "      <th>36959</th>\n",
       "      <td>Machan</td>\n",
       "      <td>7.9</td>\n",
       "      <td>1964</td>\n",
       "    </tr>\n",
       "    <tr>\n",
       "      <th>44706</th>\n",
       "      <td>'In the Vault'</td>\n",
       "      <td>6.5</td>\n",
       "      <td>189</td>\n",
       "    </tr>\n",
       "    <tr>\n",
       "      <th>63337</th>\n",
       "      <td>Alone/Together</td>\n",
       "      <td>6.8</td>\n",
       "      <td>365</td>\n",
       "    </tr>\n",
       "    <tr>\n",
       "      <th>35139</th>\n",
       "      <td>'Naito wizdo za animshon'</td>\n",
       "      <td>6.0</td>\n",
       "      <td>12</td>\n",
       "    </tr>\n",
       "    <tr>\n",
       "      <th>55159</th>\n",
       "      <td>'Monkey Baat'</td>\n",
       "      <td>5.8</td>\n",
       "      <td>6</td>\n",
       "    </tr>\n",
       "    <tr>\n",
       "      <th>36312</th>\n",
       "      <td>Chrysalis</td>\n",
       "      <td>4.3</td>\n",
       "      <td>286</td>\n",
       "    </tr>\n",
       "    <tr>\n",
       "      <th>61845</th>\n",
       "      <td>'What Lies Below'</td>\n",
       "      <td>4.6</td>\n",
       "      <td>1570</td>\n",
       "    </tr>\n",
       "    <tr>\n",
       "      <th>60763</th>\n",
       "      <td>'The Serenade'</td>\n",
       "      <td>8.1</td>\n",
       "      <td>9</td>\n",
       "    </tr>\n",
       "    <tr>\n",
       "      <th>34421</th>\n",
       "      <td>'The Monkeyboy Fever'</td>\n",
       "      <td>6.0</td>\n",
       "      <td>7</td>\n",
       "    </tr>\n",
       "    <tr>\n",
       "      <th>50236</th>\n",
       "      <td>'Une intime conviction'</td>\n",
       "      <td>6.8</td>\n",
       "      <td>1078</td>\n",
       "    </tr>\n",
       "    <tr>\n",
       "      <th>10095</th>\n",
       "      <td>'Valley of the Redwoods'</td>\n",
       "      <td>5.0</td>\n",
       "      <td>10</td>\n",
       "    </tr>\n",
       "    <tr>\n",
       "      <th>46368</th>\n",
       "      <td>'Ungarala Rambabu'</td>\n",
       "      <td>3.2</td>\n",
       "      <td>29</td>\n",
       "    </tr>\n",
       "    <tr>\n",
       "      <th>1671</th>\n",
       "      <td>'A Fight for Love'</td>\n",
       "      <td>4.3</td>\n",
       "      <td>26</td>\n",
       "    </tr>\n",
       "    <tr>\n",
       "      <th>32622</th>\n",
       "      <td>'Tajemnica twierdzy szyfrw'</td>\n",
       "      <td>6.3</td>\n",
       "      <td>168</td>\n",
       "    </tr>\n",
       "    <tr>\n",
       "      <th>41081</th>\n",
       "      <td>'Xue sha'</td>\n",
       "      <td>2.9</td>\n",
       "      <td>7</td>\n",
       "    </tr>\n",
       "    <tr>\n",
       "      <th>55208</th>\n",
       "      <td>'Nham Mat Thay Mua He'</td>\n",
       "      <td>6.8</td>\n",
       "      <td>137</td>\n",
       "    </tr>\n",
       "    <tr>\n",
       "      <th>11063</th>\n",
       "      <td>'Alegre juventud'</td>\n",
       "      <td>4.4</td>\n",
       "      <td>18</td>\n",
       "    </tr>\n",
       "  </tbody>\n",
       "</table>\n",
       "</div>"
      ],
      "text/plain": [
       "                             title  averageRating  numVotes\n",
       "44844         'The Rhythm Section'            5.3     12171\n",
       "43806               'Ayriliq imis'            4.2         5\n",
       "9145           'Paratroop Command'            5.4       186\n",
       "36959                       Machan            7.9      1964\n",
       "44706               'In the Vault'            6.5       189\n",
       "63337               Alone/Together            6.8       365\n",
       "35139    'Naito wizdo za animshon'            6.0        12\n",
       "55159                'Monkey Baat'            5.8         6\n",
       "36312                    Chrysalis            4.3       286\n",
       "61845            'What Lies Below'            4.6      1570\n",
       "60763               'The Serenade'            8.1         9\n",
       "34421        'The Monkeyboy Fever'            6.0         7\n",
       "50236      'Une intime conviction'            6.8      1078\n",
       "10095     'Valley of the Redwoods'            5.0        10\n",
       "46368           'Ungarala Rambabu'            3.2        29\n",
       "1671            'A Fight for Love'            4.3        26\n",
       "32622  'Tajemnica twierdzy szyfrw'            6.3       168\n",
       "41081                    'Xue sha'            2.9         7\n",
       "55208       'Nham Mat Thay Mua He'            6.8       137\n",
       "11063            'Alegre juventud'            4.4        18"
      ]
     },
     "execution_count": 196,
     "metadata": {},
     "output_type": "execute_result"
    }
   ],
   "source": [
    "# Reviewing a sample of 20 items from thie dataframe.\n",
    "\n",
    "movie_review_df_cleaned.sample(20)"
   ]
  },
  {
   "cell_type": "code",
   "execution_count": 197,
   "metadata": {},
   "outputs": [
    {
     "data": {
      "text/plain": [
       "51554"
      ]
     },
     "execution_count": 197,
     "metadata": {},
     "output_type": "execute_result"
    }
   ],
   "source": [
    "# Reviewing the qty of rows with numVotes values less than 500.\n",
    "\n",
    "movie_review_df_cleaned[ movie_review_df_cleaned['numVotes'] < 500 ].value_counts().sum()"
   ]
  },
  {
   "cell_type": "code",
   "execution_count": 198,
   "metadata": {},
   "outputs": [],
   "source": [
    "movie_review_df_cleaned = movie_review_df_cleaned.loc[movie_review_df_cleaned['numVotes'] > 500 ]"
   ]
  },
  {
   "cell_type": "code",
   "execution_count": 199,
   "metadata": {},
   "outputs": [
    {
     "data": {
      "text/plain": [
       "(0, (14015, 3))"
      ]
     },
     "execution_count": 199,
     "metadata": {},
     "output_type": "execute_result"
    }
   ],
   "source": [
    "# Reviewing the qty of rows with numVotes values after filtering with less than 500.  \n",
    "# Also reviewing the number of remaining rows of data.\n",
    "\n",
    "movie_review_df_cleaned[ movie_review_df_cleaned['numVotes'] < 500 ].value_counts().sum(), movie_review_df_cleaned.shape"
   ]
  },
  {
   "cell_type": "code",
   "execution_count": 200,
   "metadata": {},
   "outputs": [
    {
     "data": {
      "text/html": [
       "<div>\n",
       "<style scoped>\n",
       "    .dataframe tbody tr th:only-of-type {\n",
       "        vertical-align: middle;\n",
       "    }\n",
       "\n",
       "    .dataframe tbody tr th {\n",
       "        vertical-align: top;\n",
       "    }\n",
       "\n",
       "    .dataframe thead th {\n",
       "        text-align: right;\n",
       "    }\n",
       "</style>\n",
       "<table border=\"1\" class=\"dataframe\">\n",
       "  <thead>\n",
       "    <tr style=\"text-align: right;\">\n",
       "      <th></th>\n",
       "      <th>averageRating</th>\n",
       "      <th>numVotes</th>\n",
       "    </tr>\n",
       "  </thead>\n",
       "  <tbody>\n",
       "    <tr>\n",
       "      <th>count</th>\n",
       "      <td>14015.000000</td>\n",
       "      <td>1.401500e+04</td>\n",
       "    </tr>\n",
       "    <tr>\n",
       "      <th>mean</th>\n",
       "      <td>6.566044</td>\n",
       "      <td>1.106559e+04</td>\n",
       "    </tr>\n",
       "    <tr>\n",
       "      <th>std</th>\n",
       "      <td>1.245668</td>\n",
       "      <td>4.954933e+04</td>\n",
       "    </tr>\n",
       "    <tr>\n",
       "      <th>min</th>\n",
       "      <td>1.000000</td>\n",
       "      <td>5.010000e+02</td>\n",
       "    </tr>\n",
       "    <tr>\n",
       "      <th>25%</th>\n",
       "      <td>5.900000</td>\n",
       "      <td>8.280000e+02</td>\n",
       "    </tr>\n",
       "    <tr>\n",
       "      <th>50%</th>\n",
       "      <td>6.700000</td>\n",
       "      <td>1.554000e+03</td>\n",
       "    </tr>\n",
       "    <tr>\n",
       "      <th>75%</th>\n",
       "      <td>7.400000</td>\n",
       "      <td>4.345500e+03</td>\n",
       "    </tr>\n",
       "    <tr>\n",
       "      <th>max</th>\n",
       "      <td>10.000000</td>\n",
       "      <td>1.515727e+06</td>\n",
       "    </tr>\n",
       "  </tbody>\n",
       "</table>\n",
       "</div>"
      ],
      "text/plain": [
       "       averageRating      numVotes\n",
       "count   14015.000000  1.401500e+04\n",
       "mean        6.566044  1.106559e+04\n",
       "std         1.245668  4.954933e+04\n",
       "min         1.000000  5.010000e+02\n",
       "25%         5.900000  8.280000e+02\n",
       "50%         6.700000  1.554000e+03\n",
       "75%         7.400000  4.345500e+03\n",
       "max        10.000000  1.515727e+06"
      ]
     },
     "execution_count": 200,
     "metadata": {},
     "output_type": "execute_result"
    }
   ],
   "source": [
    "movie_review_df_cleaned.describe()"
   ]
  },
  {
   "cell_type": "code",
   "execution_count": 201,
   "metadata": {},
   "outputs": [
    {
     "name": "stdout",
     "output_type": "stream",
     "text": [
      "There are 0 movies with less than 500 reviews out of 14015 moview.\n"
     ]
    }
   ],
   "source": [
    "print('There are', movie_review_df_cleaned[ movie_review_df_cleaned['numVotes'] < 500 ].value_counts().sum(), 'movies with less than 500 reviews out of', movie_review_df_cleaned.shape[0], 'moview.')"
   ]
  },
  {
   "cell_type": "markdown",
   "metadata": {},
   "source": [
    "Justification: The number of rows with less than 500 votes in the numVotes column have been removed by filtering out the unwanted data and assigning the remaining data to their respective dataframes."
   ]
  },
  {
   "cell_type": "markdown",
   "metadata": {},
   "source": [
    "### **Remove unnecessary variables and combine datasets**\n",
    "\n",
    "Depending on the datasets, you can also peform the combination before the cleaning steps."
   ]
  },
  {
   "cell_type": "markdown",
   "metadata": {},
   "source": [
    "I am saving these cleaned dataframes prior to joining."
   ]
  },
  {
   "cell_type": "code",
   "execution_count": 202,
   "metadata": {},
   "outputs": [],
   "source": [
    "# Saving the dataframes prior to join.\n",
    "\n",
    "movie_review_df_cleaned.to_csv('Movies_Datasets_WorkingDFs/movie_review_df_cleaned.csv')"
   ]
  },
  {
   "cell_type": "code",
   "execution_count": 203,
   "metadata": {},
   "outputs": [],
   "source": [
    "movie_revenue_df_cleaned.to_csv('Movies_Datasets_WorkingDFs/movie_revenue_df_cleaned.csv')"
   ]
  },
  {
   "cell_type": "code",
   "execution_count": 204,
   "metadata": {},
   "outputs": [
    {
     "data": {
      "text/plain": [
       "['movie_review_df.csv',\n",
       " 'movie_revenue_df.csv',\n",
       " 'movie_revenue_df_cleaned.csv',\n",
       " 'movie_review_df_cleaned.csv']"
      ]
     },
     "execution_count": 204,
     "metadata": {},
     "output_type": "execute_result"
    }
   ],
   "source": [
    "os.listdir('Movies_Datasets_WorkingDFs')"
   ]
  },
  {
   "cell_type": "code",
   "execution_count": 205,
   "metadata": {},
   "outputs": [
    {
     "name": "stdout",
     "output_type": "stream",
     "text": [
      "<class 'pandas.core.frame.DataFrame'>\n",
      "Index: 14015 entries, 0 to 65579\n",
      "Data columns (total 3 columns):\n",
      " #   Column         Non-Null Count  Dtype  \n",
      "---  ------         --------------  -----  \n",
      " 0   title          14015 non-null  object \n",
      " 1   averageRating  14015 non-null  float64\n",
      " 2   numVotes       14015 non-null  int64  \n",
      "dtypes: float64(1), int64(1), object(1)\n",
      "memory usage: 438.0+ KB\n"
     ]
    }
   ],
   "source": [
    "# Verifying data types prior to join.\n",
    "\n",
    "movie_review_df_cleaned.info()"
   ]
  },
  {
   "cell_type": "code",
   "execution_count": 206,
   "metadata": {},
   "outputs": [
    {
     "name": "stdout",
     "output_type": "stream",
     "text": [
      "<class 'pandas.core.frame.DataFrame'>\n",
      "Index: 3320 entries, 0 to 4712\n",
      "Data columns (total 3 columns):\n",
      " #   Column   Non-Null Count  Dtype  \n",
      "---  ------   --------------  -----  \n",
      " 0   id       3320 non-null   int64  \n",
      " 1   title    3320 non-null   object \n",
      " 2   revenue  3320 non-null   float64\n",
      "dtypes: float64(1), int64(1), object(1)\n",
      "memory usage: 103.8+ KB\n"
     ]
    }
   ],
   "source": [
    "movie_revenue_df_cleaned.info()"
   ]
  },
  {
   "cell_type": "code",
   "execution_count": 207,
   "metadata": {},
   "outputs": [
    {
     "data": {
      "text/html": [
       "<div>\n",
       "<style scoped>\n",
       "    .dataframe tbody tr th:only-of-type {\n",
       "        vertical-align: middle;\n",
       "    }\n",
       "\n",
       "    .dataframe tbody tr th {\n",
       "        vertical-align: top;\n",
       "    }\n",
       "\n",
       "    .dataframe thead th {\n",
       "        text-align: right;\n",
       "    }\n",
       "</style>\n",
       "<table border=\"1\" class=\"dataframe\">\n",
       "  <thead>\n",
       "    <tr style=\"text-align: right;\">\n",
       "      <th></th>\n",
       "      <th>title</th>\n",
       "      <th>averageRating</th>\n",
       "      <th>numVotes</th>\n",
       "      <th>id</th>\n",
       "      <th>revenue</th>\n",
       "    </tr>\n",
       "  </thead>\n",
       "  <tbody>\n",
       "    <tr>\n",
       "      <th>0</th>\n",
       "      <td>'Alice in Wonderland'</td>\n",
       "      <td>6.3</td>\n",
       "      <td>2371</td>\n",
       "      <td>12155</td>\n",
       "      <td>1.025491e+09</td>\n",
       "    </tr>\n",
       "    <tr>\n",
       "      <th>1</th>\n",
       "      <td>'Alice in Wonderland'</td>\n",
       "      <td>7.0</td>\n",
       "      <td>744</td>\n",
       "      <td>12155</td>\n",
       "      <td>1.025491e+09</td>\n",
       "    </tr>\n",
       "    <tr>\n",
       "      <th>2</th>\n",
       "      <td>'Alice in Wonderland'</td>\n",
       "      <td>7.3</td>\n",
       "      <td>2820</td>\n",
       "      <td>12155</td>\n",
       "      <td>1.025491e+09</td>\n",
       "    </tr>\n",
       "    <tr>\n",
       "      <th>3</th>\n",
       "      <td>'Alice in Wonderland'</td>\n",
       "      <td>6.4</td>\n",
       "      <td>383986</td>\n",
       "      <td>12155</td>\n",
       "      <td>1.025491e+09</td>\n",
       "    </tr>\n",
       "    <tr>\n",
       "      <th>4</th>\n",
       "      <td>'A Christmas Carol'</td>\n",
       "      <td>6.0</td>\n",
       "      <td>593</td>\n",
       "      <td>17979</td>\n",
       "      <td>3.252339e+08</td>\n",
       "    </tr>\n",
       "    <tr>\n",
       "      <th>...</th>\n",
       "      <td>...</td>\n",
       "      <td>...</td>\n",
       "      <td>...</td>\n",
       "      <td>...</td>\n",
       "      <td>...</td>\n",
       "    </tr>\n",
       "    <tr>\n",
       "      <th>637</th>\n",
       "      <td>Ghost</td>\n",
       "      <td>5.1</td>\n",
       "      <td>1267</td>\n",
       "      <td>251</td>\n",
       "      <td>5.050000e+08</td>\n",
       "    </tr>\n",
       "    <tr>\n",
       "      <th>638</th>\n",
       "      <td>Special</td>\n",
       "      <td>7.6</td>\n",
       "      <td>5844</td>\n",
       "      <td>13856</td>\n",
       "      <td>7.202000e+03</td>\n",
       "    </tr>\n",
       "    <tr>\n",
       "      <th>639</th>\n",
       "      <td>'The Story of Us'</td>\n",
       "      <td>6.5</td>\n",
       "      <td>858</td>\n",
       "      <td>12220</td>\n",
       "      <td>5.890003e+07</td>\n",
       "    </tr>\n",
       "    <tr>\n",
       "      <th>640</th>\n",
       "      <td>Stardust</td>\n",
       "      <td>3.8</td>\n",
       "      <td>705</td>\n",
       "      <td>2270</td>\n",
       "      <td>1.355600e+08</td>\n",
       "    </tr>\n",
       "    <tr>\n",
       "      <th>641</th>\n",
       "      <td>'The Edge'</td>\n",
       "      <td>7.6</td>\n",
       "      <td>790</td>\n",
       "      <td>9433</td>\n",
       "      <td>4.331229e+07</td>\n",
       "    </tr>\n",
       "  </tbody>\n",
       "</table>\n",
       "<p>642 rows × 5 columns</p>\n",
       "</div>"
      ],
      "text/plain": [
       "                     title  averageRating  numVotes     id       revenue\n",
       "0    'Alice in Wonderland'            6.3      2371  12155  1.025491e+09\n",
       "1    'Alice in Wonderland'            7.0       744  12155  1.025491e+09\n",
       "2    'Alice in Wonderland'            7.3      2820  12155  1.025491e+09\n",
       "3    'Alice in Wonderland'            6.4    383986  12155  1.025491e+09\n",
       "4      'A Christmas Carol'            6.0       593  17979  3.252339e+08\n",
       "..                     ...            ...       ...    ...           ...\n",
       "637                  Ghost            5.1      1267    251  5.050000e+08\n",
       "638                Special            7.6      5844  13856  7.202000e+03\n",
       "639      'The Story of Us'            6.5       858  12220  5.890003e+07\n",
       "640               Stardust            3.8       705   2270  1.355600e+08\n",
       "641             'The Edge'            7.6       790   9433  4.331229e+07\n",
       "\n",
       "[642 rows x 5 columns]"
      ]
     },
     "execution_count": 207,
     "metadata": {},
     "output_type": "execute_result"
    }
   ],
   "source": [
    "joined_movie_df = pd.merge(movie_review_df_cleaned, movie_revenue_df_cleaned, on='title', how='inner')\n",
    "joined_movie_df"
   ]
  },
  {
   "cell_type": "code",
   "execution_count": 208,
   "metadata": {},
   "outputs": [
    {
     "name": "stdout",
     "output_type": "stream",
     "text": [
      "<class 'pandas.core.frame.DataFrame'>\n",
      "RangeIndex: 642 entries, 0 to 641\n",
      "Data columns (total 5 columns):\n",
      " #   Column         Non-Null Count  Dtype  \n",
      "---  ------         --------------  -----  \n",
      " 0   title          642 non-null    object \n",
      " 1   averageRating  642 non-null    float64\n",
      " 2   numVotes       642 non-null    int64  \n",
      " 3   id             642 non-null    int64  \n",
      " 4   revenue        642 non-null    float64\n",
      "dtypes: float64(2), int64(2), object(1)\n",
      "memory usage: 25.2+ KB\n"
     ]
    },
    {
     "data": {
      "text/plain": [
       "((642, 5), None)"
      ]
     },
     "execution_count": 208,
     "metadata": {},
     "output_type": "execute_result"
    }
   ],
   "source": [
    "# Reviewing the details of the new joined dataframe.\n",
    "\n",
    "joined_movie_df.shape, joined_movie_df.info()"
   ]
  },
  {
   "cell_type": "code",
   "execution_count": 209,
   "metadata": {},
   "outputs": [
    {
     "data": {
      "text/html": [
       "<div>\n",
       "<style scoped>\n",
       "    .dataframe tbody tr th:only-of-type {\n",
       "        vertical-align: middle;\n",
       "    }\n",
       "\n",
       "    .dataframe tbody tr th {\n",
       "        vertical-align: top;\n",
       "    }\n",
       "\n",
       "    .dataframe thead th {\n",
       "        text-align: right;\n",
       "    }\n",
       "</style>\n",
       "<table border=\"1\" class=\"dataframe\">\n",
       "  <thead>\n",
       "    <tr style=\"text-align: right;\">\n",
       "      <th></th>\n",
       "      <th>title</th>\n",
       "      <th>averageRating</th>\n",
       "      <th>numVotes</th>\n",
       "      <th>id</th>\n",
       "      <th>revenue</th>\n",
       "    </tr>\n",
       "  </thead>\n",
       "  <tbody>\n",
       "    <tr>\n",
       "      <th>439</th>\n",
       "      <td>Quarantine</td>\n",
       "      <td>9.2</td>\n",
       "      <td>1431</td>\n",
       "      <td>13812</td>\n",
       "      <td>4.085542e+07</td>\n",
       "    </tr>\n",
       "    <tr>\n",
       "      <th>385</th>\n",
       "      <td>Identity</td>\n",
       "      <td>9.1</td>\n",
       "      <td>1028</td>\n",
       "      <td>2832</td>\n",
       "      <td>9.025954e+07</td>\n",
       "    </tr>\n",
       "    <tr>\n",
       "      <th>611</th>\n",
       "      <td>Barbershop</td>\n",
       "      <td>9.1</td>\n",
       "      <td>2375</td>\n",
       "      <td>10611</td>\n",
       "      <td>7.578164e+07</td>\n",
       "    </tr>\n",
       "    <tr>\n",
       "      <th>34</th>\n",
       "      <td>College</td>\n",
       "      <td>9.0</td>\n",
       "      <td>4638</td>\n",
       "      <td>13991</td>\n",
       "      <td>6.230276e+06</td>\n",
       "    </tr>\n",
       "    <tr>\n",
       "      <th>628</th>\n",
       "      <td>Savages</td>\n",
       "      <td>9.0</td>\n",
       "      <td>1677</td>\n",
       "      <td>82525</td>\n",
       "      <td>8.296615e+07</td>\n",
       "    </tr>\n",
       "    <tr>\n",
       "      <th>57</th>\n",
       "      <td>'12 Angry Men'</td>\n",
       "      <td>9.0</td>\n",
       "      <td>689432</td>\n",
       "      <td>389</td>\n",
       "      <td>1.000000e+06</td>\n",
       "    </tr>\n",
       "    <tr>\n",
       "      <th>168</th>\n",
       "      <td>'First Blood'</td>\n",
       "      <td>8.9</td>\n",
       "      <td>3456</td>\n",
       "      <td>1368</td>\n",
       "      <td>1.252129e+08</td>\n",
       "    </tr>\n",
       "    <tr>\n",
       "      <th>384</th>\n",
       "      <td>Doubt</td>\n",
       "      <td>8.8</td>\n",
       "      <td>935</td>\n",
       "      <td>14359</td>\n",
       "      <td>5.090723e+07</td>\n",
       "    </tr>\n",
       "    <tr>\n",
       "      <th>399</th>\n",
       "      <td>Home</td>\n",
       "      <td>8.6</td>\n",
       "      <td>21412</td>\n",
       "      <td>228161</td>\n",
       "      <td>3.688710e+08</td>\n",
       "    </tr>\n",
       "    <tr>\n",
       "      <th>629</th>\n",
       "      <td>300</td>\n",
       "      <td>8.6</td>\n",
       "      <td>900</td>\n",
       "      <td>1271</td>\n",
       "      <td>4.226104e+08</td>\n",
       "    </tr>\n",
       "    <tr>\n",
       "      <th>51</th>\n",
       "      <td>'Around the World in 80 Days'</td>\n",
       "      <td>8.6</td>\n",
       "      <td>1631</td>\n",
       "      <td>10204</td>\n",
       "      <td>7.217890e+07</td>\n",
       "    </tr>\n",
       "    <tr>\n",
       "      <th>580</th>\n",
       "      <td>Watchmen</td>\n",
       "      <td>8.6</td>\n",
       "      <td>2900</td>\n",
       "      <td>13183</td>\n",
       "      <td>1.852590e+08</td>\n",
       "    </tr>\n",
       "    <tr>\n",
       "      <th>223</th>\n",
       "      <td>Ghostbusters</td>\n",
       "      <td>8.5</td>\n",
       "      <td>2599</td>\n",
       "      <td>43074</td>\n",
       "      <td>2.291475e+08</td>\n",
       "    </tr>\n",
       "    <tr>\n",
       "      <th>82</th>\n",
       "      <td>Psycho</td>\n",
       "      <td>8.5</td>\n",
       "      <td>603950</td>\n",
       "      <td>539</td>\n",
       "      <td>3.200000e+07</td>\n",
       "    </tr>\n",
       "    <tr>\n",
       "      <th>239</th>\n",
       "      <td>'Back to the Future'</td>\n",
       "      <td>8.5</td>\n",
       "      <td>1057549</td>\n",
       "      <td>105</td>\n",
       "      <td>3.811098e+08</td>\n",
       "    </tr>\n",
       "    <tr>\n",
       "      <th>110</th>\n",
       "      <td>'Dr. Strangelove or: How I Learned to Stop Wor...</td>\n",
       "      <td>8.4</td>\n",
       "      <td>450292</td>\n",
       "      <td>935</td>\n",
       "      <td>9.440272e+06</td>\n",
       "    </tr>\n",
       "    <tr>\n",
       "      <th>264</th>\n",
       "      <td>'Edge of Darkness'</td>\n",
       "      <td>8.4</td>\n",
       "      <td>3515</td>\n",
       "      <td>12201</td>\n",
       "      <td>7.490134e+07</td>\n",
       "    </tr>\n",
       "    <tr>\n",
       "      <th>596</th>\n",
       "      <td>'Mortal Kombat'</td>\n",
       "      <td>8.4</td>\n",
       "      <td>3253</td>\n",
       "      <td>9312</td>\n",
       "      <td>1.221959e+08</td>\n",
       "    </tr>\n",
       "    <tr>\n",
       "      <th>587</th>\n",
       "      <td>'The Dark Knight Rises'</td>\n",
       "      <td>8.4</td>\n",
       "      <td>1515727</td>\n",
       "      <td>49026</td>\n",
       "      <td>1.084939e+09</td>\n",
       "    </tr>\n",
       "    <tr>\n",
       "      <th>150</th>\n",
       "      <td>'Star Trek'</td>\n",
       "      <td>8.3</td>\n",
       "      <td>73444</td>\n",
       "      <td>13475</td>\n",
       "      <td>3.856804e+08</td>\n",
       "    </tr>\n",
       "  </tbody>\n",
       "</table>\n",
       "</div>"
      ],
      "text/plain": [
       "                                                 title  averageRating  \\\n",
       "439                                         Quarantine            9.2   \n",
       "385                                           Identity            9.1   \n",
       "611                                         Barbershop            9.1   \n",
       "34                                             College            9.0   \n",
       "628                                            Savages            9.0   \n",
       "57                                      '12 Angry Men'            9.0   \n",
       "168                                      'First Blood'            8.9   \n",
       "384                                              Doubt            8.8   \n",
       "399                                               Home            8.6   \n",
       "629                                                300            8.6   \n",
       "51                       'Around the World in 80 Days'            8.6   \n",
       "580                                           Watchmen            8.6   \n",
       "223                                       Ghostbusters            8.5   \n",
       "82                                              Psycho            8.5   \n",
       "239                               'Back to the Future'            8.5   \n",
       "110  'Dr. Strangelove or: How I Learned to Stop Wor...            8.4   \n",
       "264                                 'Edge of Darkness'            8.4   \n",
       "596                                    'Mortal Kombat'            8.4   \n",
       "587                            'The Dark Knight Rises'            8.4   \n",
       "150                                        'Star Trek'            8.3   \n",
       "\n",
       "     numVotes      id       revenue  \n",
       "439      1431   13812  4.085542e+07  \n",
       "385      1028    2832  9.025954e+07  \n",
       "611      2375   10611  7.578164e+07  \n",
       "34       4638   13991  6.230276e+06  \n",
       "628      1677   82525  8.296615e+07  \n",
       "57     689432     389  1.000000e+06  \n",
       "168      3456    1368  1.252129e+08  \n",
       "384       935   14359  5.090723e+07  \n",
       "399     21412  228161  3.688710e+08  \n",
       "629       900    1271  4.226104e+08  \n",
       "51       1631   10204  7.217890e+07  \n",
       "580      2900   13183  1.852590e+08  \n",
       "223      2599   43074  2.291475e+08  \n",
       "82     603950     539  3.200000e+07  \n",
       "239   1057549     105  3.811098e+08  \n",
       "110    450292     935  9.440272e+06  \n",
       "264      3515   12201  7.490134e+07  \n",
       "596      3253    9312  1.221959e+08  \n",
       "587   1515727   49026  1.084939e+09  \n",
       "150     73444   13475  3.856804e+08  "
      ]
     },
     "execution_count": 209,
     "metadata": {},
     "output_type": "execute_result"
    }
   ],
   "source": [
    "#  Creating two new dataframes with the data sorted.  This will make reviewing from the different criteria easier.\n",
    "\n",
    "joined_movie_df_sortby_review = joined_movie_df.sort_values('averageRating', ascending=False)\n",
    "joined_movie_df_sortby_review.head(20)"
   ]
  },
  {
   "cell_type": "code",
   "execution_count": 210,
   "metadata": {},
   "outputs": [
    {
     "data": {
      "text/html": [
       "<div>\n",
       "<style scoped>\n",
       "    .dataframe tbody tr th:only-of-type {\n",
       "        vertical-align: middle;\n",
       "    }\n",
       "\n",
       "    .dataframe tbody tr th {\n",
       "        vertical-align: top;\n",
       "    }\n",
       "\n",
       "    .dataframe thead th {\n",
       "        text-align: right;\n",
       "    }\n",
       "</style>\n",
       "<table border=\"1\" class=\"dataframe\">\n",
       "  <thead>\n",
       "    <tr style=\"text-align: right;\">\n",
       "      <th></th>\n",
       "      <th>title</th>\n",
       "      <th>averageRating</th>\n",
       "      <th>numVotes</th>\n",
       "      <th>id</th>\n",
       "      <th>revenue</th>\n",
       "    </tr>\n",
       "  </thead>\n",
       "  <tbody>\n",
       "    <tr>\n",
       "      <th>86</th>\n",
       "      <td>'The Avengers'</td>\n",
       "      <td>8.3</td>\n",
       "      <td>6779</td>\n",
       "      <td>24428</td>\n",
       "      <td>1.519558e+09</td>\n",
       "    </tr>\n",
       "    <tr>\n",
       "      <th>583</th>\n",
       "      <td>Frozen</td>\n",
       "      <td>6.1</td>\n",
       "      <td>67929</td>\n",
       "      <td>109445</td>\n",
       "      <td>1.274219e+09</td>\n",
       "    </tr>\n",
       "    <tr>\n",
       "      <th>435</th>\n",
       "      <td>Skyfall</td>\n",
       "      <td>7.7</td>\n",
       "      <td>630406</td>\n",
       "      <td>37724</td>\n",
       "      <td>1.108561e+09</td>\n",
       "    </tr>\n",
       "    <tr>\n",
       "      <th>587</th>\n",
       "      <td>'The Dark Knight Rises'</td>\n",
       "      <td>8.4</td>\n",
       "      <td>1515727</td>\n",
       "      <td>49026</td>\n",
       "      <td>1.084939e+09</td>\n",
       "    </tr>\n",
       "    <tr>\n",
       "      <th>561</th>\n",
       "      <td>'Pirates of the Caribbean: On Stranger Tides'</td>\n",
       "      <td>6.6</td>\n",
       "      <td>481095</td>\n",
       "      <td>1865</td>\n",
       "      <td>1.045714e+09</td>\n",
       "    </tr>\n",
       "    <tr>\n",
       "      <th>0</th>\n",
       "      <td>'Alice in Wonderland'</td>\n",
       "      <td>6.3</td>\n",
       "      <td>2371</td>\n",
       "      <td>12155</td>\n",
       "      <td>1.025491e+09</td>\n",
       "    </tr>\n",
       "    <tr>\n",
       "      <th>2</th>\n",
       "      <td>'Alice in Wonderland'</td>\n",
       "      <td>7.3</td>\n",
       "      <td>2820</td>\n",
       "      <td>12155</td>\n",
       "      <td>1.025491e+09</td>\n",
       "    </tr>\n",
       "    <tr>\n",
       "      <th>3</th>\n",
       "      <td>'Alice in Wonderland'</td>\n",
       "      <td>6.4</td>\n",
       "      <td>383986</td>\n",
       "      <td>12155</td>\n",
       "      <td>1.025491e+09</td>\n",
       "    </tr>\n",
       "    <tr>\n",
       "      <th>1</th>\n",
       "      <td>'Alice in Wonderland'</td>\n",
       "      <td>7.0</td>\n",
       "      <td>744</td>\n",
       "      <td>12155</td>\n",
       "      <td>1.025491e+09</td>\n",
       "    </tr>\n",
       "    <tr>\n",
       "      <th>418</th>\n",
       "      <td>'Pirates of the Caribbean: At World\\'s End'</td>\n",
       "      <td>7.1</td>\n",
       "      <td>970</td>\n",
       "      <td>285</td>\n",
       "      <td>9.610000e+08</td>\n",
       "    </tr>\n",
       "    <tr>\n",
       "      <th>490</th>\n",
       "      <td>'The Hobbit: The Desolation of Smaug'</td>\n",
       "      <td>7.8</td>\n",
       "      <td>601155</td>\n",
       "      <td>57158</td>\n",
       "      <td>9.584000e+08</td>\n",
       "    </tr>\n",
       "    <tr>\n",
       "      <th>601</th>\n",
       "      <td>'Harry Potter and the Half-Blood Prince'</td>\n",
       "      <td>7.3</td>\n",
       "      <td>854</td>\n",
       "      <td>767</td>\n",
       "      <td>9.339592e+08</td>\n",
       "    </tr>\n",
       "    <tr>\n",
       "      <th>163</th>\n",
       "      <td>'E.T. the Extra-Terrestrial'</td>\n",
       "      <td>7.8</td>\n",
       "      <td>372343</td>\n",
       "      <td>601</td>\n",
       "      <td>7.929106e+08</td>\n",
       "    </tr>\n",
       "    <tr>\n",
       "      <th>505</th>\n",
       "      <td>2012</td>\n",
       "      <td>5.8</td>\n",
       "      <td>353151</td>\n",
       "      <td>14161</td>\n",
       "      <td>7.696536e+08</td>\n",
       "    </tr>\n",
       "    <tr>\n",
       "      <th>594</th>\n",
       "      <td>'Suicide Squad'</td>\n",
       "      <td>6.0</td>\n",
       "      <td>600635</td>\n",
       "      <td>297761</td>\n",
       "      <td>7.450000e+08</td>\n",
       "    </tr>\n",
       "    <tr>\n",
       "      <th>422</th>\n",
       "      <td>Up</td>\n",
       "      <td>8.2</td>\n",
       "      <td>935115</td>\n",
       "      <td>14160</td>\n",
       "      <td>7.350991e+08</td>\n",
       "    </tr>\n",
       "    <tr>\n",
       "      <th>546</th>\n",
       "      <td>'The Twilight Saga: New Moon'</td>\n",
       "      <td>4.7</td>\n",
       "      <td>265745</td>\n",
       "      <td>18239</td>\n",
       "      <td>7.098275e+08</td>\n",
       "    </tr>\n",
       "    <tr>\n",
       "      <th>207</th>\n",
       "      <td>Transformers</td>\n",
       "      <td>8.0</td>\n",
       "      <td>20324</td>\n",
       "      <td>1858</td>\n",
       "      <td>7.097098e+08</td>\n",
       "    </tr>\n",
       "    <tr>\n",
       "      <th>535</th>\n",
       "      <td>'Mission: Impossible - Ghost Protocol'</td>\n",
       "      <td>7.4</td>\n",
       "      <td>457115</td>\n",
       "      <td>56292</td>\n",
       "      <td>6.947134e+08</td>\n",
       "    </tr>\n",
       "    <tr>\n",
       "      <th>597</th>\n",
       "      <td>'The Hunger Games'</td>\n",
       "      <td>7.2</td>\n",
       "      <td>844312</td>\n",
       "      <td>70160</td>\n",
       "      <td>6.912107e+08</td>\n",
       "    </tr>\n",
       "  </tbody>\n",
       "</table>\n",
       "</div>"
      ],
      "text/plain": [
       "                                             title  averageRating  numVotes  \\\n",
       "86                                  'The Avengers'            8.3      6779   \n",
       "583                                         Frozen            6.1     67929   \n",
       "435                                        Skyfall            7.7    630406   \n",
       "587                        'The Dark Knight Rises'            8.4   1515727   \n",
       "561  'Pirates of the Caribbean: On Stranger Tides'            6.6    481095   \n",
       "0                            'Alice in Wonderland'            6.3      2371   \n",
       "2                            'Alice in Wonderland'            7.3      2820   \n",
       "3                            'Alice in Wonderland'            6.4    383986   \n",
       "1                            'Alice in Wonderland'            7.0       744   \n",
       "418    'Pirates of the Caribbean: At World\\'s End'            7.1       970   \n",
       "490          'The Hobbit: The Desolation of Smaug'            7.8    601155   \n",
       "601       'Harry Potter and the Half-Blood Prince'            7.3       854   \n",
       "163                   'E.T. the Extra-Terrestrial'            7.8    372343   \n",
       "505                                           2012            5.8    353151   \n",
       "594                                'Suicide Squad'            6.0    600635   \n",
       "422                                             Up            8.2    935115   \n",
       "546                  'The Twilight Saga: New Moon'            4.7    265745   \n",
       "207                                   Transformers            8.0     20324   \n",
       "535         'Mission: Impossible - Ghost Protocol'            7.4    457115   \n",
       "597                             'The Hunger Games'            7.2    844312   \n",
       "\n",
       "         id       revenue  \n",
       "86    24428  1.519558e+09  \n",
       "583  109445  1.274219e+09  \n",
       "435   37724  1.108561e+09  \n",
       "587   49026  1.084939e+09  \n",
       "561    1865  1.045714e+09  \n",
       "0     12155  1.025491e+09  \n",
       "2     12155  1.025491e+09  \n",
       "3     12155  1.025491e+09  \n",
       "1     12155  1.025491e+09  \n",
       "418     285  9.610000e+08  \n",
       "490   57158  9.584000e+08  \n",
       "601     767  9.339592e+08  \n",
       "163     601  7.929106e+08  \n",
       "505   14161  7.696536e+08  \n",
       "594  297761  7.450000e+08  \n",
       "422   14160  7.350991e+08  \n",
       "546   18239  7.098275e+08  \n",
       "207    1858  7.097098e+08  \n",
       "535   56292  6.947134e+08  \n",
       "597   70160  6.912107e+08  "
      ]
     },
     "execution_count": 210,
     "metadata": {},
     "output_type": "execute_result"
    }
   ],
   "source": [
    "joined_movie_df_sortby_revenue = joined_movie_df.sort_values('revenue', ascending=False)\n",
    "joined_movie_df_sortby_revenue.head(20)"
   ]
  },
  {
   "cell_type": "markdown",
   "metadata": {},
   "source": [
    "Duplicate entrie found in the top 20 results based on movie ID.  I will review how many duplicates we have and remove any duplicates keeping the one with the highest number of votes."
   ]
  },
  {
   "cell_type": "code",
   "execution_count": 211,
   "metadata": {},
   "outputs": [
    {
     "data": {
      "text/html": [
       "<div>\n",
       "<style scoped>\n",
       "    .dataframe tbody tr th:only-of-type {\n",
       "        vertical-align: middle;\n",
       "    }\n",
       "\n",
       "    .dataframe tbody tr th {\n",
       "        vertical-align: top;\n",
       "    }\n",
       "\n",
       "    .dataframe thead th {\n",
       "        text-align: right;\n",
       "    }\n",
       "</style>\n",
       "<table border=\"1\" class=\"dataframe\">\n",
       "  <thead>\n",
       "    <tr style=\"text-align: right;\">\n",
       "      <th></th>\n",
       "      <th>title</th>\n",
       "      <th>averageRating</th>\n",
       "      <th>numVotes</th>\n",
       "      <th>id</th>\n",
       "      <th>revenue</th>\n",
       "    </tr>\n",
       "  </thead>\n",
       "  <tbody>\n",
       "    <tr>\n",
       "      <th>82</th>\n",
       "      <td>Psycho</td>\n",
       "      <td>8.5</td>\n",
       "      <td>603950</td>\n",
       "      <td>539</td>\n",
       "      <td>3.200000e+07</td>\n",
       "    </tr>\n",
       "    <tr>\n",
       "      <th>3</th>\n",
       "      <td>'Alice in Wonderland'</td>\n",
       "      <td>6.4</td>\n",
       "      <td>383986</td>\n",
       "      <td>12155</td>\n",
       "      <td>1.025491e+09</td>\n",
       "    </tr>\n",
       "    <tr>\n",
       "      <th>222</th>\n",
       "      <td>Ghostbusters</td>\n",
       "      <td>7.8</td>\n",
       "      <td>355274</td>\n",
       "      <td>43074</td>\n",
       "      <td>2.291475e+08</td>\n",
       "    </tr>\n",
       "    <tr>\n",
       "      <th>143</th>\n",
       "      <td>Batman</td>\n",
       "      <td>7.5</td>\n",
       "      <td>338424</td>\n",
       "      <td>268</td>\n",
       "      <td>4.113489e+08</td>\n",
       "    </tr>\n",
       "    <tr>\n",
       "      <th>46</th>\n",
       "      <td>'Top Gun'</td>\n",
       "      <td>6.9</td>\n",
       "      <td>295351</td>\n",
       "      <td>744</td>\n",
       "      <td>3.568306e+08</td>\n",
       "    </tr>\n",
       "    <tr>\n",
       "      <th>68</th>\n",
       "      <td>'The Untouchables'</td>\n",
       "      <td>7.9</td>\n",
       "      <td>281692</td>\n",
       "      <td>117</td>\n",
       "      <td>7.627045e+07</td>\n",
       "    </tr>\n",
       "    <tr>\n",
       "      <th>146</th>\n",
       "      <td>'Dark Shadows'</td>\n",
       "      <td>6.2</td>\n",
       "      <td>247510</td>\n",
       "      <td>62213</td>\n",
       "      <td>2.455271e+08</td>\n",
       "    </tr>\n",
       "    <tr>\n",
       "      <th>167</th>\n",
       "      <td>'First Blood'</td>\n",
       "      <td>7.7</td>\n",
       "      <td>226441</td>\n",
       "      <td>1368</td>\n",
       "      <td>1.252129e+08</td>\n",
       "    </tr>\n",
       "    <tr>\n",
       "      <th>44</th>\n",
       "      <td>'The Lone Ranger'</td>\n",
       "      <td>6.4</td>\n",
       "      <td>221360</td>\n",
       "      <td>57201</td>\n",
       "      <td>8.928991e+07</td>\n",
       "    </tr>\n",
       "    <tr>\n",
       "      <th>224</th>\n",
       "      <td>Ghostbusters</td>\n",
       "      <td>6.5</td>\n",
       "      <td>204327</td>\n",
       "      <td>43074</td>\n",
       "      <td>2.291475e+08</td>\n",
       "    </tr>\n",
       "    <tr>\n",
       "      <th>78</th>\n",
       "      <td>'The Apartment'</td>\n",
       "      <td>8.3</td>\n",
       "      <td>164281</td>\n",
       "      <td>284</td>\n",
       "      <td>2.500000e+07</td>\n",
       "    </tr>\n",
       "    <tr>\n",
       "      <th>173</th>\n",
       "      <td>Poltergeist</td>\n",
       "      <td>7.3</td>\n",
       "      <td>144480</td>\n",
       "      <td>609</td>\n",
       "      <td>1.222000e+08</td>\n",
       "    </tr>\n",
       "    <tr>\n",
       "      <th>120</th>\n",
       "      <td>'The Running Man'</td>\n",
       "      <td>6.7</td>\n",
       "      <td>141210</td>\n",
       "      <td>865</td>\n",
       "      <td>3.812210e+07</td>\n",
       "    </tr>\n",
       "    <tr>\n",
       "      <th>488</th>\n",
       "      <td>'The Watch'</td>\n",
       "      <td>5.7</td>\n",
       "      <td>121128</td>\n",
       "      <td>80035</td>\n",
       "      <td>6.826786e+07</td>\n",
       "    </tr>\n",
       "    <tr>\n",
       "      <th>15</th>\n",
       "      <td>'The Kid'</td>\n",
       "      <td>8.3</td>\n",
       "      <td>113240</td>\n",
       "      <td>4244</td>\n",
       "      <td>6.970000e+07</td>\n",
       "    </tr>\n",
       "    <tr>\n",
       "      <th>6</th>\n",
       "      <td>'A Christmas Carol'</td>\n",
       "      <td>6.8</td>\n",
       "      <td>103732</td>\n",
       "      <td>17979</td>\n",
       "      <td>3.252339e+08</td>\n",
       "    </tr>\n",
       "    <tr>\n",
       "      <th>220</th>\n",
       "      <td>Frankenweenie</td>\n",
       "      <td>6.9</td>\n",
       "      <td>98403</td>\n",
       "      <td>62214</td>\n",
       "      <td>3.528779e+07</td>\n",
       "    </tr>\n",
       "    <tr>\n",
       "      <th>265</th>\n",
       "      <td>'Edge of Darkness'</td>\n",
       "      <td>6.6</td>\n",
       "      <td>89705</td>\n",
       "      <td>12201</td>\n",
       "      <td>7.490134e+07</td>\n",
       "    </tr>\n",
       "    <tr>\n",
       "      <th>323</th>\n",
       "      <td>'Child\\'s Play'</td>\n",
       "      <td>6.6</td>\n",
       "      <td>87673</td>\n",
       "      <td>10585</td>\n",
       "      <td>4.419668e+07</td>\n",
       "    </tr>\n",
       "    <tr>\n",
       "      <th>193</th>\n",
       "      <td>'The Outsiders'</td>\n",
       "      <td>7.1</td>\n",
       "      <td>75533</td>\n",
       "      <td>227</td>\n",
       "      <td>3.369765e+07</td>\n",
       "    </tr>\n",
       "  </tbody>\n",
       "</table>\n",
       "</div>"
      ],
      "text/plain": [
       "                     title  averageRating  numVotes     id       revenue\n",
       "82                  Psycho            8.5    603950    539  3.200000e+07\n",
       "3    'Alice in Wonderland'            6.4    383986  12155  1.025491e+09\n",
       "222           Ghostbusters            7.8    355274  43074  2.291475e+08\n",
       "143                 Batman            7.5    338424    268  4.113489e+08\n",
       "46               'Top Gun'            6.9    295351    744  3.568306e+08\n",
       "68      'The Untouchables'            7.9    281692    117  7.627045e+07\n",
       "146         'Dark Shadows'            6.2    247510  62213  2.455271e+08\n",
       "167          'First Blood'            7.7    226441   1368  1.252129e+08\n",
       "44       'The Lone Ranger'            6.4    221360  57201  8.928991e+07\n",
       "224           Ghostbusters            6.5    204327  43074  2.291475e+08\n",
       "78         'The Apartment'            8.3    164281    284  2.500000e+07\n",
       "173            Poltergeist            7.3    144480    609  1.222000e+08\n",
       "120      'The Running Man'            6.7    141210    865  3.812210e+07\n",
       "488            'The Watch'            5.7    121128  80035  6.826786e+07\n",
       "15               'The Kid'            8.3    113240   4244  6.970000e+07\n",
       "6      'A Christmas Carol'            6.8    103732  17979  3.252339e+08\n",
       "220          Frankenweenie            6.9     98403  62214  3.528779e+07\n",
       "265     'Edge of Darkness'            6.6     89705  12201  7.490134e+07\n",
       "323        'Child\\'s Play'            6.6     87673  10585  4.419668e+07\n",
       "193        'The Outsiders'            7.1     75533    227  3.369765e+07"
      ]
     },
     "execution_count": 211,
     "metadata": {},
     "output_type": "execute_result"
    }
   ],
   "source": [
    "#  Sorting the joined dataframe by numVotes to easily remove the duplicates keeping the most reviewed line of data.\n",
    "\n",
    "joined_movie_df = joined_movie_df.sort_values('numVotes', ascending=False)\n",
    "joined_movie_df[joined_movie_df.duplicated('title', keep=False) == True].head(20)"
   ]
  },
  {
   "cell_type": "code",
   "execution_count": 212,
   "metadata": {},
   "outputs": [
    {
     "data": {
      "text/plain": [
       "105"
      ]
     },
     "execution_count": 212,
     "metadata": {},
     "output_type": "execute_result"
    }
   ],
   "source": [
    "# Identifying the number of duplicate rows.\n",
    "\n",
    "joined_movie_df[joined_movie_df.duplicated('title', keep=False) == True].value_counts().sum()"
   ]
  },
  {
   "cell_type": "code",
   "execution_count": 213,
   "metadata": {},
   "outputs": [
    {
     "data": {
      "text/plain": [
       "0"
      ]
     },
     "execution_count": 213,
     "metadata": {},
     "output_type": "execute_result"
    }
   ],
   "source": [
    "# Removing duplicates and identifying the number of duplicate rows following dropping duplicates.\n",
    "\n",
    "joined_movie_df.drop_duplicates(subset=['title'], keep='first', inplace=True)\n",
    "joined_movie_df[joined_movie_df.duplicated('title', keep=False) == True].value_counts().sum()"
   ]
  },
  {
   "cell_type": "markdown",
   "metadata": {},
   "source": [
    "I will have a look at the top 20 based on revenue and review."
   ]
  },
  {
   "cell_type": "code",
   "execution_count": 214,
   "metadata": {},
   "outputs": [
    {
     "data": {
      "text/html": [
       "<div>\n",
       "<style scoped>\n",
       "    .dataframe tbody tr th:only-of-type {\n",
       "        vertical-align: middle;\n",
       "    }\n",
       "\n",
       "    .dataframe tbody tr th {\n",
       "        vertical-align: top;\n",
       "    }\n",
       "\n",
       "    .dataframe thead th {\n",
       "        text-align: right;\n",
       "    }\n",
       "</style>\n",
       "<table border=\"1\" class=\"dataframe\">\n",
       "  <thead>\n",
       "    <tr style=\"text-align: right;\">\n",
       "      <th></th>\n",
       "      <th>title</th>\n",
       "      <th>averageRating</th>\n",
       "      <th>numVotes</th>\n",
       "      <th>id</th>\n",
       "      <th>revenue</th>\n",
       "    </tr>\n",
       "  </thead>\n",
       "  <tbody>\n",
       "    <tr>\n",
       "      <th>86</th>\n",
       "      <td>'The Avengers'</td>\n",
       "      <td>8.3</td>\n",
       "      <td>6779</td>\n",
       "      <td>24428</td>\n",
       "      <td>1.519558e+09</td>\n",
       "    </tr>\n",
       "    <tr>\n",
       "      <th>583</th>\n",
       "      <td>Frozen</td>\n",
       "      <td>6.1</td>\n",
       "      <td>67929</td>\n",
       "      <td>109445</td>\n",
       "      <td>1.274219e+09</td>\n",
       "    </tr>\n",
       "    <tr>\n",
       "      <th>435</th>\n",
       "      <td>Skyfall</td>\n",
       "      <td>7.7</td>\n",
       "      <td>630406</td>\n",
       "      <td>37724</td>\n",
       "      <td>1.108561e+09</td>\n",
       "    </tr>\n",
       "    <tr>\n",
       "      <th>587</th>\n",
       "      <td>'The Dark Knight Rises'</td>\n",
       "      <td>8.4</td>\n",
       "      <td>1515727</td>\n",
       "      <td>49026</td>\n",
       "      <td>1.084939e+09</td>\n",
       "    </tr>\n",
       "    <tr>\n",
       "      <th>561</th>\n",
       "      <td>'Pirates of the Caribbean: On Stranger Tides'</td>\n",
       "      <td>6.6</td>\n",
       "      <td>481095</td>\n",
       "      <td>1865</td>\n",
       "      <td>1.045714e+09</td>\n",
       "    </tr>\n",
       "    <tr>\n",
       "      <th>3</th>\n",
       "      <td>'Alice in Wonderland'</td>\n",
       "      <td>6.4</td>\n",
       "      <td>383986</td>\n",
       "      <td>12155</td>\n",
       "      <td>1.025491e+09</td>\n",
       "    </tr>\n",
       "    <tr>\n",
       "      <th>418</th>\n",
       "      <td>'Pirates of the Caribbean: At World\\'s End'</td>\n",
       "      <td>7.1</td>\n",
       "      <td>970</td>\n",
       "      <td>285</td>\n",
       "      <td>9.610000e+08</td>\n",
       "    </tr>\n",
       "    <tr>\n",
       "      <th>490</th>\n",
       "      <td>'The Hobbit: The Desolation of Smaug'</td>\n",
       "      <td>7.8</td>\n",
       "      <td>601155</td>\n",
       "      <td>57158</td>\n",
       "      <td>9.584000e+08</td>\n",
       "    </tr>\n",
       "    <tr>\n",
       "      <th>601</th>\n",
       "      <td>'Harry Potter and the Half-Blood Prince'</td>\n",
       "      <td>7.3</td>\n",
       "      <td>854</td>\n",
       "      <td>767</td>\n",
       "      <td>9.339592e+08</td>\n",
       "    </tr>\n",
       "    <tr>\n",
       "      <th>163</th>\n",
       "      <td>'E.T. the Extra-Terrestrial'</td>\n",
       "      <td>7.8</td>\n",
       "      <td>372343</td>\n",
       "      <td>601</td>\n",
       "      <td>7.929106e+08</td>\n",
       "    </tr>\n",
       "    <tr>\n",
       "      <th>505</th>\n",
       "      <td>2012</td>\n",
       "      <td>5.8</td>\n",
       "      <td>353151</td>\n",
       "      <td>14161</td>\n",
       "      <td>7.696536e+08</td>\n",
       "    </tr>\n",
       "    <tr>\n",
       "      <th>594</th>\n",
       "      <td>'Suicide Squad'</td>\n",
       "      <td>6.0</td>\n",
       "      <td>600635</td>\n",
       "      <td>297761</td>\n",
       "      <td>7.450000e+08</td>\n",
       "    </tr>\n",
       "    <tr>\n",
       "      <th>422</th>\n",
       "      <td>Up</td>\n",
       "      <td>8.2</td>\n",
       "      <td>935115</td>\n",
       "      <td>14160</td>\n",
       "      <td>7.350991e+08</td>\n",
       "    </tr>\n",
       "    <tr>\n",
       "      <th>546</th>\n",
       "      <td>'The Twilight Saga: New Moon'</td>\n",
       "      <td>4.7</td>\n",
       "      <td>265745</td>\n",
       "      <td>18239</td>\n",
       "      <td>7.098275e+08</td>\n",
       "    </tr>\n",
       "    <tr>\n",
       "      <th>207</th>\n",
       "      <td>Transformers</td>\n",
       "      <td>8.0</td>\n",
       "      <td>20324</td>\n",
       "      <td>1858</td>\n",
       "      <td>7.097098e+08</td>\n",
       "    </tr>\n",
       "    <tr>\n",
       "      <th>535</th>\n",
       "      <td>'Mission: Impossible - Ghost Protocol'</td>\n",
       "      <td>7.4</td>\n",
       "      <td>457115</td>\n",
       "      <td>56292</td>\n",
       "      <td>6.947134e+08</td>\n",
       "    </tr>\n",
       "    <tr>\n",
       "      <th>597</th>\n",
       "      <td>'The Hunger Games'</td>\n",
       "      <td>7.2</td>\n",
       "      <td>844312</td>\n",
       "      <td>70160</td>\n",
       "      <td>6.912107e+08</td>\n",
       "    </tr>\n",
       "    <tr>\n",
       "      <th>563</th>\n",
       "      <td>'Kung Fu Panda 2'</td>\n",
       "      <td>7.2</td>\n",
       "      <td>253850</td>\n",
       "      <td>49444</td>\n",
       "      <td>6.656923e+08</td>\n",
       "    </tr>\n",
       "    <tr>\n",
       "      <th>632</th>\n",
       "      <td>'Man of Steel'</td>\n",
       "      <td>7.3</td>\n",
       "      <td>1441</td>\n",
       "      <td>49521</td>\n",
       "      <td>6.628455e+08</td>\n",
       "    </tr>\n",
       "    <tr>\n",
       "      <th>533</th>\n",
       "      <td>'Iron Man 2'</td>\n",
       "      <td>7.0</td>\n",
       "      <td>722049</td>\n",
       "      <td>10138</td>\n",
       "      <td>6.239333e+08</td>\n",
       "    </tr>\n",
       "  </tbody>\n",
       "</table>\n",
       "</div>"
      ],
      "text/plain": [
       "                                             title  averageRating  numVotes  \\\n",
       "86                                  'The Avengers'            8.3      6779   \n",
       "583                                         Frozen            6.1     67929   \n",
       "435                                        Skyfall            7.7    630406   \n",
       "587                        'The Dark Knight Rises'            8.4   1515727   \n",
       "561  'Pirates of the Caribbean: On Stranger Tides'            6.6    481095   \n",
       "3                            'Alice in Wonderland'            6.4    383986   \n",
       "418    'Pirates of the Caribbean: At World\\'s End'            7.1       970   \n",
       "490          'The Hobbit: The Desolation of Smaug'            7.8    601155   \n",
       "601       'Harry Potter and the Half-Blood Prince'            7.3       854   \n",
       "163                   'E.T. the Extra-Terrestrial'            7.8    372343   \n",
       "505                                           2012            5.8    353151   \n",
       "594                                'Suicide Squad'            6.0    600635   \n",
       "422                                             Up            8.2    935115   \n",
       "546                  'The Twilight Saga: New Moon'            4.7    265745   \n",
       "207                                   Transformers            8.0     20324   \n",
       "535         'Mission: Impossible - Ghost Protocol'            7.4    457115   \n",
       "597                             'The Hunger Games'            7.2    844312   \n",
       "563                              'Kung Fu Panda 2'            7.2    253850   \n",
       "632                                 'Man of Steel'            7.3      1441   \n",
       "533                                   'Iron Man 2'            7.0    722049   \n",
       "\n",
       "         id       revenue  \n",
       "86    24428  1.519558e+09  \n",
       "583  109445  1.274219e+09  \n",
       "435   37724  1.108561e+09  \n",
       "587   49026  1.084939e+09  \n",
       "561    1865  1.045714e+09  \n",
       "3     12155  1.025491e+09  \n",
       "418     285  9.610000e+08  \n",
       "490   57158  9.584000e+08  \n",
       "601     767  9.339592e+08  \n",
       "163     601  7.929106e+08  \n",
       "505   14161  7.696536e+08  \n",
       "594  297761  7.450000e+08  \n",
       "422   14160  7.350991e+08  \n",
       "546   18239  7.098275e+08  \n",
       "207    1858  7.097098e+08  \n",
       "535   56292  6.947134e+08  \n",
       "597   70160  6.912107e+08  \n",
       "563   49444  6.656923e+08  \n",
       "632   49521  6.628455e+08  \n",
       "533   10138  6.239333e+08  "
      ]
     },
     "execution_count": 214,
     "metadata": {},
     "output_type": "execute_result"
    }
   ],
   "source": [
    "# Recreating the sorted versions of the joined dataframe:  1 for revenue and 1 for reviews.\n",
    "\n",
    "joined_movie_df_sortby_revenue = joined_movie_df.sort_values('revenue', ascending=False)\n",
    "joined_movie_df_sortby_revenue.head(20)"
   ]
  },
  {
   "cell_type": "code",
   "execution_count": 215,
   "metadata": {},
   "outputs": [
    {
     "data": {
      "text/html": [
       "<div>\n",
       "<style scoped>\n",
       "    .dataframe tbody tr th:only-of-type {\n",
       "        vertical-align: middle;\n",
       "    }\n",
       "\n",
       "    .dataframe tbody tr th {\n",
       "        vertical-align: top;\n",
       "    }\n",
       "\n",
       "    .dataframe thead th {\n",
       "        text-align: right;\n",
       "    }\n",
       "</style>\n",
       "<table border=\"1\" class=\"dataframe\">\n",
       "  <thead>\n",
       "    <tr style=\"text-align: right;\">\n",
       "      <th></th>\n",
       "      <th>title</th>\n",
       "      <th>averageRating</th>\n",
       "      <th>numVotes</th>\n",
       "      <th>id</th>\n",
       "      <th>revenue</th>\n",
       "    </tr>\n",
       "  </thead>\n",
       "  <tbody>\n",
       "    <tr>\n",
       "      <th>611</th>\n",
       "      <td>Barbershop</td>\n",
       "      <td>9.1</td>\n",
       "      <td>2375</td>\n",
       "      <td>10611</td>\n",
       "      <td>7.578164e+07</td>\n",
       "    </tr>\n",
       "    <tr>\n",
       "      <th>34</th>\n",
       "      <td>College</td>\n",
       "      <td>9.0</td>\n",
       "      <td>4638</td>\n",
       "      <td>13991</td>\n",
       "      <td>6.230276e+06</td>\n",
       "    </tr>\n",
       "    <tr>\n",
       "      <th>628</th>\n",
       "      <td>Savages</td>\n",
       "      <td>9.0</td>\n",
       "      <td>1677</td>\n",
       "      <td>82525</td>\n",
       "      <td>8.296615e+07</td>\n",
       "    </tr>\n",
       "    <tr>\n",
       "      <th>57</th>\n",
       "      <td>'12 Angry Men'</td>\n",
       "      <td>9.0</td>\n",
       "      <td>689432</td>\n",
       "      <td>389</td>\n",
       "      <td>1.000000e+06</td>\n",
       "    </tr>\n",
       "    <tr>\n",
       "      <th>384</th>\n",
       "      <td>Doubt</td>\n",
       "      <td>8.8</td>\n",
       "      <td>935</td>\n",
       "      <td>14359</td>\n",
       "      <td>5.090723e+07</td>\n",
       "    </tr>\n",
       "    <tr>\n",
       "      <th>399</th>\n",
       "      <td>Home</td>\n",
       "      <td>8.6</td>\n",
       "      <td>21412</td>\n",
       "      <td>228161</td>\n",
       "      <td>3.688710e+08</td>\n",
       "    </tr>\n",
       "    <tr>\n",
       "      <th>580</th>\n",
       "      <td>Watchmen</td>\n",
       "      <td>8.6</td>\n",
       "      <td>2900</td>\n",
       "      <td>13183</td>\n",
       "      <td>1.852590e+08</td>\n",
       "    </tr>\n",
       "    <tr>\n",
       "      <th>629</th>\n",
       "      <td>300</td>\n",
       "      <td>8.6</td>\n",
       "      <td>900</td>\n",
       "      <td>1271</td>\n",
       "      <td>4.226104e+08</td>\n",
       "    </tr>\n",
       "    <tr>\n",
       "      <th>239</th>\n",
       "      <td>'Back to the Future'</td>\n",
       "      <td>8.5</td>\n",
       "      <td>1057549</td>\n",
       "      <td>105</td>\n",
       "      <td>3.811098e+08</td>\n",
       "    </tr>\n",
       "    <tr>\n",
       "      <th>82</th>\n",
       "      <td>Psycho</td>\n",
       "      <td>8.5</td>\n",
       "      <td>603950</td>\n",
       "      <td>539</td>\n",
       "      <td>3.200000e+07</td>\n",
       "    </tr>\n",
       "    <tr>\n",
       "      <th>587</th>\n",
       "      <td>'The Dark Knight Rises'</td>\n",
       "      <td>8.4</td>\n",
       "      <td>1515727</td>\n",
       "      <td>49026</td>\n",
       "      <td>1.084939e+09</td>\n",
       "    </tr>\n",
       "    <tr>\n",
       "      <th>596</th>\n",
       "      <td>'Mortal Kombat'</td>\n",
       "      <td>8.4</td>\n",
       "      <td>3253</td>\n",
       "      <td>9312</td>\n",
       "      <td>1.221959e+08</td>\n",
       "    </tr>\n",
       "    <tr>\n",
       "      <th>110</th>\n",
       "      <td>'Dr. Strangelove or: How I Learned to Stop Wor...</td>\n",
       "      <td>8.4</td>\n",
       "      <td>450292</td>\n",
       "      <td>935</td>\n",
       "      <td>9.440272e+06</td>\n",
       "    </tr>\n",
       "    <tr>\n",
       "      <th>150</th>\n",
       "      <td>'Star Trek'</td>\n",
       "      <td>8.3</td>\n",
       "      <td>73444</td>\n",
       "      <td>13475</td>\n",
       "      <td>3.856804e+08</td>\n",
       "    </tr>\n",
       "    <tr>\n",
       "      <th>266</th>\n",
       "      <td>Aliens</td>\n",
       "      <td>8.3</td>\n",
       "      <td>652487</td>\n",
       "      <td>679</td>\n",
       "      <td>1.833165e+08</td>\n",
       "    </tr>\n",
       "    <tr>\n",
       "      <th>86</th>\n",
       "      <td>'The Avengers'</td>\n",
       "      <td>8.3</td>\n",
       "      <td>6779</td>\n",
       "      <td>24428</td>\n",
       "      <td>1.519558e+09</td>\n",
       "    </tr>\n",
       "    <tr>\n",
       "      <th>31</th>\n",
       "      <td>Metropolis</td>\n",
       "      <td>8.3</td>\n",
       "      <td>159924</td>\n",
       "      <td>19</td>\n",
       "      <td>6.504220e+05</td>\n",
       "    </tr>\n",
       "    <tr>\n",
       "      <th>78</th>\n",
       "      <td>'The Apartment'</td>\n",
       "      <td>8.3</td>\n",
       "      <td>164281</td>\n",
       "      <td>284</td>\n",
       "      <td>2.500000e+07</td>\n",
       "    </tr>\n",
       "    <tr>\n",
       "      <th>208</th>\n",
       "      <td>Amadeus</td>\n",
       "      <td>8.3</td>\n",
       "      <td>368847</td>\n",
       "      <td>279</td>\n",
       "      <td>5.197303e+07</td>\n",
       "    </tr>\n",
       "    <tr>\n",
       "      <th>198</th>\n",
       "      <td>Scarface</td>\n",
       "      <td>8.3</td>\n",
       "      <td>740537</td>\n",
       "      <td>111</td>\n",
       "      <td>6.588470e+07</td>\n",
       "    </tr>\n",
       "  </tbody>\n",
       "</table>\n",
       "</div>"
      ],
      "text/plain": [
       "                                                 title  averageRating  \\\n",
       "611                                         Barbershop            9.1   \n",
       "34                                             College            9.0   \n",
       "628                                            Savages            9.0   \n",
       "57                                      '12 Angry Men'            9.0   \n",
       "384                                              Doubt            8.8   \n",
       "399                                               Home            8.6   \n",
       "580                                           Watchmen            8.6   \n",
       "629                                                300            8.6   \n",
       "239                               'Back to the Future'            8.5   \n",
       "82                                              Psycho            8.5   \n",
       "587                            'The Dark Knight Rises'            8.4   \n",
       "596                                    'Mortal Kombat'            8.4   \n",
       "110  'Dr. Strangelove or: How I Learned to Stop Wor...            8.4   \n",
       "150                                        'Star Trek'            8.3   \n",
       "266                                             Aliens            8.3   \n",
       "86                                      'The Avengers'            8.3   \n",
       "31                                          Metropolis            8.3   \n",
       "78                                     'The Apartment'            8.3   \n",
       "208                                            Amadeus            8.3   \n",
       "198                                           Scarface            8.3   \n",
       "\n",
       "     numVotes      id       revenue  \n",
       "611      2375   10611  7.578164e+07  \n",
       "34       4638   13991  6.230276e+06  \n",
       "628      1677   82525  8.296615e+07  \n",
       "57     689432     389  1.000000e+06  \n",
       "384       935   14359  5.090723e+07  \n",
       "399     21412  228161  3.688710e+08  \n",
       "580      2900   13183  1.852590e+08  \n",
       "629       900    1271  4.226104e+08  \n",
       "239   1057549     105  3.811098e+08  \n",
       "82     603950     539  3.200000e+07  \n",
       "587   1515727   49026  1.084939e+09  \n",
       "596      3253    9312  1.221959e+08  \n",
       "110    450292     935  9.440272e+06  \n",
       "150     73444   13475  3.856804e+08  \n",
       "266    652487     679  1.833165e+08  \n",
       "86       6779   24428  1.519558e+09  \n",
       "31     159924      19  6.504220e+05  \n",
       "78     164281     284  2.500000e+07  \n",
       "208    368847     279  5.197303e+07  \n",
       "198    740537     111  6.588470e+07  "
      ]
     },
     "execution_count": 215,
     "metadata": {},
     "output_type": "execute_result"
    }
   ],
   "source": [
    "joined_movie_df_sortby_review = joined_movie_df.sort_values('averageRating', ascending=False)\n",
    "joined_movie_df_sortby_review.head(20)"
   ]
  },
  {
   "cell_type": "markdown",
   "metadata": {
    "id": "F42urHuzttjF"
   },
   "source": [
    "## 4. Update your data store\n",
    "Update your local database/data store with the cleaned data, following best practices for storing your cleaned data:\n",
    "\n",
    "- Must maintain different instances / versions of data (raw and cleaned data)\n",
    "- Must name the dataset files informatively\n",
    "- Ensure both the raw and cleaned data is saved to your database/data store"
   ]
  },
  {
   "cell_type": "code",
   "execution_count": 216,
   "metadata": {},
   "outputs": [],
   "source": [
    "# Saving the dataframes following join and sorting.\n",
    "\n",
    "joined_movie_df.to_csv('Movies_Datasets_WorkingDFs/joined_movie_df.csv')"
   ]
  },
  {
   "cell_type": "code",
   "execution_count": 217,
   "metadata": {},
   "outputs": [],
   "source": [
    "joined_movie_df_sortby_revenue.to_csv('Movies_Datasets_WorkingDFs/joined_movie_df_sortby_revenue.csv')"
   ]
  },
  {
   "cell_type": "code",
   "execution_count": 218,
   "metadata": {},
   "outputs": [],
   "source": [
    "joined_movie_df_sortby_review.to_csv('Movies_Datasets_WorkingDFs/joined_movie_df_sortby_review.csv')"
   ]
  },
  {
   "cell_type": "code",
   "execution_count": 219,
   "metadata": {},
   "outputs": [
    {
     "data": {
      "text/plain": [
       "['movie_review_df.csv',\n",
       " 'joined_movie_df_sortby_review.csv',\n",
       " 'movie_revenue_df.csv',\n",
       " 'movie_revenue_df_cleaned.csv',\n",
       " 'movie_review_df_cleaned.csv',\n",
       " 'joined_movie_df.csv',\n",
       " 'joined_movie_df_sortby_revenue.csv']"
      ]
     },
     "execution_count": 219,
     "metadata": {},
     "output_type": "execute_result"
    }
   ],
   "source": [
    "# Reviewing the files currently saved.\n",
    "\n",
    "os.listdir('Movies_Datasets_WorkingDFs')"
   ]
  },
  {
   "cell_type": "markdown",
   "metadata": {
    "id": "cGy_yddGtzhM"
   },
   "source": [
    "## 5. Answer the research question\n",
    "\n",
    "### **5.1:** Define and answer the research question \n",
    "Going back to the problem statement in step 1, use the cleaned data to answer the question you raised. Produce **at least** two visualizations using the cleaned data and explain how they help you answer the question."
   ]
  },
  {
   "cell_type": "markdown",
   "metadata": {
    "id": "gjedE4s4ZkEd"
   },
   "source": [
    "Research question: I want to identify if the movies with the highest reviews generate the highest overall revenue. "
   ]
  },
  {
   "cell_type": "markdown",
   "metadata": {},
   "source": [
    "I am creating two columns which represent a percent of max revenue (1.519558e+09) and a percent of max rating (10).  This is intended to present the data in a more easily interpretable way.  This will cerate two scales from 0 to 1 instead of one scale to 1519557910 and one to 10."
   ]
  },
  {
   "cell_type": "code",
   "execution_count": 220,
   "metadata": {},
   "outputs": [
    {
     "data": {
      "text/plain": [
       "10"
      ]
     },
     "execution_count": 220,
     "metadata": {},
     "output_type": "execute_result"
    }
   ],
   "source": [
    "# Setting a max for rating and revenue from which the range of 0 - 1 will be created.\n",
    "\n",
    "max_rating = 10\n",
    "max_rating"
   ]
  },
  {
   "cell_type": "code",
   "execution_count": 221,
   "metadata": {},
   "outputs": [
    {
     "data": {
      "text/plain": [
       "1519557910.0"
      ]
     },
     "execution_count": 221,
     "metadata": {},
     "output_type": "execute_result"
    }
   ],
   "source": [
    "max_revenue = joined_movie_df['revenue'].max()\n",
    "max_revenue"
   ]
  },
  {
   "cell_type": "code",
   "execution_count": 222,
   "metadata": {},
   "outputs": [],
   "source": [
    "#  Creating two new rows for the new percentages.\n",
    "\n",
    "joined_movie_df['percent_of_max_revenue'] = (joined_movie_df['averageRating'] / max_rating)\n",
    "joined_movie_df['percent_of_max_review'] = (joined_movie_df['revenue'] / max_revenue)"
   ]
  },
  {
   "cell_type": "code",
   "execution_count": 223,
   "metadata": {},
   "outputs": [
    {
     "name": "stdout",
     "output_type": "stream",
     "text": [
      "<class 'pandas.core.frame.DataFrame'>\n",
      "Index: 584 entries, 587 to 280\n",
      "Data columns (total 7 columns):\n",
      " #   Column                  Non-Null Count  Dtype  \n",
      "---  ------                  --------------  -----  \n",
      " 0   title                   584 non-null    object \n",
      " 1   averageRating           584 non-null    float64\n",
      " 2   numVotes                584 non-null    int64  \n",
      " 3   id                      584 non-null    int64  \n",
      " 4   revenue                 584 non-null    float64\n",
      " 5   percent_of_max_revenue  584 non-null    float64\n",
      " 6   percent_of_max_review   584 non-null    float64\n",
      "dtypes: float64(4), int64(2), object(1)\n",
      "memory usage: 36.5+ KB\n"
     ]
    }
   ],
   "source": [
    "# Verifying the new rows have been created.\n",
    "\n",
    "joined_movie_df.info()"
   ]
  },
  {
   "cell_type": "code",
   "execution_count": 224,
   "metadata": {},
   "outputs": [],
   "source": [
    "# Recreating the sorted by dataframes following the changes to the join dataframe.\n",
    "\n",
    "joined_movie_df_sortby_review = joined_movie_df.sort_values('percent_of_max_review', ascending=False)"
   ]
  },
  {
   "cell_type": "code",
   "execution_count": 225,
   "metadata": {},
   "outputs": [],
   "source": [
    "joined_movie_df_sortby_revenue = joined_movie_df.sort_values('percent_of_max_revenue', ascending=False)"
   ]
  },
  {
   "cell_type": "markdown",
   "metadata": {},
   "source": [
    "I am saving the new dataframes following the update."
   ]
  },
  {
   "cell_type": "code",
   "execution_count": 226,
   "metadata": {},
   "outputs": [],
   "source": [
    "joined_movie_df.to_csv('Movies_Datasets_WorkingDFs/joined_movie_df.csv')"
   ]
  },
  {
   "cell_type": "code",
   "execution_count": 227,
   "metadata": {},
   "outputs": [],
   "source": [
    "joined_movie_df_sortby_review.to_csv('Movies_Datasets_WorkingDFs/joined_movie_df_sortby_review.csv')"
   ]
  },
  {
   "cell_type": "code",
   "execution_count": 228,
   "metadata": {},
   "outputs": [],
   "source": [
    "joined_movie_df_sortby_revenue.to_csv('Movies_Datasets_WorkingDFs/joined_movie_df_sortby_revenue.csv')"
   ]
  },
  {
   "cell_type": "code",
   "execution_count": 229,
   "metadata": {},
   "outputs": [
    {
     "data": {
      "text/plain": [
       "['movie_review_df.csv',\n",
       " 'joined_movie_df_sortby_review.csv',\n",
       " 'movie_revenue_df.csv',\n",
       " 'movie_revenue_df_cleaned.csv',\n",
       " 'movie_review_df_cleaned.csv',\n",
       " 'joined_movie_df.csv',\n",
       " 'joined_movie_df_sortby_revenue.csv']"
      ]
     },
     "execution_count": 229,
     "metadata": {},
     "output_type": "execute_result"
    }
   ],
   "source": [
    "os.listdir('Movies_Datasets_WorkingDFs')"
   ]
  },
  {
   "cell_type": "code",
   "execution_count": 230,
   "metadata": {},
   "outputs": [],
   "source": [
    "import matplotlib.pyplot as plt"
   ]
  },
  {
   "cell_type": "markdown",
   "metadata": {},
   "source": [
    "I am now generating the graphs related to the research question."
   ]
  },
  {
   "cell_type": "markdown",
   "metadata": {},
   "source": [
    "Creating a dataframe of only the top 10 based on revenue or ratings respectively."
   ]
  },
  {
   "cell_type": "code",
   "execution_count": 231,
   "metadata": {},
   "outputs": [],
   "source": [
    "# limiting the charts to the top 16 based on revenue and rating.\n",
    "#  16 was chosen so that at least one movie would appear in each chart.\n",
    "\n",
    "joined_movie_df_sortby_revenue_top = joined_movie_df_sortby_revenue.head(16)\n",
    "joined_movie_df_sortby_review_top = joined_movie_df_sortby_review.head(16)"
   ]
  },
  {
   "cell_type": "code",
   "execution_count": 232,
   "metadata": {},
   "outputs": [
    {
     "data": {
      "text/plain": [
       "''"
      ]
     },
     "execution_count": 232,
     "metadata": {},
     "output_type": "execute_result"
    },
    {
     "data": {
      "image/png": "[encoded data removed]",
      "text/plain": [
       "<Figure size 640x480 with 1 Axes>"
      ]
     },
     "metadata": {},
     "output_type": "display_data"
    }
   ],
   "source": [
    "# Creating charts for Top 16 based on reviews and based on revenue.  \n",
    "# Each chart will contain the values for both the movie's percent of max for review and rating.\n",
    "\n",
    "chart1 = joined_movie_df_sortby_revenue_top.plot.barh(x = 'title', y = ['percent_of_max_revenue', 'percent_of_max_review'], rot = 30, legend=False)\n",
    "chart1.legend(loc='center left', bbox_to_anchor=(1.0, 0.5))\n",
    "chart1.set_title(\"Top 16 Movies Based on Revenue\")\n",
    "chart1.set_xlabel(\"% of Max Rating / Revenue\")\n",
    "chart1.set_ylabel(\"Movie\")\n",
    ";"
   ]
  },
  {
   "cell_type": "code",
   "execution_count": 233,
   "metadata": {},
   "outputs": [
    {
     "data": {
      "text/plain": [
       "''"
      ]
     },
     "execution_count": 233,
     "metadata": {},
     "output_type": "execute_result"
    },
    {
     "data": {
      "image/png": "[encoded data removed]",
      "text/plain": [
       "<Figure size 640x480 with 1 Axes>"
      ]
     },
     "metadata": {},
     "output_type": "display_data"
    }
   ],
   "source": [
    "chart2 = joined_movie_df_sortby_review_top.plot.barh(x = 'title', y = ['percent_of_max_revenue', 'percent_of_max_review'], rot = 30, legend=False)\n",
    "chart2.legend(loc='center left', bbox_to_anchor=(1.0, 0.5))\n",
    "chart2.set_title(\"Top 16 Movies Based on Ratings\")\n",
    "chart2.set_xlabel(\"% of Max Rating / Revenue\")\n",
    "chart2.set_ylabel(\"Movie\")\n",
    ";"
   ]
  },
  {
   "cell_type": "markdown",
   "metadata": {},
   "source": [
    "Based on these bar graphs it appears while there is some relationship between the highest rated movies and the movies generating the highest revenue, this is not true for many of the highest grossing movies in these datasets."
   ]
  },
  {
   "cell_type": "code",
   "execution_count": 234,
   "metadata": {},
   "outputs": [
    {
     "data": {
      "text/plain": [
       "''"
      ]
     },
     "execution_count": 234,
     "metadata": {},
     "output_type": "execute_result"
    },
    {
     "data": {
      "image/png": "[encoded data removed]",
      "text/plain": [
       "<Figure size 640x480 with 1 Axes>"
      ]
     },
     "metadata": {},
     "output_type": "display_data"
    }
   ],
   "source": [
    "# Creating a scatter chart of the percetage of max review and rating data.\n",
    "\n",
    "scatter_graph1 = joined_movie_df.plot.scatter(x='percent_of_max_revenue', y='percent_of_max_review', c='DarkBlue')\n",
    "scatter_graph1.set_title(\"Movie Ratings vs. Movie Revenue\")\n",
    ";"
   ]
  },
  {
   "cell_type": "markdown",
   "metadata": {
    "id": "K5RgvMGUZoHn"
   },
   "source": [
    "Based on the the scatter plot it appears that the movie review and revenue may have a weak correlation if any.  It appears the movie's rating/review does not greatly affect the revenue that movie can generate."
   ]
  },
  {
   "cell_type": "markdown",
   "metadata": {
    "id": "0ezWXXZVj-TP"
   },
   "source": [
    "### **5.2:** Reflection\n",
    "In 2-4 sentences, if you had more time to complete the project, what actions would you take? For example, which data quality and structural issues would you look into further, and what research questions would you further explore?"
   ]
  },
  {
   "cell_type": "markdown",
   "metadata": {
    "id": "XB3RBDG5kFe1"
   },
   "source": [
    "Regarding the datasets used to determine an answer, I would have preferred to have had datasets which were more closely related and complete.  I struggled greatly to find available datasets for this project.  For future projects I will need to familiarize myself with additional sources of data so that may have more options in selecting data.\n",
    "\n",
    "Regarding data quality, I would hav preferred to include the data which was not read into the dataframes from the original datasets.  I made many attempts; however, i was unable to bring this data into the dataframe efficiently and successfully.  While I believe the data used to create these graphs was useful to answer the question, a more complete dataframe may have procuded somewhat different results.\n",
    "\n",
    "Regarding research questions, it may be fun to go furthur into this data to see what genre's are prefered based on ratings and revenue as well.  I would most likely have come to a different conlcusion if the question was based only on the qty of movie tickets sold or focusing on revenue from streaming services."
   ]
  },
  {
   "cell_type": "code",
   "execution_count": null,
   "metadata": {},
   "outputs": [],
   "source": []
  }
 ],
 "metadata": {
  "colab": {
   "provenance": []
  },
  "kernelspec": {
   "display_name": "Python 3 (ipykernel)",
   "language": "python",
   "name": "python3"
  },
  "language_info": {
   "codemirror_mode": {
    "name": "ipython",
    "version": 3
   },
   "file_extension": ".py",
   "mimetype": "text/x-python",
   "name": "python",
   "nbconvert_exporter": "python",
   "pygments_lexer": "ipython3",
   "version": "3.10.11"
  }
 },
 "nbformat": 4,
 "nbformat_minor": 1
}
